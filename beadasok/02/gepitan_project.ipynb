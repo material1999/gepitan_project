{
  "nbformat": 4,
  "nbformat_minor": 0,
  "metadata": {
    "colab": {
      "name": "gepitan_project",
      "provenance": [],
      "collapsed_sections": []
    },
    "kernelspec": {
      "name": "python3",
      "display_name": "Python 3"
    },
    "language_info": {
      "name": "python"
    },
    "accelerator": "GPU"
  },
  "cells": [
    {
      "cell_type": "markdown",
      "source": [
        "# **Feladatleírás**"
      ],
      "metadata": {
        "id": "mGQH2IZJF8aP"
      }
    },
    {
      "cell_type": "markdown",
      "source": [
        "A projekt során egy felügyelt gépi tanulási problémát oldunk meg egy általunk tetszőlegesen választott adatbázison. A munkához egy banki adatbázist választottunk, amiben a bank az ügyfeleiről tárol el különféle adatokat. Ezek alapján azt szeretnénk megjósolni, hogy egy új ügyfél a jövőben fog-e betéti számlát nyitni."
      ],
      "metadata": {
        "id": "1IFjtr9KF_jb"
      }
    },
    {
      "cell_type": "markdown",
      "source": [
        "\n",
        "# Importok"
      ],
      "metadata": {
        "id": "2G08GpeLQgbH"
      }
    },
    {
      "cell_type": "code",
      "source": [
        "import os\n",
        "from zipfile import ZipFile\n",
        "import urllib.request\n",
        "import pandas as pd\n",
        "import numpy as np\n",
        "from sklearn import datasets\n",
        "from sklearn import preprocessing\n",
        "from sklearn.preprocessing import MinMaxScaler\n",
        "from sklearn.feature_selection import SelectKBest, chi2"
      ],
      "metadata": {
        "id": "FcYq3BU4Qmxs"
      },
      "execution_count": null,
      "outputs": []
    },
    {
      "cell_type": "markdown",
      "source": [
        "# **Dataset**"
      ],
      "metadata": {
        "id": "01PcqIgyGECr"
      }
    },
    {
      "cell_type": "markdown",
      "source": [
        "Az adatokat egy linkből importáltuk be. Az így elért adatokat kicsomagoltuk és betöltöttük."
      ],
      "metadata": {
        "id": "-DnQJPYnVm2A"
      }
    },
    {
      "cell_type": "code",
      "source": [
        "url = 'https://archive.ics.uci.edu/ml/machine-learning-databases/00222/bank.zip'\n",
        "urllib.request.urlretrieve(url, './bank.zip') \n",
        "with ZipFile('bank.zip', \"r\") as zipObj:\n",
        "    zipObj.extractall()\n",
        "\n",
        "bankdata_full = pd.read_csv(\"./bank-full.csv\", delimiter=';')\n",
        "# Tesztelesbol kiirjuk a beolvasott .csv fajl egyes reszeit\n",
        "print(\"Adatrekordok szama: \" + str(len(bankdata_full.index)))\n",
        "print(np.sort((bankdata_full['age'].unique())))"
      ],
      "metadata": {
        "colab": {
          "base_uri": "https://localhost:8080/"
        },
        "id": "49y75mf1PiFa",
        "outputId": "737f8927-c3f0-4103-d518-66d7ee56fe9f"
      },
      "execution_count": null,
      "outputs": [
        {
          "output_type": "stream",
          "name": "stdout",
          "text": [
            "Adatrekordok szama: 45211\n",
            "[18 19 20 21 22 23 24 25 26 27 28 29 30 31 32 33 34 35 36 37 38 39 40 41\n",
            " 42 43 44 45 46 47 48 49 50 51 52 53 54 55 56 57 58 59 60 61 62 63 64 65\n",
            " 66 67 68 69 70 71 72 73 74 75 76 77 78 79 80 81 82 83 84 85 86 87 88 89\n",
            " 90 92 93 94 95]\n"
          ]
        }
      ]
    },
    {
      "cell_type": "markdown",
      "source": [
        "# **Data processing (MK - I)**"
      ],
      "metadata": {
        "id": "C795hrY2f8UX"
      }
    },
    {
      "cell_type": "markdown",
      "source": [
        "Megnéztük, hogy mennyi olyan sorunk van az adathalmazban, amiben van üres cella."
      ],
      "metadata": {
        "id": "ZsukFa4Xwz7F"
      }
    },
    {
      "cell_type": "code",
      "source": [
        "str_labels = ['job', 'marital', 'education', 'default', 'housing', 'loan']\n",
        "int_labels = ['age', 'balance']\n",
        "\n",
        "'''\n",
        "labels = [\"age\", \"job\", \"marital\", \"education\", \"default\",\n",
        "          \"balance\", \"housing\", \"loan\", \"duration\"]\n",
        "'''\n",
        "labels = str_labels + int_labels\n",
        "\n",
        "for label in labels:\n",
        "    i = 0\n",
        "    for l in bankdata_full[label]:\n",
        "        if l == \"unknown\":\n",
        "            bankdata_dropped = bankdata_full.drop(bankdata_full.loc[bankdata_full[label] == \"unknown\"].index, inplace=False)\n",
        "            i += 1\n",
        "    print(label + \": \" + str(i))"
      ],
      "metadata": {
        "colab": {
          "base_uri": "https://localhost:8080/"
        },
        "id": "9c-qaLHYhjRt",
        "outputId": "b564f8e9-4723-42b6-e271-227df29033fd"
      },
      "execution_count": null,
      "outputs": [
        {
          "output_type": "stream",
          "name": "stdout",
          "text": [
            "job: 288\n",
            "marital: 0\n",
            "education: 1857\n",
            "default: 0\n",
            "housing: 0\n",
            "loan: 0\n",
            "age: 0\n",
            "balance: 0\n"
          ]
        }
      ]
    },
    {
      "cell_type": "markdown",
      "source": [
        "Majd ezeket kitöröltük."
      ],
      "metadata": {
        "id": "o2k2xIJts4PS"
      }
    },
    {
      "cell_type": "code",
      "source": [
        "print(\"Adatrekordok szama a torles utan: \" + str(len(bankdata_dropped.index)))"
      ],
      "metadata": {
        "colab": {
          "base_uri": "https://localhost:8080/"
        },
        "id": "UIMmvDmu3kjA",
        "outputId": "8cd082a4-7aa2-4cf7-c7b1-31e5bf2afb05"
      },
      "execution_count": null,
      "outputs": [
        {
          "output_type": "stream",
          "name": "stdout",
          "text": [
            "Adatrekordok szama a torles utan: 43354\n"
          ]
        }
      ]
    },
    {
      "cell_type": "markdown",
      "source": [
        "**Ordial Encoder**"
      ],
      "metadata": {
        "id": "pFXA68ZN_enO"
      }
    },
    {
      "cell_type": "code",
      "source": [
        "encoded_str = bankdata_dropped[str_labels]\n",
        "\n",
        "oe = preprocessing.OrdinalEncoder()\n",
        "encoded_str[str_labels] = oe.fit_transform(encoded_str[str_labels])\n",
        "\n",
        "print(encoded_str)"
      ],
      "metadata": {
        "id": "bzp2GA0zxp8y",
        "colab": {
          "base_uri": "https://localhost:8080/"
        },
        "outputId": "d41b007a-78ee-415a-eaa3-db802d2dfc28"
      },
      "execution_count": null,
      "outputs": [
        {
          "output_type": "stream",
          "name": "stdout",
          "text": [
            "       job  marital  education  default  housing  loan\n",
            "0      4.0      1.0        2.0      0.0      1.0   0.0\n",
            "1      9.0      2.0        1.0      0.0      1.0   0.0\n",
            "2      2.0      1.0        1.0      0.0      1.0   1.0\n",
            "5      4.0      1.0        2.0      0.0      1.0   0.0\n",
            "6      4.0      2.0        2.0      0.0      1.0   1.0\n",
            "...    ...      ...        ...      ...      ...   ...\n",
            "45206  9.0      1.0        2.0      0.0      0.0   0.0\n",
            "45207  5.0      0.0        0.0      0.0      0.0   0.0\n",
            "45208  5.0      1.0        1.0      0.0      0.0   0.0\n",
            "45209  1.0      1.0        1.0      0.0      0.0   0.0\n",
            "45210  2.0      1.0        1.0      0.0      0.0   0.0\n",
            "\n",
            "[43354 rows x 6 columns]\n"
          ]
        },
        {
          "output_type": "stream",
          "name": "stderr",
          "text": [
            "/usr/local/lib/python3.7/dist-packages/pandas/core/frame.py:3678: SettingWithCopyWarning: \n",
            "A value is trying to be set on a copy of a slice from a DataFrame.\n",
            "Try using .loc[row_indexer,col_indexer] = value instead\n",
            "\n",
            "See the caveats in the documentation: https://pandas.pydata.org/pandas-docs/stable/user_guide/indexing.html#returning-a-view-versus-a-copy\n",
            "  self[col] = igetitem(value, i)\n"
          ]
        }
      ]
    },
    {
      "cell_type": "markdown",
      "source": [
        "**MinMax Scaler**"
      ],
      "metadata": {
        "id": "kNeaw7lwyxET"
      }
    },
    {
      "cell_type": "code",
      "source": [
        "min_max_scaler = preprocessing.MinMaxScaler()\n",
        "encoded_str[str_labels] = min_max_scaler.fit_transform(encoded_str[str_labels])\n",
        "\n",
        "print(encoded_str)"
      ],
      "metadata": {
        "colab": {
          "base_uri": "https://localhost:8080/"
        },
        "id": "L2eCgwfCywKW",
        "outputId": "1b27e2e7-6ad5-4868-f9b6-5fde209ae2b9"
      },
      "execution_count": null,
      "outputs": [
        {
          "output_type": "stream",
          "name": "stdout",
          "text": [
            "            job  marital  education  default  housing  loan\n",
            "0      0.363636      0.5        1.0      0.0      1.0   0.0\n",
            "1      0.818182      1.0        0.5      0.0      1.0   0.0\n",
            "2      0.181818      0.5        0.5      0.0      1.0   1.0\n",
            "5      0.363636      0.5        1.0      0.0      1.0   0.0\n",
            "6      0.363636      1.0        1.0      0.0      1.0   1.0\n",
            "...         ...      ...        ...      ...      ...   ...\n",
            "45206  0.818182      0.5        1.0      0.0      0.0   0.0\n",
            "45207  0.454545      0.0        0.0      0.0      0.0   0.0\n",
            "45208  0.454545      0.5        0.5      0.0      0.0   0.0\n",
            "45209  0.090909      0.5        0.5      0.0      0.0   0.0\n",
            "45210  0.181818      0.5        0.5      0.0      0.0   0.0\n",
            "\n",
            "[43354 rows x 6 columns]\n"
          ]
        },
        {
          "output_type": "stream",
          "name": "stderr",
          "text": [
            "/usr/local/lib/python3.7/dist-packages/pandas/core/frame.py:3678: SettingWithCopyWarning: \n",
            "A value is trying to be set on a copy of a slice from a DataFrame.\n",
            "Try using .loc[row_indexer,col_indexer] = value instead\n",
            "\n",
            "See the caveats in the documentation: https://pandas.pydata.org/pandas-docs/stable/user_guide/indexing.html#returning-a-view-versus-a-copy\n",
            "  self[col] = igetitem(value, i)\n"
          ]
        }
      ]
    },
    {
      "cell_type": "markdown",
      "source": [
        "**Standard Scaler**"
      ],
      "metadata": {
        "id": "PrYzJcNrylcs"
      }
    },
    {
      "cell_type": "code",
      "source": [
        "encoded_int = bankdata_dropped[int_labels]\n",
        "\n",
        "ss = preprocessing.StandardScaler()\n",
        "encoded_int[int_labels] = ss.fit_transform(encoded_int[int_labels])\n",
        "\n",
        "print(encoded_int)"
      ],
      "metadata": {
        "id": "22PsiQruohdF",
        "colab": {
          "base_uri": "https://localhost:8080/"
        },
        "outputId": "6b80d40f-f3f8-4d51-8a1f-8172ef8c887a"
      },
      "execution_count": null,
      "outputs": [
        {
          "output_type": "stream",
          "name": "stdout",
          "text": [
            "            age   balance\n",
            "0      1.636763  0.259146\n",
            "1      0.305821 -0.436276\n",
            "2     -0.739919 -0.445158\n",
            "5     -0.549785 -0.369826\n",
            "6     -1.215256 -0.298770\n",
            "...         ...       ...\n",
            "45206  0.971292 -0.174423\n",
            "45207  2.872638  0.122957\n",
            "45208  2.967705  1.434192\n",
            "45209  1.541696 -0.226070\n",
            "45210 -0.359650  0.531525\n",
            "\n",
            "[43354 rows x 2 columns]\n"
          ]
        },
        {
          "output_type": "stream",
          "name": "stderr",
          "text": [
            "/usr/local/lib/python3.7/dist-packages/pandas/core/frame.py:3678: SettingWithCopyWarning: \n",
            "A value is trying to be set on a copy of a slice from a DataFrame.\n",
            "Try using .loc[row_indexer,col_indexer] = value instead\n",
            "\n",
            "See the caveats in the documentation: https://pandas.pydata.org/pandas-docs/stable/user_guide/indexing.html#returning-a-view-versus-a-copy\n",
            "  self[col] = igetitem(value, i)\n"
          ]
        }
      ]
    },
    {
      "cell_type": "markdown",
      "source": [
        "**Elkészült adatoszlopok összefűzése**"
      ],
      "metadata": {
        "id": "BpW7bq_My8Gj"
      }
    },
    {
      "cell_type": "code",
      "source": [
        "encoded_full = pd.concat([encoded_str, encoded_int], axis=1)\n",
        "print(encoded_full)"
      ],
      "metadata": {
        "id": "pzkCbndwqv_g",
        "colab": {
          "base_uri": "https://localhost:8080/"
        },
        "outputId": "a11ceeee-904b-4afd-a4f2-c0bd4de27cdf"
      },
      "execution_count": null,
      "outputs": [
        {
          "output_type": "stream",
          "name": "stdout",
          "text": [
            "            job  marital  education  default  housing  loan       age   balance\n",
            "0      0.363636      0.5        1.0      0.0      1.0   0.0  1.636763  0.259146\n",
            "1      0.818182      1.0        0.5      0.0      1.0   0.0  0.305821 -0.436276\n",
            "2      0.181818      0.5        0.5      0.0      1.0   1.0 -0.739919 -0.445158\n",
            "5      0.363636      0.5        1.0      0.0      1.0   0.0 -0.549785 -0.369826\n",
            "6      0.363636      1.0        1.0      0.0      1.0   1.0 -1.215256 -0.298770\n",
            "...         ...      ...        ...      ...      ...   ...       ...       ...\n",
            "45206  0.818182      0.5        1.0      0.0      0.0   0.0  0.971292 -0.174423\n",
            "45207  0.454545      0.0        0.0      0.0      0.0   0.0  2.872638  0.122957\n",
            "45208  0.454545      0.5        0.5      0.0      0.0   0.0  2.967705  1.434192\n",
            "45209  0.090909      0.5        0.5      0.0      0.0   0.0  1.541696 -0.226070\n",
            "45210  0.181818      0.5        0.5      0.0      0.0   0.0 -0.359650  0.531525\n",
            "\n",
            "[43354 rows x 8 columns]\n"
          ]
        }
      ]
    },
    {
      "cell_type": "markdown",
      "source": [
        "**Ellenőrzés átlag és szórás kiszámolása**"
      ],
      "metadata": {
        "id": "OEN6wnEqzBS-"
      }
    },
    {
      "cell_type": "code",
      "source": [
        "print(np.mean(encoded_full['age'],axis=0))\n",
        "print(np.std(encoded_full['age'],axis=0))"
      ],
      "metadata": {
        "colab": {
          "base_uri": "https://localhost:8080/"
        },
        "id": "ewXobE9rua_Q",
        "outputId": "06b2548a-0cc0-44bd-bd32-1d407cf5ca0e"
      },
      "execution_count": null,
      "outputs": [
        {
          "output_type": "stream",
          "name": "stdout",
          "text": [
            "-1.1595856186710912e-15\n",
            "1.0000000000000047\n"
          ]
        }
      ]
    },
    {
      "cell_type": "markdown",
      "source": [
        "**Egyelőre nem kell:**"
      ],
      "metadata": {
        "id": "selWZcdftopG"
      }
    },
    {
      "cell_type": "code",
      "source": [
        "encoded = pd.get_dummies(bankdata_full, columns=['job','contact','marital','education'])\n",
        "\n",
        "oe = preprocessing.OrdinalEncoder()\n",
        "ordial_encoded = oe.fit_transform(encoded['housing'].values.reshape(-1, 1))\n",
        "encoded['housing'] = ordial_encoded\n",
        "ordial_encoded = oe.fit_transform(encoded['default'].values.reshape(-1, 1))\n",
        "encoded['default'] = ordial_encoded\n",
        "ordial_encoded = oe.fit_transform(encoded['loan'].values.reshape(-1, 1))\n",
        "encoded['loan'] = ordial_encoded\n",
        "\n",
        "ordial_encoded = oe.fit_transform(encoded['y'].values.reshape(-1, 1))\n",
        "encoded['y'] = ordial_encoded\n",
        "\n",
        "print(encoded)"
      ],
      "metadata": {
        "id": "_zN5Dt9iksD2",
        "colab": {
          "base_uri": "https://localhost:8080/"
        },
        "outputId": "0e5aa109-0e72-417e-8a9b-bcfacd8af745"
      },
      "execution_count": null,
      "outputs": [
        {
          "output_type": "stream",
          "name": "stdout",
          "text": [
            "       age  default  ...  education_tertiary  education_unknown\n",
            "0       58      0.0  ...                   1                  0\n",
            "1       44      0.0  ...                   0                  0\n",
            "2       33      0.0  ...                   0                  0\n",
            "3       47      0.0  ...                   0                  1\n",
            "4       33      0.0  ...                   0                  1\n",
            "...    ...      ...  ...                 ...                ...\n",
            "45206   51      0.0  ...                   1                  0\n",
            "45207   71      0.0  ...                   0                  0\n",
            "45208   72      0.0  ...                   0                  0\n",
            "45209   57      0.0  ...                   0                  0\n",
            "45210   37      0.0  ...                   0                  0\n",
            "\n",
            "[45211 rows x 35 columns]\n"
          ]
        }
      ]
    }
  ]
}