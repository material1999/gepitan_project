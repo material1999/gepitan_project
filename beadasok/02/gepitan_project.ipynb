{
  "nbformat": 4,
  "nbformat_minor": 0,
  "metadata": {
    "colab": {
      "name": "gepitan_project",
      "provenance": [],
      "collapsed_sections": []
    },
    "kernelspec": {
      "name": "python3",
      "display_name": "Python 3"
    },
    "language_info": {
      "name": "python"
    },
    "accelerator": "GPU"
  },
  "cells": [
    {
      "cell_type": "markdown",
      "source": [
        "# **Feladatleírás**"
      ],
      "metadata": {
        "id": "mGQH2IZJF8aP"
      }
    },
    {
      "cell_type": "markdown",
      "source": [
        "A projekt során egy felügyelt gépi tanulási problémát oldunk meg egy általunk tetszőlegesen választott adatbázison. A munkához egy banki adatbázist választottunk, amiben a bank az ügyfeleiről tárol el különféle adatokat. Ezek alapján azt szeretnénk megjósolni, hogy egy új ügyfél a jövőben fog-e betéti számlát nyitni."
      ],
      "metadata": {
        "id": "1IFjtr9KF_jb"
      }
    },
    {
      "cell_type": "markdown",
      "source": [
        "# Importok"
      ],
      "metadata": {
        "id": "2G08GpeLQgbH"
      }
    },
    {
      "cell_type": "code",
      "source": [
        "import os\n",
        "from zipfile import ZipFile\n",
        "import urllib.request\n",
        "import pandas as pd\n",
        "import numpy as np\n",
        "from sklearn import datasets\n",
        "from sklearn import preprocessing\n",
        "from sklearn.preprocessing import MinMaxScaler\n",
        "from sklearn.feature_selection import SelectKBest, chi2"
      ],
      "metadata": {
        "id": "FcYq3BU4Qmxs"
      },
      "execution_count": 1,
      "outputs": []
    },
    {
      "cell_type": "markdown",
      "source": [
        "#Paraméterek"
      ],
      "metadata": {
        "id": "55aTj-A4r926"
      }
    },
    {
      "cell_type": "code",
      "source": [
        "str_labels = ['job', 'marital', 'education', 'default', 'housing', 'loan']\n",
        "int_labels = ['age', 'balance']\n",
        "labels = str_labels + int_labels\n",
        "\n",
        "empty_drop = True\n",
        "\n",
        "train_size = 0.7\n",
        "dev_size = 0.15\n",
        "test_size = 1 - train_size - dev_size"
      ],
      "metadata": {
        "id": "HFYidrVpr-g6"
      },
      "execution_count": 2,
      "outputs": []
    },
    {
      "cell_type": "markdown",
      "source": [
        "# **Dataset**"
      ],
      "metadata": {
        "id": "01PcqIgyGECr"
      }
    },
    {
      "cell_type": "markdown",
      "source": [
        "Az adatokat egy linkből importáltuk be. Az így elért adatokat kicsomagoltuk és betöltöttük."
      ],
      "metadata": {
        "id": "-DnQJPYnVm2A"
      }
    },
    {
      "cell_type": "code",
      "source": [
        "url = 'https://archive.ics.uci.edu/ml/machine-learning-databases/00222/bank.zip'\n",
        "urllib.request.urlretrieve(url, './bank.zip') \n",
        "with ZipFile('bank.zip', \"r\") as zipObj:\n",
        "    zipObj.extractall()\n",
        "\n",
        "bankdata_full = pd.read_csv(\"./bank-full.csv\", delimiter=';')\n",
        "# Tesztelesbol kiirjuk a beolvasott .csv fajl egyes reszeit\n",
        "print(\"Adatrekordok szama: \" + str(len(bankdata_full.index)))\n",
        "print(np.sort((bankdata_full['age'].unique())))"
      ],
      "metadata": {
        "colab": {
          "base_uri": "https://localhost:8080/"
        },
        "id": "49y75mf1PiFa",
        "outputId": "93fb0de8-f682-4446-ff25-3e8f1a2d9326"
      },
      "execution_count": 3,
      "outputs": [
        {
          "output_type": "stream",
          "name": "stdout",
          "text": [
            "Adatrekordok szama: 45211\n",
            "[18 19 20 21 22 23 24 25 26 27 28 29 30 31 32 33 34 35 36 37 38 39 40 41\n",
            " 42 43 44 45 46 47 48 49 50 51 52 53 54 55 56 57 58 59 60 61 62 63 64 65\n",
            " 66 67 68 69 70 71 72 73 74 75 76 77 78 79 80 81 82 83 84 85 86 87 88 89\n",
            " 90 92 93 94 95]\n"
          ]
        }
      ]
    },
    {
      "cell_type": "markdown",
      "source": [
        "# **Data processing (MK - I)**"
      ],
      "metadata": {
        "id": "C795hrY2f8UX"
      }
    },
    {
      "cell_type": "markdown",
      "source": [
        "Megnéztük, hogy mennyi olyan sorunk van az adathalmazban, amiben van üres cella."
      ],
      "metadata": {
        "id": "ZsukFa4Xwz7F"
      }
    },
    {
      "cell_type": "code",
      "source": [
        "for label in labels:\n",
        "    i = 0\n",
        "    for l in bankdata_full[label]:\n",
        "        if l == \"unknown\":\n",
        "            i += 1\n",
        "    print(label + \": \" + str(i))"
      ],
      "metadata": {
        "colab": {
          "base_uri": "https://localhost:8080/"
        },
        "id": "9c-qaLHYhjRt",
        "outputId": "13dd41d5-8d1d-4d9d-f0c6-da323bff06fb"
      },
      "execution_count": 4,
      "outputs": [
        {
          "output_type": "stream",
          "name": "stdout",
          "text": [
            "job: 288\n",
            "marital: 0\n",
            "education: 1857\n",
            "default: 0\n",
            "housing: 0\n",
            "loan: 0\n",
            "age: 0\n",
            "balance: 0\n"
          ]
        }
      ]
    },
    {
      "cell_type": "markdown",
      "source": [
        "Majd ezeket kitöröltük."
      ],
      "metadata": {
        "id": "o2k2xIJts4PS"
      }
    },
    {
      "cell_type": "code",
      "source": [
        "if empty_drop:\n",
        "    for label in labels:\n",
        "        for l in bankdata_full[label]:\n",
        "            if l == \"unknown\":\n",
        "                bankdata_dropped = bankdata_full.drop(bankdata_full.loc[bankdata_full[label] == \"unknown\"].index, inplace=False)\n",
        "    print(bankdata_dropped)\n",
        "else:\n",
        "    pass\n",
        "    # TODO: eldobás helyett valami más módszer az üres cellát tartalmazó sorok kezelésére"
      ],
      "metadata": {
        "colab": {
          "base_uri": "https://localhost:8080/"
        },
        "id": "UIMmvDmu3kjA",
        "outputId": "30032574-4c0b-4d77-b7a4-bebb7bd88b28"
      },
      "execution_count": 5,
      "outputs": [
        {
          "output_type": "stream",
          "name": "stdout",
          "text": [
            "       age           job   marital  education default  balance housing loan  \\\n",
            "0       58    management   married   tertiary      no     2143     yes   no   \n",
            "1       44    technician    single  secondary      no       29     yes   no   \n",
            "2       33  entrepreneur   married  secondary      no        2     yes  yes   \n",
            "5       35    management   married   tertiary      no      231     yes   no   \n",
            "6       28    management    single   tertiary      no      447     yes  yes   \n",
            "...    ...           ...       ...        ...     ...      ...     ...  ...   \n",
            "45206   51    technician   married   tertiary      no      825      no   no   \n",
            "45207   71       retired  divorced    primary      no     1729      no   no   \n",
            "45208   72       retired   married  secondary      no     5715      no   no   \n",
            "45209   57   blue-collar   married  secondary      no      668      no   no   \n",
            "45210   37  entrepreneur   married  secondary      no     2971      no   no   \n",
            "\n",
            "         contact  day month  duration  campaign  pdays  previous poutcome    y  \n",
            "0        unknown    5   may       261         1     -1         0  unknown   no  \n",
            "1        unknown    5   may       151         1     -1         0  unknown   no  \n",
            "2        unknown    5   may        76         1     -1         0  unknown   no  \n",
            "5        unknown    5   may       139         1     -1         0  unknown   no  \n",
            "6        unknown    5   may       217         1     -1         0  unknown   no  \n",
            "...          ...  ...   ...       ...       ...    ...       ...      ...  ...  \n",
            "45206   cellular   17   nov       977         3     -1         0  unknown  yes  \n",
            "45207   cellular   17   nov       456         2     -1         0  unknown  yes  \n",
            "45208   cellular   17   nov      1127         5    184         3  success  yes  \n",
            "45209  telephone   17   nov       508         4     -1         0  unknown   no  \n",
            "45210   cellular   17   nov       361         2    188        11    other   no  \n",
            "\n",
            "[43354 rows x 17 columns]\n"
          ]
        }
      ]
    },
    {
      "cell_type": "markdown",
      "source": [
        "**Ordial Encoder**"
      ],
      "metadata": {
        "id": "pFXA68ZN_enO"
      }
    },
    {
      "cell_type": "code",
      "source": [
        "encoded_str = bankdata_dropped[str_labels]\n",
        "\n",
        "oe = preprocessing.OrdinalEncoder()\n",
        "encoded_str[str_labels] = oe.fit_transform(encoded_str[str_labels])\n",
        "\n",
        "print(encoded_str)"
      ],
      "metadata": {
        "id": "bzp2GA0zxp8y",
        "colab": {
          "base_uri": "https://localhost:8080/"
        },
        "outputId": "a86493af-354e-46dd-9b5f-c045f785a99d"
      },
      "execution_count": 6,
      "outputs": [
        {
          "output_type": "stream",
          "name": "stdout",
          "text": [
            "       job  marital  education  default  housing  loan\n",
            "0      4.0      1.0        2.0      0.0      1.0   0.0\n",
            "1      9.0      2.0        1.0      0.0      1.0   0.0\n",
            "2      2.0      1.0        1.0      0.0      1.0   1.0\n",
            "5      4.0      1.0        2.0      0.0      1.0   0.0\n",
            "6      4.0      2.0        2.0      0.0      1.0   1.0\n",
            "...    ...      ...        ...      ...      ...   ...\n",
            "45206  9.0      1.0        2.0      0.0      0.0   0.0\n",
            "45207  5.0      0.0        0.0      0.0      0.0   0.0\n",
            "45208  5.0      1.0        1.0      0.0      0.0   0.0\n",
            "45209  1.0      1.0        1.0      0.0      0.0   0.0\n",
            "45210  2.0      1.0        1.0      0.0      0.0   0.0\n",
            "\n",
            "[43354 rows x 6 columns]\n"
          ]
        },
        {
          "output_type": "stream",
          "name": "stderr",
          "text": [
            "/usr/local/lib/python3.7/dist-packages/pandas/core/frame.py:3678: SettingWithCopyWarning: \n",
            "A value is trying to be set on a copy of a slice from a DataFrame.\n",
            "Try using .loc[row_indexer,col_indexer] = value instead\n",
            "\n",
            "See the caveats in the documentation: https://pandas.pydata.org/pandas-docs/stable/user_guide/indexing.html#returning-a-view-versus-a-copy\n",
            "  self[col] = igetitem(value, i)\n"
          ]
        }
      ]
    },
    {
      "cell_type": "markdown",
      "source": [
        "**MinMax Scaler**"
      ],
      "metadata": {
        "id": "kNeaw7lwyxET"
      }
    },
    {
      "cell_type": "code",
      "source": [
        "min_max_scaler = preprocessing.MinMaxScaler()\n",
        "encoded_str[str_labels] = min_max_scaler.fit_transform(encoded_str[str_labels])\n",
        "\n",
        "print(encoded_str)"
      ],
      "metadata": {
        "colab": {
          "base_uri": "https://localhost:8080/"
        },
        "id": "L2eCgwfCywKW",
        "outputId": "f56765d7-db16-4b2c-ebff-2485e168f49a"
      },
      "execution_count": 7,
      "outputs": [
        {
          "output_type": "stream",
          "name": "stdout",
          "text": [
            "            job  marital  education  default  housing  loan\n",
            "0      0.363636      0.5        1.0      0.0      1.0   0.0\n",
            "1      0.818182      1.0        0.5      0.0      1.0   0.0\n",
            "2      0.181818      0.5        0.5      0.0      1.0   1.0\n",
            "5      0.363636      0.5        1.0      0.0      1.0   0.0\n",
            "6      0.363636      1.0        1.0      0.0      1.0   1.0\n",
            "...         ...      ...        ...      ...      ...   ...\n",
            "45206  0.818182      0.5        1.0      0.0      0.0   0.0\n",
            "45207  0.454545      0.0        0.0      0.0      0.0   0.0\n",
            "45208  0.454545      0.5        0.5      0.0      0.0   0.0\n",
            "45209  0.090909      0.5        0.5      0.0      0.0   0.0\n",
            "45210  0.181818      0.5        0.5      0.0      0.0   0.0\n",
            "\n",
            "[43354 rows x 6 columns]\n"
          ]
        },
        {
          "output_type": "stream",
          "name": "stderr",
          "text": [
            "/usr/local/lib/python3.7/dist-packages/pandas/core/frame.py:3678: SettingWithCopyWarning: \n",
            "A value is trying to be set on a copy of a slice from a DataFrame.\n",
            "Try using .loc[row_indexer,col_indexer] = value instead\n",
            "\n",
            "See the caveats in the documentation: https://pandas.pydata.org/pandas-docs/stable/user_guide/indexing.html#returning-a-view-versus-a-copy\n",
            "  self[col] = igetitem(value, i)\n"
          ]
        }
      ]
    },
    {
      "cell_type": "markdown",
      "source": [
        "**Standard Scaler**"
      ],
      "metadata": {
        "id": "PrYzJcNrylcs"
      }
    },
    {
      "cell_type": "code",
      "source": [
        "encoded_int = bankdata_dropped[int_labels]\n",
        "\n",
        "ss = preprocessing.StandardScaler()\n",
        "encoded_int[int_labels] = ss.fit_transform(encoded_int[int_labels])\n",
        "\n",
        "print(encoded_int)"
      ],
      "metadata": {
        "id": "22PsiQruohdF",
        "colab": {
          "base_uri": "https://localhost:8080/"
        },
        "outputId": "f6856fbb-4e3a-4fbd-c7ac-03409808bb5e"
      },
      "execution_count": 8,
      "outputs": [
        {
          "output_type": "stream",
          "name": "stdout",
          "text": [
            "            age   balance\n",
            "0      1.636763  0.259146\n",
            "1      0.305821 -0.436276\n",
            "2     -0.739919 -0.445158\n",
            "5     -0.549785 -0.369826\n",
            "6     -1.215256 -0.298770\n",
            "...         ...       ...\n",
            "45206  0.971292 -0.174423\n",
            "45207  2.872638  0.122957\n",
            "45208  2.967705  1.434192\n",
            "45209  1.541696 -0.226070\n",
            "45210 -0.359650  0.531525\n",
            "\n",
            "[43354 rows x 2 columns]\n"
          ]
        },
        {
          "output_type": "stream",
          "name": "stderr",
          "text": [
            "/usr/local/lib/python3.7/dist-packages/pandas/core/frame.py:3678: SettingWithCopyWarning: \n",
            "A value is trying to be set on a copy of a slice from a DataFrame.\n",
            "Try using .loc[row_indexer,col_indexer] = value instead\n",
            "\n",
            "See the caveats in the documentation: https://pandas.pydata.org/pandas-docs/stable/user_guide/indexing.html#returning-a-view-versus-a-copy\n",
            "  self[col] = igetitem(value, i)\n"
          ]
        }
      ]
    },
    {
      "cell_type": "markdown",
      "source": [
        "**Ellenőrzésképp átlag és szórás kiszámolása**"
      ],
      "metadata": {
        "id": "OEN6wnEqzBS-"
      }
    },
    {
      "cell_type": "code",
      "source": [
        "print(np.mean(encoded_int['age'],axis=0))\n",
        "print(np.std(encoded_int['age'],axis=0))"
      ],
      "metadata": {
        "colab": {
          "base_uri": "https://localhost:8080/"
        },
        "id": "ewXobE9rua_Q",
        "outputId": "6c98da62-baa3-475a-cda9-eaf58b4f787b"
      },
      "execution_count": 9,
      "outputs": [
        {
          "output_type": "stream",
          "name": "stdout",
          "text": [
            "-1.1595856186710912e-15\n",
            "1.0000000000000047\n"
          ]
        }
      ]
    },
    {
      "cell_type": "markdown",
      "source": [
        "**Elkészült adatoszlopok összefűzése**"
      ],
      "metadata": {
        "id": "BpW7bq_My8Gj"
      }
    },
    {
      "cell_type": "code",
      "source": [
        "encoded_full = pd.concat([encoded_str, encoded_int], axis=1)\n",
        "print(encoded_full)"
      ],
      "metadata": {
        "id": "pzkCbndwqv_g",
        "colab": {
          "base_uri": "https://localhost:8080/"
        },
        "outputId": "1ceb8d59-8229-49a8-a499-5fb2cb4128d4"
      },
      "execution_count": 10,
      "outputs": [
        {
          "output_type": "stream",
          "name": "stdout",
          "text": [
            "            job  marital  education  default  housing  loan       age  \\\n",
            "0      0.363636      0.5        1.0      0.0      1.0   0.0  1.636763   \n",
            "1      0.818182      1.0        0.5      0.0      1.0   0.0  0.305821   \n",
            "2      0.181818      0.5        0.5      0.0      1.0   1.0 -0.739919   \n",
            "5      0.363636      0.5        1.0      0.0      1.0   0.0 -0.549785   \n",
            "6      0.363636      1.0        1.0      0.0      1.0   1.0 -1.215256   \n",
            "...         ...      ...        ...      ...      ...   ...       ...   \n",
            "45206  0.818182      0.5        1.0      0.0      0.0   0.0  0.971292   \n",
            "45207  0.454545      0.0        0.0      0.0      0.0   0.0  2.872638   \n",
            "45208  0.454545      0.5        0.5      0.0      0.0   0.0  2.967705   \n",
            "45209  0.090909      0.5        0.5      0.0      0.0   0.0  1.541696   \n",
            "45210  0.181818      0.5        0.5      0.0      0.0   0.0 -0.359650   \n",
            "\n",
            "        balance  \n",
            "0      0.259146  \n",
            "1     -0.436276  \n",
            "2     -0.445158  \n",
            "5     -0.369826  \n",
            "6     -0.298770  \n",
            "...         ...  \n",
            "45206 -0.174423  \n",
            "45207  0.122957  \n",
            "45208  1.434192  \n",
            "45209 -0.226070  \n",
            "45210  0.531525  \n",
            "\n",
            "[43354 rows x 8 columns]\n"
          ]
        }
      ]
    },
    {
      "cell_type": "markdown",
      "source": [
        "**Adathalmaz felosztása**"
      ],
      "metadata": {
        "id": "qtslvauPosNv"
      }
    },
    {
      "cell_type": "code",
      "source": [
        "train, dev, test = np.split(encoded_full.sample(frac=1, random_state=123456),\n",
        "                            [int(train_size*len(encoded_full)), int((train_size+dev_size)*len(encoded_full))])\n",
        "print(\"Train size: \" + str(train.size // 8))\n",
        "print(\"Dev size: \" + str(dev.size // 8))\n",
        "print(\"Test size: \" + str(test.size // 8))"
      ],
      "metadata": {
        "colab": {
          "base_uri": "https://localhost:8080/"
        },
        "id": "UgaK8neeosp0",
        "outputId": "ab55cd2f-9bf5-4082-91ae-ea5d861ec27c"
      },
      "execution_count": 11,
      "outputs": [
        {
          "output_type": "stream",
          "name": "stdout",
          "text": [
            "Train size: 30347\n",
            "Dev size: 6503\n",
            "Test size: 6504\n"
          ]
        }
      ]
    }
  ]
}