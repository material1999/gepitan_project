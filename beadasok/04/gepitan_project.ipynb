{
  "nbformat": 4,
  "nbformat_minor": 0,
  "metadata": {
    "colab": {
      "name": "gepitan_project",
      "provenance": [],
      "collapsed_sections": []
    },
    "kernelspec": {
      "name": "python3",
      "display_name": "Python 3"
    },
    "language_info": {
      "name": "python"
    },
    "accelerator": "GPU"
  },
  "cells": [
    {
      "cell_type": "markdown",
      "source": [
        "# **Feladatleírás**"
      ],
      "metadata": {
        "id": "mGQH2IZJF8aP"
      }
    },
    {
      "cell_type": "markdown",
      "source": [
        "A projekt során egy felügyelt gépi tanulási problémát oldunk meg egy általunk tetszőlegesen választott adatbázison. A munkához egy banki adatbázist választottunk, amiben a bank az ügyfeleiről tárol el különféle adatokat. Ezek alapján azt szeretnénk megjósolni, hogy egy új ügyfél a jövőben fog-e betéti számlát nyitni."
      ],
      "metadata": {
        "id": "1IFjtr9KF_jb"
      }
    },
    {
      "cell_type": "markdown",
      "source": [
        "# **Importok**"
      ],
      "metadata": {
        "id": "2G08GpeLQgbH"
      }
    },
    {
      "cell_type": "code",
      "source": [
        "import os\n",
        "from zipfile import ZipFile\n",
        "import urllib.request\n",
        "import pandas as pd\n",
        "import numpy as np\n",
        "from sklearn import datasets\n",
        "from sklearn import preprocessing\n",
        "from sklearn.preprocessing import MinMaxScaler\n",
        "from sklearn.feature_selection import SelectKBest, chi2\n",
        "from sklearn.dummy import DummyClassifier\n",
        "from sklearn.metrics import (accuracy_score, balanced_accuracy_score,\n",
        "recall_score, precision_score, f1_score, brier_score_loss)\n",
        "from scipy.stats import binom_test\n",
        "from sklearn.naive_bayes import GaussianNB\n",
        "from sklearn.mixture import GaussianMixture\n",
        "from sklearn.model_selection import GridSearchCV\n",
        "from sklearn.neighbors import NearestCentroid, KNeighborsClassifier"
      ],
      "metadata": {
        "id": "FcYq3BU4Qmxs"
      },
      "execution_count": 3,
      "outputs": []
    },
    {
      "cell_type": "markdown",
      "source": [
        "# **Paraméterek**"
      ],
      "metadata": {
        "id": "55aTj-A4r926"
      }
    },
    {
      "cell_type": "code",
      "source": [
        "str_labels = ['job', 'marital', 'education', 'default', 'housing', 'loan']\n",
        "int_labels = ['age', 'balance']\n",
        "labels = str_labels + int_labels\n",
        "\n",
        "empty_drop = True\n",
        "\n",
        "train_size = 0.7\n",
        "dev_size = 0.15\n",
        "test_size = 1 - train_size - dev_size"
      ],
      "metadata": {
        "id": "HFYidrVpr-g6"
      },
      "execution_count": 4,
      "outputs": []
    },
    {
      "cell_type": "markdown",
      "source": [
        "# **Dataset**"
      ],
      "metadata": {
        "id": "01PcqIgyGECr"
      }
    },
    {
      "cell_type": "markdown",
      "source": [
        "Az adatokat egy linkből importáltuk be. Az így elért adatokat kicsomagoltuk és betöltöttük."
      ],
      "metadata": {
        "id": "-DnQJPYnVm2A"
      }
    },
    {
      "cell_type": "code",
      "source": [
        "url = 'https://archive.ics.uci.edu/ml/machine-learning-databases/00222/bank.zip'\n",
        "urllib.request.urlretrieve(url, './bank.zip') \n",
        "with ZipFile('bank.zip', \"r\") as zipObj:\n",
        "    zipObj.extractall()\n",
        "\n",
        "bankdata_full = pd.read_csv(\"./bank-full.csv\", delimiter=';')\n",
        "# Tesztelesbol kiirjuk a beolvasott .csv fajl egyes reszeit\n",
        "print(\"Adatrekordok szama: \" + str(len(bankdata_full.index)))\n",
        "print(np.sort((bankdata_full['age'].unique())))"
      ],
      "metadata": {
        "colab": {
          "base_uri": "https://localhost:8080/"
        },
        "id": "49y75mf1PiFa",
        "outputId": "1ca83cad-40b3-4169-cfe8-386be8ed8248"
      },
      "execution_count": 5,
      "outputs": [
        {
          "output_type": "stream",
          "name": "stdout",
          "text": [
            "Adatrekordok szama: 45211\n",
            "[18 19 20 21 22 23 24 25 26 27 28 29 30 31 32 33 34 35 36 37 38 39 40 41\n",
            " 42 43 44 45 46 47 48 49 50 51 52 53 54 55 56 57 58 59 60 61 62 63 64 65\n",
            " 66 67 68 69 70 71 72 73 74 75 76 77 78 79 80 81 82 83 84 85 86 87 88 89\n",
            " 90 92 93 94 95]\n"
          ]
        }
      ]
    },
    {
      "cell_type": "markdown",
      "source": [
        "# **Adatfeldolgozás (MK - I)**"
      ],
      "metadata": {
        "id": "C795hrY2f8UX"
      }
    },
    {
      "cell_type": "markdown",
      "source": [
        "Megnéztük, hogy mennyi olyan sorunk van az adathalmazban, amiben van üres cella."
      ],
      "metadata": {
        "id": "ZsukFa4Xwz7F"
      }
    },
    {
      "cell_type": "code",
      "source": [
        "for label in labels:\n",
        "    i = 0\n",
        "    for l in bankdata_full[label]:\n",
        "        if l == \"unknown\":\n",
        "            i += 1\n",
        "    print(label + \": \" + str(i))"
      ],
      "metadata": {
        "colab": {
          "base_uri": "https://localhost:8080/"
        },
        "id": "9c-qaLHYhjRt",
        "outputId": "0ab41431-d76c-4399-cc03-07d159a08efa"
      },
      "execution_count": 6,
      "outputs": [
        {
          "output_type": "stream",
          "name": "stdout",
          "text": [
            "job: 288\n",
            "marital: 0\n",
            "education: 1857\n",
            "default: 0\n",
            "housing: 0\n",
            "loan: 0\n",
            "age: 0\n",
            "balance: 0\n"
          ]
        }
      ]
    },
    {
      "cell_type": "markdown",
      "source": [
        "Majd ezeket kitöröltük."
      ],
      "metadata": {
        "id": "o2k2xIJts4PS"
      }
    },
    {
      "cell_type": "code",
      "source": [
        "if empty_drop:\n",
        "    for label in labels:\n",
        "        for l in bankdata_full[label]:\n",
        "            if l == \"unknown\":\n",
        "                bankdata_dropped = bankdata_full.drop(bankdata_full.loc[bankdata_full[label] == \"unknown\"].index, inplace=False)\n",
        "    print(bankdata_dropped)\n",
        "else:\n",
        "    pass\n",
        "    # TODO: eldobás helyett valami más módszer az üres cellát tartalmazó sorok kezelésére"
      ],
      "metadata": {
        "colab": {
          "base_uri": "https://localhost:8080/"
        },
        "id": "UIMmvDmu3kjA",
        "outputId": "3d5e1428-2043-481c-d02a-42cc945165e4"
      },
      "execution_count": 7,
      "outputs": [
        {
          "output_type": "stream",
          "name": "stdout",
          "text": [
            "       age           job   marital  education default  balance housing loan  \\\n",
            "0       58    management   married   tertiary      no     2143     yes   no   \n",
            "1       44    technician    single  secondary      no       29     yes   no   \n",
            "2       33  entrepreneur   married  secondary      no        2     yes  yes   \n",
            "5       35    management   married   tertiary      no      231     yes   no   \n",
            "6       28    management    single   tertiary      no      447     yes  yes   \n",
            "...    ...           ...       ...        ...     ...      ...     ...  ...   \n",
            "45206   51    technician   married   tertiary      no      825      no   no   \n",
            "45207   71       retired  divorced    primary      no     1729      no   no   \n",
            "45208   72       retired   married  secondary      no     5715      no   no   \n",
            "45209   57   blue-collar   married  secondary      no      668      no   no   \n",
            "45210   37  entrepreneur   married  secondary      no     2971      no   no   \n",
            "\n",
            "         contact  day month  duration  campaign  pdays  previous poutcome    y  \n",
            "0        unknown    5   may       261         1     -1         0  unknown   no  \n",
            "1        unknown    5   may       151         1     -1         0  unknown   no  \n",
            "2        unknown    5   may        76         1     -1         0  unknown   no  \n",
            "5        unknown    5   may       139         1     -1         0  unknown   no  \n",
            "6        unknown    5   may       217         1     -1         0  unknown   no  \n",
            "...          ...  ...   ...       ...       ...    ...       ...      ...  ...  \n",
            "45206   cellular   17   nov       977         3     -1         0  unknown  yes  \n",
            "45207   cellular   17   nov       456         2     -1         0  unknown  yes  \n",
            "45208   cellular   17   nov      1127         5    184         3  success  yes  \n",
            "45209  telephone   17   nov       508         4     -1         0  unknown   no  \n",
            "45210   cellular   17   nov       361         2    188        11    other   no  \n",
            "\n",
            "[43354 rows x 17 columns]\n"
          ]
        }
      ]
    },
    {
      "cell_type": "code",
      "source": [
        "bankdata_dropped['loan'].value_counts()"
      ],
      "metadata": {
        "colab": {
          "base_uri": "https://localhost:8080/"
        },
        "id": "70AHwCHRG1KO",
        "outputId": "7f245abd-4804-468a-fffc-1d71d8257ed3"
      },
      "execution_count": 8,
      "outputs": [
        {
          "output_type": "execute_result",
          "data": {
            "text/plain": [
              "no     36243\n",
              "yes     7111\n",
              "Name: loan, dtype: int64"
            ]
          },
          "metadata": {},
          "execution_count": 8
        }
      ]
    },
    {
      "cell_type": "markdown",
      "source": [
        "**Ordial Encoder**"
      ],
      "metadata": {
        "id": "pFXA68ZN_enO"
      }
    },
    {
      "cell_type": "code",
      "source": [
        "encoded_str = bankdata_dropped[str_labels]\n",
        "\n",
        "oe = preprocessing.OrdinalEncoder()\n",
        "encoded_str[str_labels] = oe.fit_transform(encoded_str[str_labels])\n",
        "\n",
        "print(encoded_str)"
      ],
      "metadata": {
        "id": "bzp2GA0zxp8y",
        "colab": {
          "base_uri": "https://localhost:8080/"
        },
        "outputId": "e263c2bf-9c63-4a8c-d655-260a6ee32ac9"
      },
      "execution_count": 9,
      "outputs": [
        {
          "output_type": "stream",
          "name": "stdout",
          "text": [
            "       job  marital  education  default  housing  loan\n",
            "0      4.0      1.0        2.0      0.0      1.0   0.0\n",
            "1      9.0      2.0        1.0      0.0      1.0   0.0\n",
            "2      2.0      1.0        1.0      0.0      1.0   1.0\n",
            "5      4.0      1.0        2.0      0.0      1.0   0.0\n",
            "6      4.0      2.0        2.0      0.0      1.0   1.0\n",
            "...    ...      ...        ...      ...      ...   ...\n",
            "45206  9.0      1.0        2.0      0.0      0.0   0.0\n",
            "45207  5.0      0.0        0.0      0.0      0.0   0.0\n",
            "45208  5.0      1.0        1.0      0.0      0.0   0.0\n",
            "45209  1.0      1.0        1.0      0.0      0.0   0.0\n",
            "45210  2.0      1.0        1.0      0.0      0.0   0.0\n",
            "\n",
            "[43354 rows x 6 columns]\n"
          ]
        },
        {
          "output_type": "stream",
          "name": "stderr",
          "text": [
            "/usr/local/lib/python3.7/dist-packages/pandas/core/frame.py:3678: SettingWithCopyWarning: \n",
            "A value is trying to be set on a copy of a slice from a DataFrame.\n",
            "Try using .loc[row_indexer,col_indexer] = value instead\n",
            "\n",
            "See the caveats in the documentation: https://pandas.pydata.org/pandas-docs/stable/user_guide/indexing.html#returning-a-view-versus-a-copy\n",
            "  self[col] = igetitem(value, i)\n"
          ]
        }
      ]
    },
    {
      "cell_type": "markdown",
      "source": [
        "**MinMax Scaler**"
      ],
      "metadata": {
        "id": "kNeaw7lwyxET"
      }
    },
    {
      "cell_type": "code",
      "source": [
        "min_max_scaler = preprocessing.MinMaxScaler()\n",
        "encoded_str[str_labels] = min_max_scaler.fit_transform(encoded_str[str_labels])\n",
        "\n",
        "print(encoded_str)"
      ],
      "metadata": {
        "colab": {
          "base_uri": "https://localhost:8080/"
        },
        "id": "L2eCgwfCywKW",
        "outputId": "6952d072-73c5-490c-bb35-df80fe486bf2"
      },
      "execution_count": 10,
      "outputs": [
        {
          "output_type": "stream",
          "name": "stdout",
          "text": [
            "            job  marital  education  default  housing  loan\n",
            "0      0.363636      0.5        1.0      0.0      1.0   0.0\n",
            "1      0.818182      1.0        0.5      0.0      1.0   0.0\n",
            "2      0.181818      0.5        0.5      0.0      1.0   1.0\n",
            "5      0.363636      0.5        1.0      0.0      1.0   0.0\n",
            "6      0.363636      1.0        1.0      0.0      1.0   1.0\n",
            "...         ...      ...        ...      ...      ...   ...\n",
            "45206  0.818182      0.5        1.0      0.0      0.0   0.0\n",
            "45207  0.454545      0.0        0.0      0.0      0.0   0.0\n",
            "45208  0.454545      0.5        0.5      0.0      0.0   0.0\n",
            "45209  0.090909      0.5        0.5      0.0      0.0   0.0\n",
            "45210  0.181818      0.5        0.5      0.0      0.0   0.0\n",
            "\n",
            "[43354 rows x 6 columns]\n"
          ]
        },
        {
          "output_type": "stream",
          "name": "stderr",
          "text": [
            "/usr/local/lib/python3.7/dist-packages/pandas/core/frame.py:3678: SettingWithCopyWarning: \n",
            "A value is trying to be set on a copy of a slice from a DataFrame.\n",
            "Try using .loc[row_indexer,col_indexer] = value instead\n",
            "\n",
            "See the caveats in the documentation: https://pandas.pydata.org/pandas-docs/stable/user_guide/indexing.html#returning-a-view-versus-a-copy\n",
            "  self[col] = igetitem(value, i)\n"
          ]
        }
      ]
    },
    {
      "cell_type": "markdown",
      "source": [
        "**Standard Scaler**"
      ],
      "metadata": {
        "id": "PrYzJcNrylcs"
      }
    },
    {
      "cell_type": "code",
      "source": [
        "encoded_int = bankdata_dropped[int_labels]\n",
        "\n",
        "ss = preprocessing.StandardScaler()\n",
        "encoded_int[int_labels] = ss.fit_transform(encoded_int[int_labels])\n",
        "\n",
        "print(encoded_int)"
      ],
      "metadata": {
        "id": "22PsiQruohdF",
        "colab": {
          "base_uri": "https://localhost:8080/"
        },
        "outputId": "d768fe08-e03c-44bc-e397-f1cc6dd7c65f"
      },
      "execution_count": 11,
      "outputs": [
        {
          "output_type": "stream",
          "name": "stdout",
          "text": [
            "            age   balance\n",
            "0      1.636763  0.259146\n",
            "1      0.305821 -0.436276\n",
            "2     -0.739919 -0.445158\n",
            "5     -0.549785 -0.369826\n",
            "6     -1.215256 -0.298770\n",
            "...         ...       ...\n",
            "45206  0.971292 -0.174423\n",
            "45207  2.872638  0.122957\n",
            "45208  2.967705  1.434192\n",
            "45209  1.541696 -0.226070\n",
            "45210 -0.359650  0.531525\n",
            "\n",
            "[43354 rows x 2 columns]\n"
          ]
        },
        {
          "output_type": "stream",
          "name": "stderr",
          "text": [
            "/usr/local/lib/python3.7/dist-packages/pandas/core/frame.py:3678: SettingWithCopyWarning: \n",
            "A value is trying to be set on a copy of a slice from a DataFrame.\n",
            "Try using .loc[row_indexer,col_indexer] = value instead\n",
            "\n",
            "See the caveats in the documentation: https://pandas.pydata.org/pandas-docs/stable/user_guide/indexing.html#returning-a-view-versus-a-copy\n",
            "  self[col] = igetitem(value, i)\n"
          ]
        }
      ]
    },
    {
      "cell_type": "markdown",
      "source": [
        "**Ellenőrzésképp átlag és szórás kiszámolása**"
      ],
      "metadata": {
        "id": "OEN6wnEqzBS-"
      }
    },
    {
      "cell_type": "code",
      "source": [
        "print(np.mean(encoded_int['age'],axis=0))\n",
        "print(np.std(encoded_int['age'],axis=0))"
      ],
      "metadata": {
        "colab": {
          "base_uri": "https://localhost:8080/"
        },
        "id": "ewXobE9rua_Q",
        "outputId": "e5fdbba1-28ba-4be5-fac5-a8f0c325fc72"
      },
      "execution_count": 12,
      "outputs": [
        {
          "output_type": "stream",
          "name": "stdout",
          "text": [
            "-1.1595856186710912e-15\n",
            "1.0000000000000047\n"
          ]
        }
      ]
    },
    {
      "cell_type": "markdown",
      "source": [
        "**Elkészült adatoszlopok összefűzése**"
      ],
      "metadata": {
        "id": "BpW7bq_My8Gj"
      }
    },
    {
      "cell_type": "code",
      "source": [
        "encoded_full = pd.concat([encoded_str, encoded_int], axis=1)\n",
        "print(encoded_full)"
      ],
      "metadata": {
        "id": "pzkCbndwqv_g",
        "colab": {
          "base_uri": "https://localhost:8080/"
        },
        "outputId": "8f1d0643-46e8-430e-d07b-6eefd55ddca9"
      },
      "execution_count": 13,
      "outputs": [
        {
          "output_type": "stream",
          "name": "stdout",
          "text": [
            "            job  marital  education  default  housing  loan       age  \\\n",
            "0      0.363636      0.5        1.0      0.0      1.0   0.0  1.636763   \n",
            "1      0.818182      1.0        0.5      0.0      1.0   0.0  0.305821   \n",
            "2      0.181818      0.5        0.5      0.0      1.0   1.0 -0.739919   \n",
            "5      0.363636      0.5        1.0      0.0      1.0   0.0 -0.549785   \n",
            "6      0.363636      1.0        1.0      0.0      1.0   1.0 -1.215256   \n",
            "...         ...      ...        ...      ...      ...   ...       ...   \n",
            "45206  0.818182      0.5        1.0      0.0      0.0   0.0  0.971292   \n",
            "45207  0.454545      0.0        0.0      0.0      0.0   0.0  2.872638   \n",
            "45208  0.454545      0.5        0.5      0.0      0.0   0.0  2.967705   \n",
            "45209  0.090909      0.5        0.5      0.0      0.0   0.0  1.541696   \n",
            "45210  0.181818      0.5        0.5      0.0      0.0   0.0 -0.359650   \n",
            "\n",
            "        balance  \n",
            "0      0.259146  \n",
            "1     -0.436276  \n",
            "2     -0.445158  \n",
            "5     -0.369826  \n",
            "6     -0.298770  \n",
            "...         ...  \n",
            "45206 -0.174423  \n",
            "45207  0.122957  \n",
            "45208  1.434192  \n",
            "45209 -0.226070  \n",
            "45210  0.531525  \n",
            "\n",
            "[43354 rows x 8 columns]\n"
          ]
        }
      ]
    },
    {
      "cell_type": "markdown",
      "source": [
        "**Adathalmaz felosztása**"
      ],
      "metadata": {
        "id": "qtslvauPosNv"
      }
    },
    {
      "cell_type": "code",
      "source": [
        "train, dev, test = np.split(encoded_full.sample(frac=1, random_state=123456),\n",
        "                            [int(train_size*len(encoded_full)), int((train_size+dev_size)*len(encoded_full))])\n",
        "print(\"Train size: \" + str(train.size // 8))\n",
        "print(\"Dev size: \" + str(dev.size // 8))\n",
        "print(\"Test size: \" + str(test.size // 8))"
      ],
      "metadata": {
        "colab": {
          "base_uri": "https://localhost:8080/"
        },
        "id": "UgaK8neeosp0",
        "outputId": "aede76d8-67d4-4ed6-f6fd-ba6839a7b699"
      },
      "execution_count": 14,
      "outputs": [
        {
          "output_type": "stream",
          "name": "stdout",
          "text": [
            "Train size: 30347\n",
            "Dev size: 6503\n",
            "Test size: 6504\n"
          ]
        }
      ]
    },
    {
      "cell_type": "code",
      "source": [
        "x_train = train.drop(columns=['loan'])\n",
        "y_train = train['loan']\n",
        "\n",
        "x_dev = dev.drop(columns=['loan'])\n",
        "y_dev = dev['loan']\n",
        "\n",
        "x_test = test.drop(columns=['loan'])\n",
        "y_test = test['loan']"
      ],
      "metadata": {
        "id": "5-LQAcAW0yUC"
      },
      "execution_count": 15,
      "outputs": []
    },
    {
      "cell_type": "markdown",
      "source": [
        "# **Modellezés (MK - II)**"
      ],
      "metadata": {
        "id": "N5ZTtlQw9OqC"
      }
    },
    {
      "cell_type": "markdown",
      "source": [
        "**Kiértékelő függvények a tanító és a teszt halmazra, amikben különböző metrikákkal vizsgálhatjuk tanításaink sikerességét**"
      ],
      "metadata": {
        "id": "0t_aKpAvFgLN"
      }
    },
    {
      "cell_type": "code",
      "source": [
        "def evaluate_train():\n",
        "\n",
        "    print(y_train.value_counts(), \"\\n\")\n",
        "    unique, counts = np.unique(pred_train, return_counts=True)\n",
        "\n",
        "    print(dict(zip(unique, counts)),  \"\\n\")\n",
        "\n",
        "    test_accuracy_score = accuracy_score(y_train, pred_train)\n",
        "    print('train - accuracy_score: ', test_accuracy_score)\n",
        "\n",
        "    '''\n",
        "    n_success = np.sum(y_test == pred)\n",
        "    p = 0.90\n",
        "    interval = binom_test(n_success, y_test.shape[0], p=p)\n",
        "    print(\"Test-acc: \", acc, \"+/-\", interval, \"(\", p*100, \"%)\")\n",
        "    '''\n",
        "\n",
        "    test_balanced_accuracy_score = balanced_accuracy_score(y_train, pred_train)\n",
        "    print('train - balanced_accuracy_score: ', test_balanced_accuracy_score)\n",
        "\n",
        "    test_recall_score = recall_score(y_train, pred_train)\n",
        "    print('train - recall_score: ', test_recall_score)\n",
        "\n",
        "    test_precision_score = precision_score(y_train, pred_train, zero_division=0)\n",
        "    print('train - preision_score: ', test_precision_score)\n",
        "\n",
        "    test_f1_score = f1_score(y_train, pred_train)\n",
        "    print('train - f1_score: ', test_f1_score)\n",
        "\n",
        "    test_brier_score_loss = brier_score_loss(y_train, pred_train)\n",
        "    print('train - brier_score_loss: ', test_brier_score_loss)\n",
        "\n",
        "    print()"
      ],
      "metadata": {
        "id": "xyAj4jvySzrc"
      },
      "execution_count": 16,
      "outputs": []
    },
    {
      "cell_type": "code",
      "source": [
        "def evaluate_test():\n",
        "\n",
        "    print(y_test.value_counts(), \"\\n\")\n",
        "    unique, counts = np.unique(pred_test, return_counts=True)\n",
        "\n",
        "    print(dict(zip(unique, counts)),  \"\\n\")\n",
        "\n",
        "    test_accuracy_score = accuracy_score(y_test, pred_test)\n",
        "    print('test - accuracy_score: ', test_accuracy_score)\n",
        "\n",
        "    '''\n",
        "    n_success = np.sum(y_test == pred)\n",
        "    p = 0.90\n",
        "    interval = binom_test(n_success, y_test.shape[0], p=p)\n",
        "    print(\"Test-acc: \", acc, \"+/-\", interval, \"(\", p*100, \"%)\")\n",
        "    '''\n",
        "\n",
        "    test_balanced_accuracy_score = balanced_accuracy_score(y_test, pred_test)\n",
        "    print('test - balanced_accuracy_score: ', test_balanced_accuracy_score)\n",
        "\n",
        "    test_recall_score = recall_score(y_test, pred_test)\n",
        "    print('test - recall_score: ', test_recall_score)\n",
        "\n",
        "    test_precision_score = precision_score(y_test, pred_test, zero_division=0)\n",
        "    print('test - preision_score: ', test_precision_score)\n",
        "\n",
        "    test_f1_score = f1_score(y_test, pred_test)\n",
        "    print('test - f1_score: ', test_f1_score)\n",
        "\n",
        "    test_brier_score_loss = brier_score_loss(y_test, pred_test)\n",
        "    print('test - brier_score_loss: ', test_brier_score_loss)\n",
        "\n",
        "    print()"
      ],
      "metadata": {
        "id": "ia-DkoAJE_AT"
      },
      "execution_count": 17,
      "outputs": []
    },
    {
      "cell_type": "markdown",
      "source": [
        "**Baseline (Constant)**"
      ],
      "metadata": {
        "id": "ZWGbK8gktW4v"
      }
    },
    {
      "cell_type": "code",
      "source": [
        "base_line = DummyClassifier(strategy='constant', constant=1.0)\n",
        "base_line.fit(x_train, y_train)\n",
        "\n",
        "pred_train = base_line.predict(train)\n",
        "pred_test = base_line.predict(test)\n",
        "\n",
        "evaluate_train()\n",
        "evaluate_test()"
      ],
      "metadata": {
        "id": "FBh46plGtcv3",
        "colab": {
          "base_uri": "https://localhost:8080/"
        },
        "outputId": "0b96fc65-ef1e-45ba-8af4-f7a012822322"
      },
      "execution_count": 18,
      "outputs": [
        {
          "output_type": "stream",
          "name": "stdout",
          "text": [
            "0.0    25386\n",
            "1.0     4961\n",
            "Name: loan, dtype: int64 \n",
            "\n",
            "{1.0: 30347} \n",
            "\n",
            "train - accuracy_score:  0.1634757966191057\n",
            "train - balanced_accuracy_score:  0.5\n",
            "train - recall_score:  1.0\n",
            "train - preision_score:  0.1634757966191057\n",
            "train - f1_score:  0.2810128016313584\n",
            "train - brier_score_loss:  0.8365242033808943\n",
            "\n",
            "0.0    5448\n",
            "1.0    1056\n",
            "Name: loan, dtype: int64 \n",
            "\n",
            "{1.0: 6504} \n",
            "\n",
            "test - accuracy_score:  0.16236162361623616\n",
            "test - balanced_accuracy_score:  0.5\n",
            "test - recall_score:  1.0\n",
            "test - preision_score:  0.16236162361623616\n",
            "test - f1_score:  0.27936507936507937\n",
            "test - brier_score_loss:  0.8376383763837638\n",
            "\n"
          ]
        }
      ]
    },
    {
      "cell_type": "markdown",
      "source": [
        "**Baseline (Random)**"
      ],
      "metadata": {
        "id": "hGxpMhkY9KCQ"
      }
    },
    {
      "cell_type": "code",
      "source": [
        "pred_train = np.random.randint(0, 2, size=(1, len(y_train)))[0]\n",
        "pred_test = np.random.randint(0, 2, size=(1, len(y_test)))[0]\n",
        "\n",
        "evaluate_train()\n",
        "evaluate_test()"
      ],
      "metadata": {
        "colab": {
          "base_uri": "https://localhost:8080/"
        },
        "id": "kY6Goqkg9JMp",
        "outputId": "c65c4903-2d69-466b-c585-76e68f8422f3"
      },
      "execution_count": 19,
      "outputs": [
        {
          "output_type": "stream",
          "name": "stdout",
          "text": [
            "0.0    25386\n",
            "1.0     4961\n",
            "Name: loan, dtype: int64 \n",
            "\n",
            "{0: 15135, 1: 15212} \n",
            "\n",
            "train - accuracy_score:  0.498632484265331\n",
            "train - balanced_accuracy_score:  0.4990609849872415\n",
            "train - recall_score:  0.49969764160451524\n",
            "train - preision_score:  0.1629634499079674\n",
            "train - f1_score:  0.2457740544291875\n",
            "train - brier_score_loss:  0.501367515734669\n",
            "\n",
            "0.0    5448\n",
            "1.0    1056\n",
            "Name: loan, dtype: int64 \n",
            "\n",
            "{0: 3251, 1: 3253} \n",
            "\n",
            "test - accuracy_score:  0.5001537515375154\n",
            "test - balanced_accuracy_score:  0.5004734848484849\n",
            "test - recall_score:  0.5009469696969697\n",
            "test - preision_score:  0.16261912081155855\n",
            "test - f1_score:  0.24553260617312597\n",
            "test - brier_score_loss:  0.4998462484624846\n",
            "\n"
          ]
        }
      ]
    },
    {
      "cell_type": "markdown",
      "source": [
        "**Baseline (Random with given distribution)**"
      ],
      "metadata": {
        "id": "f_d47S1QAjLM"
      }
    },
    {
      "cell_type": "code",
      "source": [
        "pred_train = np.random.choice(2, len(pred_train), p=[0.83, 0.17])\n",
        "pred_test = np.random.choice(2, len(pred_test), p=[0.83, 0.17])\n",
        "\n",
        "evaluate_train()\n",
        "evaluate_test()"
      ],
      "metadata": {
        "colab": {
          "base_uri": "https://localhost:8080/"
        },
        "id": "AVY4ywnL__91",
        "outputId": "45feaed8-466d-4278-a770-9567df41437d"
      },
      "execution_count": 20,
      "outputs": [
        {
          "output_type": "stream",
          "name": "stdout",
          "text": [
            "0.0    25386\n",
            "1.0     4961\n",
            "Name: loan, dtype: int64 \n",
            "\n",
            "{0: 25238, 1: 5109} \n",
            "\n",
            "train - accuracy_score:  0.726035522456915\n",
            "train - balanced_accuracy_score:  0.5051568904118794\n",
            "train - recall_score:  0.17698044749042532\n",
            "train - preision_score:  0.17185359170091993\n",
            "train - f1_score:  0.17437934458788482\n",
            "train - brier_score_loss:  0.273964477543085\n",
            "\n",
            "0.0    5448\n",
            "1.0    1056\n",
            "Name: loan, dtype: int64 \n",
            "\n",
            "{0: 5425, 1: 1079} \n",
            "\n",
            "test - accuracy_score:  0.7313960639606396\n",
            "test - balanced_accuracy_score:  0.5106335936457083\n",
            "test - recall_score:  0.18371212121212122\n",
            "test - preision_score:  0.17979610750695088\n",
            "test - f1_score:  0.1817330210772834\n",
            "test - brier_score_loss:  0.2686039360393604\n",
            "\n"
          ]
        }
      ]
    },
    {
      "cell_type": "markdown",
      "source": [
        "**Baseline (Most Frequent)**"
      ],
      "metadata": {
        "id": "w2KWCafr80U-"
      }
    },
    {
      "cell_type": "code",
      "source": [
        "base_line = DummyClassifier(strategy='most_frequent')\n",
        "base_line.fit(x_train, y_train)\n",
        "\n",
        "pred_train = base_line.predict(train)\n",
        "pred_test = base_line.predict(test)\n",
        "\n",
        "evaluate_train()\n",
        "evaluate_test()"
      ],
      "metadata": {
        "colab": {
          "base_uri": "https://localhost:8080/"
        },
        "id": "yCX7gQaV8sLF",
        "outputId": "3410024a-a5b9-4511-d4bf-87d37cc25ca0"
      },
      "execution_count": 21,
      "outputs": [
        {
          "output_type": "stream",
          "name": "stdout",
          "text": [
            "0.0    25386\n",
            "1.0     4961\n",
            "Name: loan, dtype: int64 \n",
            "\n",
            "{0.0: 30347} \n",
            "\n",
            "train - accuracy_score:  0.8365242033808943\n",
            "train - balanced_accuracy_score:  0.5\n",
            "train - recall_score:  0.0\n",
            "train - preision_score:  0.0\n",
            "train - f1_score:  0.0\n",
            "train - brier_score_loss:  0.1634757966191057\n",
            "\n",
            "0.0    5448\n",
            "1.0    1056\n",
            "Name: loan, dtype: int64 \n",
            "\n",
            "{0.0: 6504} \n",
            "\n",
            "test - accuracy_score:  0.8376383763837638\n",
            "test - balanced_accuracy_score:  0.5\n",
            "test - recall_score:  0.0\n",
            "test - preision_score:  0.0\n",
            "test - f1_score:  0.0\n",
            "test - brier_score_loss:  0.16236162361623616\n",
            "\n"
          ]
        }
      ]
    },
    {
      "cell_type": "markdown",
      "source": [
        "**Gaussian Naive-Bayes**"
      ],
      "metadata": {
        "id": "q00QgsPYA9E_"
      }
    },
    {
      "cell_type": "code",
      "source": [
        "model = GaussianNB()\n",
        "model.fit(x_train, y_train)\n",
        "\n",
        "pred_train = model.predict(x_train)\n",
        "pred_test = model.predict(x_test)\n",
        "\n",
        "evaluate_train()\n",
        "evaluate_test()"
      ],
      "metadata": {
        "colab": {
          "base_uri": "https://localhost:8080/"
        },
        "id": "Ru7niogAA9aG",
        "outputId": "9eb917db-be39-4c3b-b804-87d42aa9c497"
      },
      "execution_count": 22,
      "outputs": [
        {
          "output_type": "stream",
          "name": "stdout",
          "text": [
            "0.0    25386\n",
            "1.0     4961\n",
            "Name: loan, dtype: int64 \n",
            "\n",
            "{0.0: 29792, 1.0: 555} \n",
            "\n",
            "train - accuracy_score:  0.8322733713381882\n",
            "train - balanced_accuracy_score:  0.5147314498610314\n",
            "train - recall_score:  0.042934892158838944\n",
            "train - preision_score:  0.3837837837837838\n",
            "train - f1_score:  0.0772298767222625\n",
            "train - brier_score_loss:  0.1677266286618117\n",
            "\n",
            "0.0    5448\n",
            "1.0    1056\n",
            "Name: loan, dtype: int64 \n",
            "\n",
            "{0.0: 6385, 1.0: 119} \n",
            "\n",
            "test - accuracy_score:  0.8322570725707257\n",
            "test - balanced_accuracy_score:  0.5128195501268188\n",
            "test - recall_score:  0.03977272727272727\n",
            "test - preision_score:  0.35294117647058826\n",
            "test - f1_score:  0.07148936170212765\n",
            "test - brier_score_loss:  0.1677429274292743\n",
            "\n"
          ]
        }
      ]
    },
    {
      "cell_type": "markdown",
      "source": [
        "**Gaussian Mixture Model**"
      ],
      "metadata": {
        "id": "ozvvCyg9Fvg_"
      }
    },
    {
      "cell_type": "code",
      "source": [
        "def make_prediction(gmms, x):\n",
        "    n_samples = x.shape[0]\n",
        "    p_test = np.zeros(n_samples)\n",
        "    for i in range(n_samples):\n",
        "        pred_val = -np.inf\n",
        "        for c_idx in range(len(gmms)):\n",
        "            dense_val = gmms[c_idx].score(x[i:(i+1)])\n",
        "            if dense_val > pred_val:\n",
        "                p_test[i]=c_idx\n",
        "                pred_val=dense_val\n",
        "    return p_test\n",
        "\n",
        "#cov_type = 'spherical'\n",
        "#cov_type = 'full'\n",
        "#cov_type = 'diag'\n",
        "cov_type = 'tied'\n",
        "n_components = 1\n",
        "gmm_models = {0:GaussianMixture(n_components=n_components, covariance_type=cov_type),\n",
        "              1:GaussianMixture(n_components=n_components, covariance_type=cov_type)}\n",
        "\n",
        "for (c_idx, model) in gmm_models.items():\n",
        "    #print(x_train[y_train == c_idx].shape)\n",
        "    model.fit(x_train[y_train == c_idx])\n",
        "\n",
        "pred_train = make_prediction(gmm_models, x_train)\n",
        "#print('train_acc: ', accuracy_score(y_train, pred_train))\n",
        "pred_test = make_prediction(gmm_models, x_test)\n",
        "#print('test_acc: ', accuracy_score(y_test, pred_test))\n",
        "\n",
        "evaluate_train()\n",
        "evaluate_test()"
      ],
      "metadata": {
        "colab": {
          "base_uri": "https://localhost:8080/"
        },
        "id": "q7ibJ63yFv25",
        "outputId": "0ec5c648-56cf-4f6e-d841-48f97a4c5a68"
      },
      "execution_count": 23,
      "outputs": [
        {
          "output_type": "stream",
          "name": "stdout",
          "text": [
            "0.0    25386\n",
            "1.0     4961\n",
            "Name: loan, dtype: int64 \n",
            "\n",
            "{0.0: 20176, 1.0: 10171} \n",
            "\n",
            "train - accuracy_score:  0.6507068243977988\n",
            "train - balanced_accuracy_score:  0.5726853217802714\n",
            "train - recall_score:  0.4567627494456763\n",
            "train - preision_score:  0.22279028610756071\n",
            "train - f1_score:  0.2994977531060006\n",
            "train - brier_score_loss:  0.3492931756022012\n",
            "\n",
            "0.0    5448\n",
            "1.0    1056\n",
            "Name: loan, dtype: int64 \n",
            "\n",
            "{0.0: 4354, 1.0: 2150} \n",
            "\n",
            "test - accuracy_score:  0.6420664206642066\n",
            "test - balanced_accuracy_score:  0.5508297456948338\n",
            "test - recall_score:  0.41571969696969696\n",
            "test - preision_score:  0.20418604651162792\n",
            "test - f1_score:  0.27386150966936995\n",
            "test - brier_score_loss:  0.35793357933579334\n",
            "\n"
          ]
        }
      ]
    },
    {
      "cell_type": "markdown",
      "source": [
        "**K Nearest Neighbour**"
      ],
      "metadata": {
        "id": "-XeGw_nMQA0o"
      }
    },
    {
      "cell_type": "code",
      "source": [
        "k = 2\n",
        "knn = KNeighborsClassifier(n_neighbors = k)\n",
        "\n",
        "knn.fit(x_train, y_train)\n",
        "\n",
        "pred_train = knn.predict(x_train)\n",
        "pred_test = knn.predict(x_test)\n",
        "\n",
        "evaluate_train()\n",
        "evaluate_test()"
      ],
      "metadata": {
        "colab": {
          "base_uri": "https://localhost:8080/"
        },
        "id": "RJvZZVD6QBIK",
        "outputId": "2f4d4f72-0d1a-4b7b-bc43-88f139013861"
      },
      "execution_count": 24,
      "outputs": [
        {
          "output_type": "stream",
          "name": "stdout",
          "text": [
            "0.0    25386\n",
            "1.0     4961\n",
            "Name: loan, dtype: int64 \n",
            "\n",
            "{0.0: 29063, 1.0: 1284} \n",
            "\n",
            "train - accuracy_score:  0.8787030019441789\n",
            "train - balanced_accuracy_score:  0.629168429213079\n",
            "train - recall_score:  0.25841564200765976\n",
            "train - preision_score:  0.9984423676012462\n",
            "train - f1_score:  0.4105684547638111\n",
            "train - brier_score_loss:  0.121296998055821\n",
            "\n",
            "0.0    5448\n",
            "1.0    1056\n",
            "Name: loan, dtype: int64 \n",
            "\n",
            "{0.0: 6276, 1.0: 228} \n",
            "\n",
            "test - accuracy_score:  0.826260762607626\n",
            "test - balanced_accuracy_score:  0.5226000367107195\n",
            "test - recall_score:  0.07291666666666667\n",
            "test - preision_score:  0.33771929824561403\n",
            "test - f1_score:  0.11993769470404986\n",
            "test - brier_score_loss:  0.17373923739237393\n",
            "\n"
          ]
        }
      ]
    },
    {
      "cell_type": "markdown",
      "source": [
        "**GridSearch a legjobb szomszédsági szám megtalálásához**"
      ],
      "metadata": {
        "id": "X14WKnzIY6aB"
      }
    },
    {
      "cell_type": "code",
      "source": [
        "tuned_parameters = [{'n_neighbors': range(21)}]\n",
        "scoring='accuracy'\n",
        "base_model = KNeighborsClassifier()\n",
        "clf = GridSearchCV(base_model, tuned_parameters, cv=5, scoring=scoring,\n",
        "                   return_train_score=True, refit=True)\n",
        "clf.fit(x_train, y_train)\n",
        "print(\"Best parameters set found on development set:\\n\")\n",
        "print(clf.best_params_)\n",
        "print(\"\\nGrid scores on development set:\\n\")\n",
        "val_means = clf.cv_results_['mean_test_score']\n",
        "val_stds = clf.cv_results_['std_test_score']\n",
        "for mean, std, params in zip(val_means, val_stds, clf.cv_results_['params']):\n",
        "    print(\"%0.3f (+/-%0.03f) for %r\"\n",
        "          % (mean, std * 2, params))"
      ],
      "metadata": {
        "colab": {
          "base_uri": "https://localhost:8080/"
        },
        "id": "1s0oCSRlXuXe",
        "outputId": "e0bb8363-9bf3-4d69-fd03-ad845aef9510"
      },
      "execution_count": 25,
      "outputs": [
        {
          "output_type": "stream",
          "name": "stdout",
          "text": [
            "Best parameters set found on development set:\n",
            "\n",
            "{'n_neighbors': 20}\n",
            "\n",
            "Grid scores on development set:\n",
            "\n",
            "nan (+/-nan) for {'n_neighbors': 0}\n",
            "0.758 (+/-0.006) for {'n_neighbors': 1}\n",
            "0.821 (+/-0.004) for {'n_neighbors': 2}\n",
            "0.794 (+/-0.004) for {'n_neighbors': 3}\n",
            "0.826 (+/-0.005) for {'n_neighbors': 4}\n",
            "0.815 (+/-0.003) for {'n_neighbors': 5}\n",
            "0.830 (+/-0.003) for {'n_neighbors': 6}\n",
            "0.824 (+/-0.003) for {'n_neighbors': 7}\n",
            "0.832 (+/-0.002) for {'n_neighbors': 8}\n",
            "0.828 (+/-0.003) for {'n_neighbors': 9}\n",
            "0.834 (+/-0.001) for {'n_neighbors': 10}\n",
            "0.831 (+/-0.003) for {'n_neighbors': 11}\n",
            "0.835 (+/-0.003) for {'n_neighbors': 12}\n",
            "0.833 (+/-0.004) for {'n_neighbors': 13}\n",
            "0.835 (+/-0.002) for {'n_neighbors': 14}\n",
            "0.835 (+/-0.003) for {'n_neighbors': 15}\n",
            "0.836 (+/-0.002) for {'n_neighbors': 16}\n",
            "0.835 (+/-0.003) for {'n_neighbors': 17}\n",
            "0.836 (+/-0.001) for {'n_neighbors': 18}\n",
            "0.835 (+/-0.002) for {'n_neighbors': 19}\n",
            "0.836 (+/-0.001) for {'n_neighbors': 20}\n"
          ]
        },
        {
          "output_type": "stream",
          "name": "stderr",
          "text": [
            "/usr/local/lib/python3.7/dist-packages/sklearn/model_selection/_validation.py:372: FitFailedWarning: \n",
            "5 fits failed out of a total of 105.\n",
            "The score on these train-test partitions for these parameters will be set to nan.\n",
            "If these failures are not expected, you can try to debug them by setting error_score='raise'.\n",
            "\n",
            "Below are more details about the failures:\n",
            "--------------------------------------------------------------------------------\n",
            "5 fits failed with the following error:\n",
            "Traceback (most recent call last):\n",
            "  File \"/usr/local/lib/python3.7/dist-packages/sklearn/model_selection/_validation.py\", line 680, in _fit_and_score\n",
            "    estimator.fit(X_train, y_train, **fit_params)\n",
            "  File \"/usr/local/lib/python3.7/dist-packages/sklearn/neighbors/_classification.py\", line 198, in fit\n",
            "    return self._fit(X, y)\n",
            "  File \"/usr/local/lib/python3.7/dist-packages/sklearn/neighbors/_base.py\", line 569, in _fit\n",
            "    raise ValueError(\"Expected n_neighbors > 0. Got %d\" % self.n_neighbors)\n",
            "ValueError: Expected n_neighbors > 0. Got 0\n",
            "\n",
            "  warnings.warn(some_fits_failed_message, FitFailedWarning)\n",
            "/usr/local/lib/python3.7/dist-packages/sklearn/model_selection/_search.py:972: UserWarning: One or more of the test scores are non-finite: [       nan 0.75766957 0.8209049  0.79355467 0.82607839 0.81480873\n",
            " 0.83019741 0.82387063 0.83187796 0.82802258 0.83355853 0.83128482\n",
            " 0.83471187 0.83296539 0.83507433 0.83500843 0.83550273 0.8351073\n",
            " 0.83583222 0.83527202 0.83586514]\n",
            "  category=UserWarning,\n",
            "/usr/local/lib/python3.7/dist-packages/sklearn/model_selection/_search.py:972: UserWarning: One or more of the train scores are non-finite: [       nan 0.99174547 0.87671762 0.87464164 0.85262958 0.85335454\n",
            " 0.84537186 0.84593205 0.84188718 0.84229908 0.84018191 0.84035491\n",
            " 0.83923453 0.83929219 0.83867433 0.83872375 0.83829538 0.83823771\n",
            " 0.83764458 0.83780934 0.83733977]\n",
            "  category=UserWarning,\n"
          ]
        }
      ]
    },
    {
      "cell_type": "markdown",
      "source": [
        "**Nearest Centroid**"
      ],
      "metadata": {
        "id": "WMJYv43zV9J7"
      }
    },
    {
      "cell_type": "code",
      "source": [
        "nc = NearestCentroid()\n",
        "nc.fit(x_train, y_train)\n",
        "\n",
        "pred_train = nc.predict(x_train)\n",
        "pred_test = nc.predict(x_test)\n",
        "\n",
        "evaluate_train()\n",
        "evaluate_test()"
      ],
      "metadata": {
        "colab": {
          "base_uri": "https://localhost:8080/"
        },
        "id": "JsTtYNCPWNpZ",
        "outputId": "432da287-0825-418b-c01e-8180aaf4b881"
      },
      "execution_count": 26,
      "outputs": [
        {
          "output_type": "stream",
          "name": "stdout",
          "text": [
            "0.0    25386\n",
            "1.0     4961\n",
            "Name: loan, dtype: int64 \n",
            "\n",
            "{0.0: 10661, 1.0: 19686} \n",
            "\n",
            "train - accuracy_score:  0.4352324776748937\n",
            "train - balanced_accuracy_score:  0.5645561337623568\n",
            "train - recall_score:  0.7567022777665793\n",
            "train - preision_score:  0.19069389413796606\n",
            "train - f1_score:  0.3046212520793605\n",
            "train - brier_score_loss:  0.5647675223251063\n",
            "\n",
            "0.0    5448\n",
            "1.0    1056\n",
            "Name: loan, dtype: int64 \n",
            "\n",
            "{0.0: 2293, 1.0: 4211} \n",
            "\n",
            "test - accuracy_score:  0.43219557195571956\n",
            "test - balanced_accuracy_score:  0.5583888165798958\n",
            "test - recall_score:  0.7452651515151515\n",
            "test - preision_score:  0.18689147470909523\n",
            "test - f1_score:  0.29884184545281944\n",
            "test - brier_score_loss:  0.5678044280442804\n",
            "\n"
          ]
        }
      ]
    }
  ]
}