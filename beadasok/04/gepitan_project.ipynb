{
  "nbformat": 4,
  "nbformat_minor": 0,
  "metadata": {
    "colab": {
      "name": "gepitan_project",
      "provenance": [],
      "collapsed_sections": []
    },
    "kernelspec": {
      "name": "python3",
      "display_name": "Python 3"
    },
    "language_info": {
      "name": "python"
    },
    "accelerator": "GPU"
  },
  "cells": [
    {
      "cell_type": "markdown",
      "source": [
        "# **Feladatleírás**"
      ],
      "metadata": {
        "id": "mGQH2IZJF8aP"
      }
    },
    {
      "cell_type": "markdown",
      "source": [
        "A projekt során egy felügyelt gépi tanulási problémát oldunk meg egy általunk tetszőlegesen választott adatbázison. A munkához egy banki adatbázist választottunk, amiben a bank az ügyfeleiről tárol el különféle adatokat. Ezek alapján azt szeretnénk megjósolni, hogy egy új ügyfél a jövőben fog-e betéti számlát nyitni."
      ],
      "metadata": {
        "id": "1IFjtr9KF_jb"
      }
    },
    {
      "cell_type": "markdown",
      "source": [
        "# Importok"
      ],
      "metadata": {
        "id": "2G08GpeLQgbH"
      }
    },
    {
      "cell_type": "code",
      "source": [
        "import os\n",
        "from zipfile import ZipFile\n",
        "import urllib.request\n",
        "import pandas as pd\n",
        "import numpy as np\n",
        "from sklearn import datasets\n",
        "from sklearn import preprocessing\n",
        "from sklearn.preprocessing import MinMaxScaler\n",
        "from sklearn.feature_selection import SelectKBest, chi2\n",
        "from sklearn.dummy import DummyClassifier\n",
        "from sklearn.metrics import accuracy_score, balanced_accuracy_score, recall_score, precision_score, f1_score, brier_score_loss\n",
        "from scipy.stats import binom_test\n",
        "from sklearn.naive_bayes import GaussianNB\n",
        "from sklearn.mixture import GaussianMixture\n",
        "from sklearn.model_selection import GridSearchCV\n",
        "from sklearn.neighbors import NearestCentroid, KNeighborsClassifier"
      ],
      "metadata": {
        "id": "FcYq3BU4Qmxs"
      },
      "execution_count": 155,
      "outputs": []
    },
    {
      "cell_type": "markdown",
      "source": [
        "#Paraméterek"
      ],
      "metadata": {
        "id": "55aTj-A4r926"
      }
    },
    {
      "cell_type": "code",
      "source": [
        "str_labels = ['job', 'marital', 'education', 'default', 'housing', 'loan']\n",
        "int_labels = ['age', 'balance']\n",
        "labels = str_labels + int_labels\n",
        "\n",
        "empty_drop = True\n",
        "\n",
        "train_size = 0.7\n",
        "dev_size = 0.15\n",
        "test_size = 1 - train_size - dev_size"
      ],
      "metadata": {
        "id": "HFYidrVpr-g6"
      },
      "execution_count": 156,
      "outputs": []
    },
    {
      "cell_type": "markdown",
      "source": [
        "# **Dataset**"
      ],
      "metadata": {
        "id": "01PcqIgyGECr"
      }
    },
    {
      "cell_type": "markdown",
      "source": [
        "Az adatokat egy linkből importáltuk be. Az így elért adatokat kicsomagoltuk és betöltöttük."
      ],
      "metadata": {
        "id": "-DnQJPYnVm2A"
      }
    },
    {
      "cell_type": "code",
      "source": [
        "url = 'https://archive.ics.uci.edu/ml/machine-learning-databases/00222/bank.zip'\n",
        "urllib.request.urlretrieve(url, './bank.zip') \n",
        "with ZipFile('bank.zip', \"r\") as zipObj:\n",
        "    zipObj.extractall()\n",
        "\n",
        "bankdata_full = pd.read_csv(\"./bank-full.csv\", delimiter=';')\n",
        "# Tesztelesbol kiirjuk a beolvasott .csv fajl egyes reszeit\n",
        "print(\"Adatrekordok szama: \" + str(len(bankdata_full.index)))\n",
        "print(np.sort((bankdata_full['age'].unique())))"
      ],
      "metadata": {
        "colab": {
          "base_uri": "https://localhost:8080/"
        },
        "id": "49y75mf1PiFa",
        "outputId": "caee9122-de9a-455b-a29d-9d7c2e83353c"
      },
      "execution_count": 157,
      "outputs": [
        {
          "output_type": "stream",
          "name": "stdout",
          "text": [
            "Adatrekordok szama: 45211\n",
            "[18 19 20 21 22 23 24 25 26 27 28 29 30 31 32 33 34 35 36 37 38 39 40 41\n",
            " 42 43 44 45 46 47 48 49 50 51 52 53 54 55 56 57 58 59 60 61 62 63 64 65\n",
            " 66 67 68 69 70 71 72 73 74 75 76 77 78 79 80 81 82 83 84 85 86 87 88 89\n",
            " 90 92 93 94 95]\n"
          ]
        }
      ]
    },
    {
      "cell_type": "markdown",
      "source": [
        "# **Data processing (MK - I)**"
      ],
      "metadata": {
        "id": "C795hrY2f8UX"
      }
    },
    {
      "cell_type": "markdown",
      "source": [
        "Megnéztük, hogy mennyi olyan sorunk van az adathalmazban, amiben van üres cella."
      ],
      "metadata": {
        "id": "ZsukFa4Xwz7F"
      }
    },
    {
      "cell_type": "code",
      "source": [
        "for label in labels:\n",
        "    i = 0\n",
        "    for l in bankdata_full[label]:\n",
        "        if l == \"unknown\":\n",
        "            i += 1\n",
        "    print(label + \": \" + str(i))"
      ],
      "metadata": {
        "colab": {
          "base_uri": "https://localhost:8080/"
        },
        "id": "9c-qaLHYhjRt",
        "outputId": "79cb56ff-b480-42f2-c0d3-50bee6c63708"
      },
      "execution_count": 158,
      "outputs": [
        {
          "output_type": "stream",
          "name": "stdout",
          "text": [
            "job: 288\n",
            "marital: 0\n",
            "education: 1857\n",
            "default: 0\n",
            "housing: 0\n",
            "loan: 0\n",
            "age: 0\n",
            "balance: 0\n"
          ]
        }
      ]
    },
    {
      "cell_type": "markdown",
      "source": [
        "Majd ezeket kitöröltük."
      ],
      "metadata": {
        "id": "o2k2xIJts4PS"
      }
    },
    {
      "cell_type": "code",
      "source": [
        "if empty_drop:\n",
        "    for label in labels:\n",
        "        for l in bankdata_full[label]:\n",
        "            if l == \"unknown\":\n",
        "                bankdata_dropped = bankdata_full.drop(bankdata_full.loc[bankdata_full[label] == \"unknown\"].index, inplace=False)\n",
        "    print(bankdata_dropped)\n",
        "else:\n",
        "    pass\n",
        "    # TODO: eldobás helyett valami más módszer az üres cellát tartalmazó sorok kezelésére"
      ],
      "metadata": {
        "colab": {
          "base_uri": "https://localhost:8080/"
        },
        "id": "UIMmvDmu3kjA",
        "outputId": "7db386c8-7d2e-4658-d678-fa03e227f49e"
      },
      "execution_count": 159,
      "outputs": [
        {
          "output_type": "stream",
          "name": "stdout",
          "text": [
            "       age           job   marital  education default  balance housing loan  \\\n",
            "0       58    management   married   tertiary      no     2143     yes   no   \n",
            "1       44    technician    single  secondary      no       29     yes   no   \n",
            "2       33  entrepreneur   married  secondary      no        2     yes  yes   \n",
            "5       35    management   married   tertiary      no      231     yes   no   \n",
            "6       28    management    single   tertiary      no      447     yes  yes   \n",
            "...    ...           ...       ...        ...     ...      ...     ...  ...   \n",
            "45206   51    technician   married   tertiary      no      825      no   no   \n",
            "45207   71       retired  divorced    primary      no     1729      no   no   \n",
            "45208   72       retired   married  secondary      no     5715      no   no   \n",
            "45209   57   blue-collar   married  secondary      no      668      no   no   \n",
            "45210   37  entrepreneur   married  secondary      no     2971      no   no   \n",
            "\n",
            "         contact  day month  duration  campaign  pdays  previous poutcome    y  \n",
            "0        unknown    5   may       261         1     -1         0  unknown   no  \n",
            "1        unknown    5   may       151         1     -1         0  unknown   no  \n",
            "2        unknown    5   may        76         1     -1         0  unknown   no  \n",
            "5        unknown    5   may       139         1     -1         0  unknown   no  \n",
            "6        unknown    5   may       217         1     -1         0  unknown   no  \n",
            "...          ...  ...   ...       ...       ...    ...       ...      ...  ...  \n",
            "45206   cellular   17   nov       977         3     -1         0  unknown  yes  \n",
            "45207   cellular   17   nov       456         2     -1         0  unknown  yes  \n",
            "45208   cellular   17   nov      1127         5    184         3  success  yes  \n",
            "45209  telephone   17   nov       508         4     -1         0  unknown   no  \n",
            "45210   cellular   17   nov       361         2    188        11    other   no  \n",
            "\n",
            "[43354 rows x 17 columns]\n"
          ]
        }
      ]
    },
    {
      "cell_type": "code",
      "source": [
        "bankdata_dropped['loan'].value_counts()"
      ],
      "metadata": {
        "colab": {
          "base_uri": "https://localhost:8080/"
        },
        "id": "70AHwCHRG1KO",
        "outputId": "6097576f-dbc1-4111-c45a-636be1d04db0"
      },
      "execution_count": 160,
      "outputs": [
        {
          "output_type": "execute_result",
          "data": {
            "text/plain": [
              "no     36243\n",
              "yes     7111\n",
              "Name: loan, dtype: int64"
            ]
          },
          "metadata": {},
          "execution_count": 160
        }
      ]
    },
    {
      "cell_type": "markdown",
      "source": [
        "**Ordial Encoder**"
      ],
      "metadata": {
        "id": "pFXA68ZN_enO"
      }
    },
    {
      "cell_type": "code",
      "source": [
        "encoded_str = bankdata_dropped[str_labels]\n",
        "\n",
        "oe = preprocessing.OrdinalEncoder()\n",
        "encoded_str[str_labels] = oe.fit_transform(encoded_str[str_labels])\n",
        "\n",
        "print(encoded_str)"
      ],
      "metadata": {
        "id": "bzp2GA0zxp8y",
        "colab": {
          "base_uri": "https://localhost:8080/"
        },
        "outputId": "1af85796-0844-4040-da6b-c0e221d22f1a"
      },
      "execution_count": 161,
      "outputs": [
        {
          "output_type": "stream",
          "name": "stdout",
          "text": [
            "       job  marital  education  default  housing  loan\n",
            "0      4.0      1.0        2.0      0.0      1.0   0.0\n",
            "1      9.0      2.0        1.0      0.0      1.0   0.0\n",
            "2      2.0      1.0        1.0      0.0      1.0   1.0\n",
            "5      4.0      1.0        2.0      0.0      1.0   0.0\n",
            "6      4.0      2.0        2.0      0.0      1.0   1.0\n",
            "...    ...      ...        ...      ...      ...   ...\n",
            "45206  9.0      1.0        2.0      0.0      0.0   0.0\n",
            "45207  5.0      0.0        0.0      0.0      0.0   0.0\n",
            "45208  5.0      1.0        1.0      0.0      0.0   0.0\n",
            "45209  1.0      1.0        1.0      0.0      0.0   0.0\n",
            "45210  2.0      1.0        1.0      0.0      0.0   0.0\n",
            "\n",
            "[43354 rows x 6 columns]\n"
          ]
        },
        {
          "output_type": "stream",
          "name": "stderr",
          "text": [
            "/usr/local/lib/python3.7/dist-packages/pandas/core/frame.py:3678: SettingWithCopyWarning: \n",
            "A value is trying to be set on a copy of a slice from a DataFrame.\n",
            "Try using .loc[row_indexer,col_indexer] = value instead\n",
            "\n",
            "See the caveats in the documentation: https://pandas.pydata.org/pandas-docs/stable/user_guide/indexing.html#returning-a-view-versus-a-copy\n",
            "  self[col] = igetitem(value, i)\n"
          ]
        }
      ]
    },
    {
      "cell_type": "markdown",
      "source": [
        "**MinMax Scaler**"
      ],
      "metadata": {
        "id": "kNeaw7lwyxET"
      }
    },
    {
      "cell_type": "code",
      "source": [
        "min_max_scaler = preprocessing.MinMaxScaler()\n",
        "encoded_str[str_labels] = min_max_scaler.fit_transform(encoded_str[str_labels])\n",
        "\n",
        "print(encoded_str)"
      ],
      "metadata": {
        "colab": {
          "base_uri": "https://localhost:8080/"
        },
        "id": "L2eCgwfCywKW",
        "outputId": "e144e178-c8f3-4164-dae6-d089cf39a124"
      },
      "execution_count": 162,
      "outputs": [
        {
          "output_type": "stream",
          "name": "stdout",
          "text": [
            "            job  marital  education  default  housing  loan\n",
            "0      0.363636      0.5        1.0      0.0      1.0   0.0\n",
            "1      0.818182      1.0        0.5      0.0      1.0   0.0\n",
            "2      0.181818      0.5        0.5      0.0      1.0   1.0\n",
            "5      0.363636      0.5        1.0      0.0      1.0   0.0\n",
            "6      0.363636      1.0        1.0      0.0      1.0   1.0\n",
            "...         ...      ...        ...      ...      ...   ...\n",
            "45206  0.818182      0.5        1.0      0.0      0.0   0.0\n",
            "45207  0.454545      0.0        0.0      0.0      0.0   0.0\n",
            "45208  0.454545      0.5        0.5      0.0      0.0   0.0\n",
            "45209  0.090909      0.5        0.5      0.0      0.0   0.0\n",
            "45210  0.181818      0.5        0.5      0.0      0.0   0.0\n",
            "\n",
            "[43354 rows x 6 columns]\n"
          ]
        },
        {
          "output_type": "stream",
          "name": "stderr",
          "text": [
            "/usr/local/lib/python3.7/dist-packages/pandas/core/frame.py:3678: SettingWithCopyWarning: \n",
            "A value is trying to be set on a copy of a slice from a DataFrame.\n",
            "Try using .loc[row_indexer,col_indexer] = value instead\n",
            "\n",
            "See the caveats in the documentation: https://pandas.pydata.org/pandas-docs/stable/user_guide/indexing.html#returning-a-view-versus-a-copy\n",
            "  self[col] = igetitem(value, i)\n"
          ]
        }
      ]
    },
    {
      "cell_type": "markdown",
      "source": [
        "**Standard Scaler**"
      ],
      "metadata": {
        "id": "PrYzJcNrylcs"
      }
    },
    {
      "cell_type": "code",
      "source": [
        "encoded_int = bankdata_dropped[int_labels]\n",
        "\n",
        "ss = preprocessing.StandardScaler()\n",
        "encoded_int[int_labels] = ss.fit_transform(encoded_int[int_labels])\n",
        "\n",
        "print(encoded_int)"
      ],
      "metadata": {
        "id": "22PsiQruohdF",
        "colab": {
          "base_uri": "https://localhost:8080/"
        },
        "outputId": "c5803ff2-655a-43c3-9524-80eb887ec4c9"
      },
      "execution_count": 163,
      "outputs": [
        {
          "output_type": "stream",
          "name": "stdout",
          "text": [
            "            age   balance\n",
            "0      1.636763  0.259146\n",
            "1      0.305821 -0.436276\n",
            "2     -0.739919 -0.445158\n",
            "5     -0.549785 -0.369826\n",
            "6     -1.215256 -0.298770\n",
            "...         ...       ...\n",
            "45206  0.971292 -0.174423\n",
            "45207  2.872638  0.122957\n",
            "45208  2.967705  1.434192\n",
            "45209  1.541696 -0.226070\n",
            "45210 -0.359650  0.531525\n",
            "\n",
            "[43354 rows x 2 columns]\n"
          ]
        },
        {
          "output_type": "stream",
          "name": "stderr",
          "text": [
            "/usr/local/lib/python3.7/dist-packages/pandas/core/frame.py:3678: SettingWithCopyWarning: \n",
            "A value is trying to be set on a copy of a slice from a DataFrame.\n",
            "Try using .loc[row_indexer,col_indexer] = value instead\n",
            "\n",
            "See the caveats in the documentation: https://pandas.pydata.org/pandas-docs/stable/user_guide/indexing.html#returning-a-view-versus-a-copy\n",
            "  self[col] = igetitem(value, i)\n"
          ]
        }
      ]
    },
    {
      "cell_type": "markdown",
      "source": [
        "**Ellenőrzésképp átlag és szórás kiszámolása**"
      ],
      "metadata": {
        "id": "OEN6wnEqzBS-"
      }
    },
    {
      "cell_type": "code",
      "source": [
        "print(np.mean(encoded_int['age'],axis=0))\n",
        "print(np.std(encoded_int['age'],axis=0))"
      ],
      "metadata": {
        "colab": {
          "base_uri": "https://localhost:8080/"
        },
        "id": "ewXobE9rua_Q",
        "outputId": "0497a430-0591-4520-a9e3-2d0b22c9d067"
      },
      "execution_count": 164,
      "outputs": [
        {
          "output_type": "stream",
          "name": "stdout",
          "text": [
            "-1.1595856186710912e-15\n",
            "1.0000000000000047\n"
          ]
        }
      ]
    },
    {
      "cell_type": "markdown",
      "source": [
        "**Elkészült adatoszlopok összefűzése**"
      ],
      "metadata": {
        "id": "BpW7bq_My8Gj"
      }
    },
    {
      "cell_type": "code",
      "source": [
        "encoded_full = pd.concat([encoded_str, encoded_int], axis=1)\n",
        "print(encoded_full)"
      ],
      "metadata": {
        "id": "pzkCbndwqv_g",
        "colab": {
          "base_uri": "https://localhost:8080/"
        },
        "outputId": "92ac7655-7333-4ca7-dd8f-6758d6668b1f"
      },
      "execution_count": 165,
      "outputs": [
        {
          "output_type": "stream",
          "name": "stdout",
          "text": [
            "            job  marital  education  default  housing  loan       age  \\\n",
            "0      0.363636      0.5        1.0      0.0      1.0   0.0  1.636763   \n",
            "1      0.818182      1.0        0.5      0.0      1.0   0.0  0.305821   \n",
            "2      0.181818      0.5        0.5      0.0      1.0   1.0 -0.739919   \n",
            "5      0.363636      0.5        1.0      0.0      1.0   0.0 -0.549785   \n",
            "6      0.363636      1.0        1.0      0.0      1.0   1.0 -1.215256   \n",
            "...         ...      ...        ...      ...      ...   ...       ...   \n",
            "45206  0.818182      0.5        1.0      0.0      0.0   0.0  0.971292   \n",
            "45207  0.454545      0.0        0.0      0.0      0.0   0.0  2.872638   \n",
            "45208  0.454545      0.5        0.5      0.0      0.0   0.0  2.967705   \n",
            "45209  0.090909      0.5        0.5      0.0      0.0   0.0  1.541696   \n",
            "45210  0.181818      0.5        0.5      0.0      0.0   0.0 -0.359650   \n",
            "\n",
            "        balance  \n",
            "0      0.259146  \n",
            "1     -0.436276  \n",
            "2     -0.445158  \n",
            "5     -0.369826  \n",
            "6     -0.298770  \n",
            "...         ...  \n",
            "45206 -0.174423  \n",
            "45207  0.122957  \n",
            "45208  1.434192  \n",
            "45209 -0.226070  \n",
            "45210  0.531525  \n",
            "\n",
            "[43354 rows x 8 columns]\n"
          ]
        }
      ]
    },
    {
      "cell_type": "markdown",
      "source": [
        "**Adathalmaz felosztása**"
      ],
      "metadata": {
        "id": "qtslvauPosNv"
      }
    },
    {
      "cell_type": "code",
      "source": [
        "train, dev, test = np.split(encoded_full.sample(frac=1, random_state=123456),\n",
        "                            [int(train_size*len(encoded_full)), int((train_size+dev_size)*len(encoded_full))])\n",
        "print(\"Train size: \" + str(train.size // 8))\n",
        "print(\"Dev size: \" + str(dev.size // 8))\n",
        "print(\"Test size: \" + str(test.size // 8))"
      ],
      "metadata": {
        "colab": {
          "base_uri": "https://localhost:8080/"
        },
        "id": "UgaK8neeosp0",
        "outputId": "67ddb254-a06e-460c-c29d-ebb498bc686f"
      },
      "execution_count": 166,
      "outputs": [
        {
          "output_type": "stream",
          "name": "stdout",
          "text": [
            "Train size: 30347\n",
            "Dev size: 6503\n",
            "Test size: 6504\n"
          ]
        }
      ]
    },
    {
      "cell_type": "code",
      "source": [
        "x_train = train.drop(columns=['loan'])\n",
        "y_train = train['loan']\n",
        "\n",
        "x_dev = dev.drop(columns=['loan'])\n",
        "y_dev = dev['loan']\n",
        "\n",
        "x_test = test.drop(columns=['loan'])\n",
        "y_test = test['loan']"
      ],
      "metadata": {
        "id": "5-LQAcAW0yUC"
      },
      "execution_count": 167,
      "outputs": []
    },
    {
      "cell_type": "markdown",
      "source": [
        "Evaluation function to score different prediction methods"
      ],
      "metadata": {
        "id": "0t_aKpAvFgLN"
      }
    },
    {
      "cell_type": "code",
      "source": [
        "def evaluate_train():\n",
        "\n",
        "    print(y_train.value_counts(), \"\\n\")\n",
        "    unique, counts = np.unique(pred_train, return_counts=True)\n",
        "\n",
        "    print(dict(zip(unique, counts)),  \"\\n\")\n",
        "\n",
        "    test_accuracy_score = accuracy_score(y_train, pred_train)\n",
        "    print('train - accuracy_score: ', test_accuracy_score)\n",
        "\n",
        "    '''\n",
        "    n_success = np.sum(y_test == pred)\n",
        "    p = 0.90\n",
        "    interval = binom_test(n_success, y_test.shape[0], p=p)\n",
        "    print(\"Test-acc: \", acc, \"+/-\", interval, \"(\", p*100, \"%)\")\n",
        "    '''\n",
        "\n",
        "    test_balanced_accuracy_score = balanced_accuracy_score(y_train, pred_train)\n",
        "    print('train - balanced_accuracy_score: ', test_balanced_accuracy_score)\n",
        "\n",
        "    test_recall_score = recall_score(y_train, pred_train)\n",
        "    print('train - recall_score: ', test_recall_score)\n",
        "\n",
        "    test_precision_score = precision_score(y_train, pred_train, zero_division=0)\n",
        "    print('train - preision_score: ', test_precision_score)\n",
        "\n",
        "    test_f1_score = f1_score(y_train, pred_train)\n",
        "    print('train - f1_score: ', test_f1_score)\n",
        "\n",
        "    test_brier_score_loss = brier_score_loss(y_train, pred_train)\n",
        "    print('train - brier_score_loss: ', test_brier_score_loss)\n",
        "\n",
        "    print()"
      ],
      "metadata": {
        "id": "xyAj4jvySzrc"
      },
      "execution_count": 168,
      "outputs": []
    },
    {
      "cell_type": "code",
      "source": [
        "def evaluate_test():\n",
        "\n",
        "    print(y_test.value_counts(), \"\\n\")\n",
        "    unique, counts = np.unique(pred_test, return_counts=True)\n",
        "\n",
        "    print(dict(zip(unique, counts)),  \"\\n\")\n",
        "\n",
        "    test_accuracy_score = accuracy_score(y_test, pred_test)\n",
        "    print('test - accuracy_score: ', test_accuracy_score)\n",
        "\n",
        "    '''\n",
        "    n_success = np.sum(y_test == pred)\n",
        "    p = 0.90\n",
        "    interval = binom_test(n_success, y_test.shape[0], p=p)\n",
        "    print(\"Test-acc: \", acc, \"+/-\", interval, \"(\", p*100, \"%)\")\n",
        "    '''\n",
        "\n",
        "    test_balanced_accuracy_score = balanced_accuracy_score(y_test, pred_test)\n",
        "    print('test - balanced_accuracy_score: ', test_balanced_accuracy_score)\n",
        "\n",
        "    test_recall_score = recall_score(y_test, pred_test)\n",
        "    print('test - recall_score: ', test_recall_score)\n",
        "\n",
        "    test_precision_score = precision_score(y_test, pred_test, zero_division=0)\n",
        "    print('test - preision_score: ', test_precision_score)\n",
        "\n",
        "    test_f1_score = f1_score(y_test, pred_test)\n",
        "    print('test - f1_score: ', test_f1_score)\n",
        "\n",
        "    test_brier_score_loss = brier_score_loss(y_test, pred_test)\n",
        "    print('test - brier_score_loss: ', test_brier_score_loss)\n",
        "\n",
        "    print()"
      ],
      "metadata": {
        "id": "ia-DkoAJE_AT"
      },
      "execution_count": 169,
      "outputs": []
    },
    {
      "cell_type": "markdown",
      "source": [
        "**Baseline** (Constant)"
      ],
      "metadata": {
        "id": "ZWGbK8gktW4v"
      }
    },
    {
      "cell_type": "code",
      "source": [
        "base_line = DummyClassifier(strategy='constant', constant=1.0)\n",
        "base_line.fit(x_train, y_train)\n",
        "\n",
        "pred_train = base_line.predict(train)\n",
        "pred_test = base_line.predict(test)\n",
        "\n",
        "evaluate_train()\n",
        "evaluate_test()"
      ],
      "metadata": {
        "id": "FBh46plGtcv3",
        "colab": {
          "base_uri": "https://localhost:8080/"
        },
        "outputId": "b0429a11-126d-4ad6-e7e8-108a7032f1b9"
      },
      "execution_count": 170,
      "outputs": [
        {
          "output_type": "stream",
          "name": "stdout",
          "text": [
            "0.0    25386\n",
            "1.0     4961\n",
            "Name: loan, dtype: int64 \n",
            "\n",
            "{1.0: 30347} \n",
            "\n",
            "train - accuracy_score:  0.1634757966191057\n",
            "train - balanced_accuracy_score:  0.5\n",
            "train - recall_score:  1.0\n",
            "train - preision_score:  0.1634757966191057\n",
            "train - f1_score:  0.2810128016313584\n",
            "train - brier_score_loss:  0.8365242033808943\n",
            "\n",
            "0.0    5448\n",
            "1.0    1056\n",
            "Name: loan, dtype: int64 \n",
            "\n",
            "{1.0: 6504} \n",
            "\n",
            "test - accuracy_score:  0.16236162361623616\n",
            "test - balanced_accuracy_score:  0.5\n",
            "test - recall_score:  1.0\n",
            "test - preision_score:  0.16236162361623616\n",
            "test - f1_score:  0.27936507936507937\n",
            "test - brier_score_loss:  0.8376383763837638\n",
            "\n"
          ]
        }
      ]
    },
    {
      "cell_type": "markdown",
      "source": [
        "**Baseline** (Random)"
      ],
      "metadata": {
        "id": "hGxpMhkY9KCQ"
      }
    },
    {
      "cell_type": "code",
      "source": [
        "pred_train = np.random.randint(0, 2, size=(1, len(y_train)))[0]\n",
        "pred_test = np.random.randint(0, 2, size=(1, len(y_test)))[0]\n",
        "\n",
        "evaluate_train()\n",
        "evaluate_test()"
      ],
      "metadata": {
        "colab": {
          "base_uri": "https://localhost:8080/"
        },
        "id": "kY6Goqkg9JMp",
        "outputId": "e2cae2ae-27d5-43c0-c1ac-7301cdef26eb"
      },
      "execution_count": 171,
      "outputs": [
        {
          "output_type": "stream",
          "name": "stdout",
          "text": [
            "0.0    25386\n",
            "1.0     4961\n",
            "Name: loan, dtype: int64 \n",
            "\n",
            "{0: 15269, 1: 15078} \n",
            "\n",
            "train - accuracy_score:  0.5000823804659439\n",
            "train - balanced_accuracy_score:  0.49627854374338065\n",
            "train - recall_score:  0.49062688973997176\n",
            "train - preision_score:  0.1614272449927046\n",
            "train - f1_score:  0.2429262937272319\n",
            "train - brier_score_loss:  0.49991761953405606\n",
            "\n",
            "0.0    5448\n",
            "1.0    1056\n",
            "Name: loan, dtype: int64 \n",
            "\n",
            "{0: 3218, 1: 3286} \n",
            "\n",
            "test - accuracy_score:  0.5003075030750308\n",
            "test - balanced_accuracy_score:  0.5070542984915232\n",
            "test - recall_score:  0.5170454545454546\n",
            "test - preision_score:  0.1661594643944005\n",
            "test - f1_score:  0.251497005988024\n",
            "test - brier_score_loss:  0.49969249692496925\n",
            "\n"
          ]
        }
      ]
    },
    {
      "cell_type": "markdown",
      "source": [
        "**Baseline** (Random with given distribution)"
      ],
      "metadata": {
        "id": "f_d47S1QAjLM"
      }
    },
    {
      "cell_type": "code",
      "source": [
        "pred_train = np.random.choice(2, len(pred_train), p=[0.83, 0.17])\n",
        "pred_test = np.random.choice(2, len(pred_test), p=[0.83, 0.17])\n",
        "\n",
        "evaluate_train()\n",
        "evaluate_test()"
      ],
      "metadata": {
        "colab": {
          "base_uri": "https://localhost:8080/"
        },
        "id": "AVY4ywnL__91",
        "outputId": "0e33a171-44b7-4267-fce2-f9cb4672bcca"
      },
      "execution_count": 172,
      "outputs": [
        {
          "output_type": "stream",
          "name": "stdout",
          "text": [
            "0.0    25386\n",
            "1.0     4961\n",
            "Name: loan, dtype: int64 \n",
            "\n",
            "{0: 25242, 1: 5105} \n",
            "\n",
            "train - accuracy_score:  0.7217517382278315\n",
            "train - balanced_accuracy_score:  0.49716337817073547\n",
            "train - recall_score:  0.16347510582543842\n",
            "train - preision_score:  0.15886385896180216\n",
            "train - f1_score:  0.16113649910590105\n",
            "train - brier_score_loss:  0.2782482617721686\n",
            "\n",
            "0.0    5448\n",
            "1.0    1056\n",
            "Name: loan, dtype: int64 \n",
            "\n",
            "{0: 5385, 1: 1119} \n",
            "\n",
            "test - accuracy_score:  0.7200184501845018\n",
            "test - balanced_accuracy_score:  0.49735307368842613\n",
            "test - recall_score:  0.16761363636363635\n",
            "test - preision_score:  0.1581769436997319\n",
            "test - f1_score:  0.16275862068965516\n",
            "test - brier_score_loss:  0.27998154981549817\n",
            "\n"
          ]
        }
      ]
    },
    {
      "cell_type": "markdown",
      "source": [
        "**Baseline** (Most Frequent)"
      ],
      "metadata": {
        "id": "w2KWCafr80U-"
      }
    },
    {
      "cell_type": "code",
      "source": [
        "base_line = DummyClassifier(strategy='most_frequent')\n",
        "base_line.fit(x_train, y_train)\n",
        "\n",
        "pred_train = base_line.predict(train)\n",
        "pred_test = base_line.predict(test)\n",
        "\n",
        "evaluate_train()\n",
        "evaluate_test()"
      ],
      "metadata": {
        "colab": {
          "base_uri": "https://localhost:8080/"
        },
        "id": "yCX7gQaV8sLF",
        "outputId": "34997236-df4d-4e52-fc1c-4a840185585a"
      },
      "execution_count": 173,
      "outputs": [
        {
          "output_type": "stream",
          "name": "stdout",
          "text": [
            "0.0    25386\n",
            "1.0     4961\n",
            "Name: loan, dtype: int64 \n",
            "\n",
            "{0.0: 30347} \n",
            "\n",
            "train - accuracy_score:  0.8365242033808943\n",
            "train - balanced_accuracy_score:  0.5\n",
            "train - recall_score:  0.0\n",
            "train - preision_score:  0.0\n",
            "train - f1_score:  0.0\n",
            "train - brier_score_loss:  0.1634757966191057\n",
            "\n",
            "0.0    5448\n",
            "1.0    1056\n",
            "Name: loan, dtype: int64 \n",
            "\n",
            "{0.0: 6504} \n",
            "\n",
            "test - accuracy_score:  0.8376383763837638\n",
            "test - balanced_accuracy_score:  0.5\n",
            "test - recall_score:  0.0\n",
            "test - preision_score:  0.0\n",
            "test - f1_score:  0.0\n",
            "test - brier_score_loss:  0.16236162361623616\n",
            "\n"
          ]
        }
      ]
    },
    {
      "cell_type": "markdown",
      "source": [
        "**Gaussian Naive-Bayes**"
      ],
      "metadata": {
        "id": "q00QgsPYA9E_"
      }
    },
    {
      "cell_type": "code",
      "source": [
        "model = GaussianNB()\n",
        "model.fit(x_train, y_train)\n",
        "\n",
        "pred_train = model.predict(x_train)\n",
        "pred_test = model.predict(x_test)\n",
        "\n",
        "evaluate_train()\n",
        "evaluate_test()"
      ],
      "metadata": {
        "colab": {
          "base_uri": "https://localhost:8080/"
        },
        "id": "Ru7niogAA9aG",
        "outputId": "6a8157c4-6a8f-4e47-a271-a1b70d8c01b0"
      },
      "execution_count": 174,
      "outputs": [
        {
          "output_type": "stream",
          "name": "stdout",
          "text": [
            "0.0    25386\n",
            "1.0     4961\n",
            "Name: loan, dtype: int64 \n",
            "\n",
            "{0.0: 29792, 1.0: 555} \n",
            "\n",
            "train - accuracy_score:  0.8322733713381882\n",
            "train - balanced_accuracy_score:  0.5147314498610314\n",
            "train - recall_score:  0.042934892158838944\n",
            "train - preision_score:  0.3837837837837838\n",
            "train - f1_score:  0.0772298767222625\n",
            "train - brier_score_loss:  0.1677266286618117\n",
            "\n",
            "0.0    5448\n",
            "1.0    1056\n",
            "Name: loan, dtype: int64 \n",
            "\n",
            "{0.0: 6385, 1.0: 119} \n",
            "\n",
            "test - accuracy_score:  0.8322570725707257\n",
            "test - balanced_accuracy_score:  0.5128195501268188\n",
            "test - recall_score:  0.03977272727272727\n",
            "test - preision_score:  0.35294117647058826\n",
            "test - f1_score:  0.07148936170212765\n",
            "test - brier_score_loss:  0.1677429274292743\n",
            "\n"
          ]
        }
      ]
    },
    {
      "cell_type": "markdown",
      "source": [
        "**Gaussian Mixture Model**"
      ],
      "metadata": {
        "id": "ozvvCyg9Fvg_"
      }
    },
    {
      "cell_type": "code",
      "source": [
        "def make_prediction(gmms, x):\n",
        "    n_samples = x.shape[0]\n",
        "    p_test = np.zeros(n_samples)\n",
        "    for i in range(n_samples):\n",
        "        pred_val = -np.inf\n",
        "        for c_idx in range(len(gmms)):\n",
        "            dense_val = gmms[c_idx].score(x[i:(i+1)])\n",
        "            if dense_val > pred_val:\n",
        "                p_test[i]=c_idx\n",
        "                pred_val=dense_val\n",
        "    return p_test\n",
        "\n",
        "cov_type = 'spherical'\n",
        "cov_type = 'full'\n",
        "cov_type = 'diag'\n",
        "cov_type = 'tied'\n",
        "n_components = 1\n",
        "gmm_models = {0:GaussianMixture(n_components=n_components, covariance_type=cov_type),\n",
        "              1:GaussianMixture(n_components=n_components, covariance_type=cov_type)}\n",
        "\n",
        "for (c_idx, model) in gmm_models.items():\n",
        "    print(x_train[y_train == c_idx].shape)\n",
        "    model.fit(x_train[y_train == c_idx])\n",
        "\n",
        "pred_train = make_prediction(gmm_models, x_train)\n",
        "print('train_acc: ', accuracy_score(y_train, pred_train))\n",
        "pred_test = make_prediction(gmm_models, x_test)\n",
        "print('test_acc: ', accuracy_score(y_test, pred_test))"
      ],
      "metadata": {
        "colab": {
          "base_uri": "https://localhost:8080/"
        },
        "id": "q7ibJ63yFv25",
        "outputId": "ba861c0a-38f8-4e96-9a40-67ba226b92f4"
      },
      "execution_count": 175,
      "outputs": [
        {
          "output_type": "stream",
          "name": "stdout",
          "text": [
            "(25386, 7)\n",
            "(4961, 7)\n",
            "train_acc:  0.6507068243977988\n",
            "test_acc:  0.6420664206642066\n"
          ]
        }
      ]
    },
    {
      "cell_type": "markdown",
      "source": [
        "**K Nearest Neighbour**"
      ],
      "metadata": {
        "id": "-XeGw_nMQA0o"
      }
    },
    {
      "cell_type": "code",
      "source": [
        "k = 2\n",
        "knn = KNeighborsClassifier(n_neighbors = k)\n",
        "\n",
        "knn.fit(x_train, y_train)\n",
        "\n",
        "pred_train = knn.predict(x_train)\n",
        "pred_test = knn.predict(x_test)\n",
        "\n",
        "evaluate_train()\n",
        "evaluate_test()"
      ],
      "metadata": {
        "colab": {
          "base_uri": "https://localhost:8080/"
        },
        "id": "RJvZZVD6QBIK",
        "outputId": "36a42e8b-c64c-4020-bf73-5b14a0c0da54"
      },
      "execution_count": 176,
      "outputs": [
        {
          "output_type": "stream",
          "name": "stdout",
          "text": [
            "0.0    25386\n",
            "1.0     4961\n",
            "Name: loan, dtype: int64 \n",
            "\n",
            "{0.0: 29063, 1.0: 1284} \n",
            "\n",
            "train - accuracy_score:  0.8787030019441789\n",
            "train - balanced_accuracy_score:  0.629168429213079\n",
            "train - recall_score:  0.25841564200765976\n",
            "train - preision_score:  0.9984423676012462\n",
            "train - f1_score:  0.4105684547638111\n",
            "train - brier_score_loss:  0.121296998055821\n",
            "\n",
            "0.0    5448\n",
            "1.0    1056\n",
            "Name: loan, dtype: int64 \n",
            "\n",
            "{0.0: 6276, 1.0: 228} \n",
            "\n",
            "test - accuracy_score:  0.826260762607626\n",
            "test - balanced_accuracy_score:  0.5226000367107195\n",
            "test - recall_score:  0.07291666666666667\n",
            "test - preision_score:  0.33771929824561403\n",
            "test - f1_score:  0.11993769470404986\n",
            "test - brier_score_loss:  0.17373923739237393\n",
            "\n"
          ]
        }
      ]
    },
    {
      "cell_type": "markdown",
      "source": [
        "GridSearch for best neighbour number"
      ],
      "metadata": {
        "id": "X14WKnzIY6aB"
      }
    },
    {
      "cell_type": "code",
      "source": [
        "tuned_parameters = [{'n_neighbors': range(21)}]\n",
        "scoring='accuracy'\n",
        "base_model = KNeighborsClassifier()\n",
        "clf = GridSearchCV(base_model, tuned_parameters, cv=5, scoring=scoring, return_train_score=True, refit=True)\n",
        "clf.fit(x_train, y_train)\n",
        "print(\"Best parameters set found on development set:\\n\")\n",
        "print(clf.best_params_)\n",
        "print(\"\\nGrid scores on development set:\\n\")\n",
        "val_means = clf.cv_results_['mean_test_score']\n",
        "val_stds = clf.cv_results_['std_test_score']\n",
        "for mean, std, params in zip(val_means, val_stds, clf.cv_results_['params']):\n",
        "    print(\"%0.3f (+/-%0.03f) for %r\"\n",
        "          % (mean, std * 2, params))"
      ],
      "metadata": {
        "colab": {
          "base_uri": "https://localhost:8080/"
        },
        "id": "1s0oCSRlXuXe",
        "outputId": "ae76a1ad-2d5c-467d-8fd5-f6c1afd93029"
      },
      "execution_count": 152,
      "outputs": [
        {
          "output_type": "stream",
          "name": "stdout",
          "text": [
            "Best parameters set found on development set:\n",
            "\n",
            "{'n_neighbors': 20}\n",
            "\n",
            "Grid scores on development set:\n",
            "\n",
            "nan (+/-nan) for {'n_neighbors': 0}\n",
            "0.758 (+/-0.006) for {'n_neighbors': 1}\n",
            "0.821 (+/-0.004) for {'n_neighbors': 2}\n",
            "0.794 (+/-0.004) for {'n_neighbors': 3}\n",
            "0.826 (+/-0.005) for {'n_neighbors': 4}\n",
            "0.815 (+/-0.003) for {'n_neighbors': 5}\n",
            "0.830 (+/-0.003) for {'n_neighbors': 6}\n",
            "0.824 (+/-0.003) for {'n_neighbors': 7}\n",
            "0.832 (+/-0.002) for {'n_neighbors': 8}\n",
            "0.828 (+/-0.003) for {'n_neighbors': 9}\n",
            "0.834 (+/-0.001) for {'n_neighbors': 10}\n",
            "0.831 (+/-0.003) for {'n_neighbors': 11}\n",
            "0.835 (+/-0.003) for {'n_neighbors': 12}\n",
            "0.833 (+/-0.004) for {'n_neighbors': 13}\n",
            "0.835 (+/-0.002) for {'n_neighbors': 14}\n",
            "0.835 (+/-0.003) for {'n_neighbors': 15}\n",
            "0.836 (+/-0.002) for {'n_neighbors': 16}\n",
            "0.835 (+/-0.003) for {'n_neighbors': 17}\n",
            "0.836 (+/-0.001) for {'n_neighbors': 18}\n",
            "0.835 (+/-0.002) for {'n_neighbors': 19}\n",
            "0.836 (+/-0.001) for {'n_neighbors': 20}\n"
          ]
        },
        {
          "output_type": "stream",
          "name": "stderr",
          "text": [
            "/usr/local/lib/python3.7/dist-packages/sklearn/model_selection/_validation.py:372: FitFailedWarning: \n",
            "5 fits failed out of a total of 105.\n",
            "The score on these train-test partitions for these parameters will be set to nan.\n",
            "If these failures are not expected, you can try to debug them by setting error_score='raise'.\n",
            "\n",
            "Below are more details about the failures:\n",
            "--------------------------------------------------------------------------------\n",
            "5 fits failed with the following error:\n",
            "Traceback (most recent call last):\n",
            "  File \"/usr/local/lib/python3.7/dist-packages/sklearn/model_selection/_validation.py\", line 680, in _fit_and_score\n",
            "    estimator.fit(X_train, y_train, **fit_params)\n",
            "  File \"/usr/local/lib/python3.7/dist-packages/sklearn/neighbors/_classification.py\", line 198, in fit\n",
            "    return self._fit(X, y)\n",
            "  File \"/usr/local/lib/python3.7/dist-packages/sklearn/neighbors/_base.py\", line 569, in _fit\n",
            "    raise ValueError(\"Expected n_neighbors > 0. Got %d\" % self.n_neighbors)\n",
            "ValueError: Expected n_neighbors > 0. Got 0\n",
            "\n",
            "  warnings.warn(some_fits_failed_message, FitFailedWarning)\n",
            "/usr/local/lib/python3.7/dist-packages/sklearn/model_selection/_search.py:972: UserWarning: One or more of the test scores are non-finite: [       nan 0.75766957 0.8209049  0.79355467 0.82607839 0.81480873\n",
            " 0.83019741 0.82387063 0.83187796 0.82802258 0.83355853 0.83128482\n",
            " 0.83471187 0.83296539 0.83507433 0.83500843 0.83550273 0.8351073\n",
            " 0.83583222 0.83527202 0.83586514]\n",
            "  category=UserWarning,\n",
            "/usr/local/lib/python3.7/dist-packages/sklearn/model_selection/_search.py:972: UserWarning: One or more of the train scores are non-finite: [       nan 0.99174547 0.87671762 0.87464164 0.85262958 0.85335454\n",
            " 0.84537186 0.84593205 0.84188718 0.84229908 0.84018191 0.84035491\n",
            " 0.83923453 0.83929219 0.83867433 0.83872375 0.83829538 0.83823771\n",
            " 0.83764458 0.83780934 0.83733977]\n",
            "  category=UserWarning,\n"
          ]
        }
      ]
    },
    {
      "cell_type": "markdown",
      "source": [
        "**Nearest Centroid**"
      ],
      "metadata": {
        "id": "WMJYv43zV9J7"
      }
    },
    {
      "cell_type": "code",
      "source": [
        "nc = NearestCentroid()\n",
        "nc.fit(x_train, y_train)\n",
        "\n",
        "pred_train = nc.predict(x_train)\n",
        "pred_test = nc.predict(x_test)\n",
        "\n",
        "evaluate_train()\n",
        "evaluate_test()"
      ],
      "metadata": {
        "colab": {
          "base_uri": "https://localhost:8080/"
        },
        "id": "JsTtYNCPWNpZ",
        "outputId": "a0512966-dd54-4b65-a7c8-49651b04b63d"
      },
      "execution_count": 177,
      "outputs": [
        {
          "output_type": "stream",
          "name": "stdout",
          "text": [
            "0.0    25386\n",
            "1.0     4961\n",
            "Name: loan, dtype: int64 \n",
            "\n",
            "{0.0: 10661, 1.0: 19686} \n",
            "\n",
            "train - accuracy_score:  0.4352324776748937\n",
            "train - balanced_accuracy_score:  0.5645561337623568\n",
            "train - recall_score:  0.7567022777665793\n",
            "train - preision_score:  0.19069389413796606\n",
            "train - f1_score:  0.3046212520793605\n",
            "train - brier_score_loss:  0.5647675223251063\n",
            "\n",
            "0.0    5448\n",
            "1.0    1056\n",
            "Name: loan, dtype: int64 \n",
            "\n",
            "{0.0: 2293, 1.0: 4211} \n",
            "\n",
            "test - accuracy_score:  0.43219557195571956\n",
            "test - balanced_accuracy_score:  0.5583888165798958\n",
            "test - recall_score:  0.7452651515151515\n",
            "test - preision_score:  0.18689147470909523\n",
            "test - f1_score:  0.29884184545281944\n",
            "test - brier_score_loss:  0.5678044280442804\n",
            "\n"
          ]
        }
      ]
    }
  ]
}