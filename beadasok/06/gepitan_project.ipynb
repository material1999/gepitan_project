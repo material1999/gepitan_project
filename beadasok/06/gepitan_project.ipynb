{
  "nbformat": 4,
  "nbformat_minor": 0,
  "metadata": {
    "colab": {
      "name": "gepitan_project",
      "provenance": [],
      "collapsed_sections": [
        "mGQH2IZJF8aP",
        "2G08GpeLQgbH",
        "55aTj-A4r926",
        "01PcqIgyGECr",
        "C795hrY2f8UX",
        "N5ZTtlQw9OqC",
        "eAwcuamWunfu"
      ]
    },
    "kernelspec": {
      "name": "python3",
      "display_name": "Python 3"
    },
    "language_info": {
      "name": "python"
    },
    "accelerator": "GPU"
  },
  "cells": [
    {
      "cell_type": "markdown",
      "source": [
        "# **Feladatleírás**"
      ],
      "metadata": {
        "id": "mGQH2IZJF8aP"
      }
    },
    {
      "cell_type": "markdown",
      "source": [
        "A projekt során egy felügyelt gépi tanulási problémát oldunk meg egy általunk tetszőlegesen választott adatbázison. A munkához egy banki adatbázist választottunk, amiben a bank az ügyfeleiről tárol el különféle adatokat. Ezek alapján azt szeretnénk megjósolni, hogy egy új ügyfél a jövőben fog-e betéti számlát nyitni."
      ],
      "metadata": {
        "id": "1IFjtr9KF_jb"
      }
    },
    {
      "cell_type": "markdown",
      "source": [
        "# **Importok**"
      ],
      "metadata": {
        "id": "2G08GpeLQgbH"
      }
    },
    {
      "cell_type": "code",
      "source": [
        "import os\n",
        "from zipfile import ZipFile\n",
        "import urllib.request\n",
        "import pandas as pd\n",
        "import numpy as np\n",
        "from sklearn import datasets\n",
        "from sklearn import preprocessing\n",
        "from sklearn.preprocessing import MinMaxScaler\n",
        "from sklearn.feature_selection import SelectKBest, chi2\n",
        "from sklearn.dummy import DummyClassifier\n",
        "from sklearn.metrics import (accuracy_score, balanced_accuracy_score,\n",
        "recall_score, precision_score, f1_score, brier_score_loss)\n",
        "from scipy.stats import binom_test\n",
        "from sklearn.naive_bayes import GaussianNB\n",
        "from sklearn.mixture import GaussianMixture\n",
        "from sklearn.model_selection import GridSearchCV\n",
        "from sklearn.neighbors import NearestCentroid, KNeighborsClassifier"
      ],
      "metadata": {
        "id": "FcYq3BU4Qmxs"
      },
      "execution_count": 1,
      "outputs": []
    },
    {
      "cell_type": "markdown",
      "source": [
        "# **Paraméterek**"
      ],
      "metadata": {
        "id": "55aTj-A4r926"
      }
    },
    {
      "cell_type": "code",
      "source": [
        "str_labels = ['job', 'marital', 'education', 'default', 'housing', 'loan']\n",
        "int_labels = ['age', 'balance']\n",
        "labels = str_labels + int_labels\n",
        "\n",
        "empty_drop = True\n",
        "\n",
        "train_size = 0.7\n",
        "dev_size = 0.15\n",
        "test_size = 1 - train_size - dev_size"
      ],
      "metadata": {
        "id": "HFYidrVpr-g6"
      },
      "execution_count": 2,
      "outputs": []
    },
    {
      "cell_type": "markdown",
      "source": [
        "# **Dataset**"
      ],
      "metadata": {
        "id": "01PcqIgyGECr"
      }
    },
    {
      "cell_type": "markdown",
      "source": [
        "Az adatokat egy linkből importáltuk be. Az így elért adatokat kicsomagoltuk és betöltöttük."
      ],
      "metadata": {
        "id": "-DnQJPYnVm2A"
      }
    },
    {
      "cell_type": "code",
      "source": [
        "url = 'https://archive.ics.uci.edu/ml/machine-learning-databases/00222/bank.zip'\n",
        "urllib.request.urlretrieve(url, './bank.zip') \n",
        "with ZipFile('bank.zip', \"r\") as zipObj:\n",
        "    zipObj.extractall()\n",
        "\n",
        "bankdata_full = pd.read_csv(\"./bank-full.csv\", delimiter=';')\n",
        "# Tesztelesbol kiirjuk a beolvasott .csv fajl egyes reszeit\n",
        "print(\"Adatrekordok szama: \" + str(len(bankdata_full.index)))\n",
        "print(np.sort((bankdata_full['age'].unique())))"
      ],
      "metadata": {
        "colab": {
          "base_uri": "https://localhost:8080/"
        },
        "id": "49y75mf1PiFa",
        "outputId": "69897b6e-c4f9-4b43-b598-4e24004b7180"
      },
      "execution_count": 3,
      "outputs": [
        {
          "output_type": "stream",
          "name": "stdout",
          "text": [
            "Adatrekordok szama: 45211\n",
            "[18 19 20 21 22 23 24 25 26 27 28 29 30 31 32 33 34 35 36 37 38 39 40 41\n",
            " 42 43 44 45 46 47 48 49 50 51 52 53 54 55 56 57 58 59 60 61 62 63 64 65\n",
            " 66 67 68 69 70 71 72 73 74 75 76 77 78 79 80 81 82 83 84 85 86 87 88 89\n",
            " 90 92 93 94 95]\n"
          ]
        }
      ]
    },
    {
      "cell_type": "markdown",
      "source": [
        "# **Adatfeldolgozás (MK - I)**"
      ],
      "metadata": {
        "id": "C795hrY2f8UX"
      }
    },
    {
      "cell_type": "markdown",
      "source": [
        "Megnéztük, hogy mennyi olyan sorunk van az adathalmazban, amiben van üres cella."
      ],
      "metadata": {
        "id": "ZsukFa4Xwz7F"
      }
    },
    {
      "cell_type": "code",
      "source": [
        "for label in labels:\n",
        "    i = 0\n",
        "    for l in bankdata_full[label]:\n",
        "        if l == \"unknown\":\n",
        "            i += 1\n",
        "    print(label + \": \" + str(i))"
      ],
      "metadata": {
        "colab": {
          "base_uri": "https://localhost:8080/"
        },
        "id": "9c-qaLHYhjRt",
        "outputId": "dc0232fa-3d29-4196-ef94-0102969c9be6"
      },
      "execution_count": 4,
      "outputs": [
        {
          "output_type": "stream",
          "name": "stdout",
          "text": [
            "job: 288\n",
            "marital: 0\n",
            "education: 1857\n",
            "default: 0\n",
            "housing: 0\n",
            "loan: 0\n",
            "age: 0\n",
            "balance: 0\n"
          ]
        }
      ]
    },
    {
      "cell_type": "markdown",
      "source": [
        "Majd ezeket kitöröltük."
      ],
      "metadata": {
        "id": "o2k2xIJts4PS"
      }
    },
    {
      "cell_type": "code",
      "source": [
        "if empty_drop:\n",
        "    for label in labels:\n",
        "        for l in bankdata_full[label]:\n",
        "            if l == \"unknown\":\n",
        "                bankdata_dropped = bankdata_full.drop(bankdata_full.loc[bankdata_full[label] == \"unknown\"].index, inplace=False)\n",
        "    print(bankdata_dropped)\n",
        "else:\n",
        "    pass\n",
        "    # TODO: eldobás helyett valami más módszer az üres cellát tartalmazó sorok kezelésére"
      ],
      "metadata": {
        "colab": {
          "base_uri": "https://localhost:8080/"
        },
        "id": "UIMmvDmu3kjA",
        "outputId": "f50ba649-b970-4112-cd81-3afaa3251622"
      },
      "execution_count": 5,
      "outputs": [
        {
          "output_type": "stream",
          "name": "stdout",
          "text": [
            "       age           job   marital  education default  balance housing loan  \\\n",
            "0       58    management   married   tertiary      no     2143     yes   no   \n",
            "1       44    technician    single  secondary      no       29     yes   no   \n",
            "2       33  entrepreneur   married  secondary      no        2     yes  yes   \n",
            "5       35    management   married   tertiary      no      231     yes   no   \n",
            "6       28    management    single   tertiary      no      447     yes  yes   \n",
            "...    ...           ...       ...        ...     ...      ...     ...  ...   \n",
            "45206   51    technician   married   tertiary      no      825      no   no   \n",
            "45207   71       retired  divorced    primary      no     1729      no   no   \n",
            "45208   72       retired   married  secondary      no     5715      no   no   \n",
            "45209   57   blue-collar   married  secondary      no      668      no   no   \n",
            "45210   37  entrepreneur   married  secondary      no     2971      no   no   \n",
            "\n",
            "         contact  day month  duration  campaign  pdays  previous poutcome    y  \n",
            "0        unknown    5   may       261         1     -1         0  unknown   no  \n",
            "1        unknown    5   may       151         1     -1         0  unknown   no  \n",
            "2        unknown    5   may        76         1     -1         0  unknown   no  \n",
            "5        unknown    5   may       139         1     -1         0  unknown   no  \n",
            "6        unknown    5   may       217         1     -1         0  unknown   no  \n",
            "...          ...  ...   ...       ...       ...    ...       ...      ...  ...  \n",
            "45206   cellular   17   nov       977         3     -1         0  unknown  yes  \n",
            "45207   cellular   17   nov       456         2     -1         0  unknown  yes  \n",
            "45208   cellular   17   nov      1127         5    184         3  success  yes  \n",
            "45209  telephone   17   nov       508         4     -1         0  unknown   no  \n",
            "45210   cellular   17   nov       361         2    188        11    other   no  \n",
            "\n",
            "[43354 rows x 17 columns]\n"
          ]
        }
      ]
    },
    {
      "cell_type": "code",
      "source": [
        "bankdata_dropped['loan'].value_counts()"
      ],
      "metadata": {
        "colab": {
          "base_uri": "https://localhost:8080/"
        },
        "id": "70AHwCHRG1KO",
        "outputId": "fc1fdafb-0ed8-44f6-f778-45072d4a5fc4"
      },
      "execution_count": 6,
      "outputs": [
        {
          "output_type": "execute_result",
          "data": {
            "text/plain": [
              "no     36243\n",
              "yes     7111\n",
              "Name: loan, dtype: int64"
            ]
          },
          "metadata": {},
          "execution_count": 6
        }
      ]
    },
    {
      "cell_type": "markdown",
      "source": [
        "**Ordial Encoder**"
      ],
      "metadata": {
        "id": "pFXA68ZN_enO"
      }
    },
    {
      "cell_type": "code",
      "source": [
        "encoded_str = bankdata_dropped[str_labels]\n",
        "\n",
        "oe = preprocessing.OrdinalEncoder()\n",
        "encoded_str[str_labels] = oe.fit_transform(encoded_str[str_labels])\n",
        "\n",
        "print(encoded_str)"
      ],
      "metadata": {
        "id": "bzp2GA0zxp8y",
        "colab": {
          "base_uri": "https://localhost:8080/"
        },
        "outputId": "c8c79409-f85c-4c40-8eb6-0b830e8aa832"
      },
      "execution_count": 7,
      "outputs": [
        {
          "output_type": "stream",
          "name": "stdout",
          "text": [
            "       job  marital  education  default  housing  loan\n",
            "0      4.0      1.0        2.0      0.0      1.0   0.0\n",
            "1      9.0      2.0        1.0      0.0      1.0   0.0\n",
            "2      2.0      1.0        1.0      0.0      1.0   1.0\n",
            "5      4.0      1.0        2.0      0.0      1.0   0.0\n",
            "6      4.0      2.0        2.0      0.0      1.0   1.0\n",
            "...    ...      ...        ...      ...      ...   ...\n",
            "45206  9.0      1.0        2.0      0.0      0.0   0.0\n",
            "45207  5.0      0.0        0.0      0.0      0.0   0.0\n",
            "45208  5.0      1.0        1.0      0.0      0.0   0.0\n",
            "45209  1.0      1.0        1.0      0.0      0.0   0.0\n",
            "45210  2.0      1.0        1.0      0.0      0.0   0.0\n",
            "\n",
            "[43354 rows x 6 columns]\n"
          ]
        },
        {
          "output_type": "stream",
          "name": "stderr",
          "text": [
            "/usr/local/lib/python3.7/dist-packages/pandas/core/frame.py:3678: SettingWithCopyWarning: \n",
            "A value is trying to be set on a copy of a slice from a DataFrame.\n",
            "Try using .loc[row_indexer,col_indexer] = value instead\n",
            "\n",
            "See the caveats in the documentation: https://pandas.pydata.org/pandas-docs/stable/user_guide/indexing.html#returning-a-view-versus-a-copy\n",
            "  self[col] = igetitem(value, i)\n"
          ]
        }
      ]
    },
    {
      "cell_type": "markdown",
      "source": [
        "**MinMax Scaler**"
      ],
      "metadata": {
        "id": "kNeaw7lwyxET"
      }
    },
    {
      "cell_type": "code",
      "source": [
        "min_max_scaler = preprocessing.MinMaxScaler()\n",
        "encoded_str[str_labels] = min_max_scaler.fit_transform(encoded_str[str_labels])\n",
        "\n",
        "print(encoded_str)"
      ],
      "metadata": {
        "colab": {
          "base_uri": "https://localhost:8080/"
        },
        "id": "L2eCgwfCywKW",
        "outputId": "908dcb40-3acb-4003-bee3-e2abdfdd8f62"
      },
      "execution_count": 8,
      "outputs": [
        {
          "output_type": "stream",
          "name": "stdout",
          "text": [
            "            job  marital  education  default  housing  loan\n",
            "0      0.363636      0.5        1.0      0.0      1.0   0.0\n",
            "1      0.818182      1.0        0.5      0.0      1.0   0.0\n",
            "2      0.181818      0.5        0.5      0.0      1.0   1.0\n",
            "5      0.363636      0.5        1.0      0.0      1.0   0.0\n",
            "6      0.363636      1.0        1.0      0.0      1.0   1.0\n",
            "...         ...      ...        ...      ...      ...   ...\n",
            "45206  0.818182      0.5        1.0      0.0      0.0   0.0\n",
            "45207  0.454545      0.0        0.0      0.0      0.0   0.0\n",
            "45208  0.454545      0.5        0.5      0.0      0.0   0.0\n",
            "45209  0.090909      0.5        0.5      0.0      0.0   0.0\n",
            "45210  0.181818      0.5        0.5      0.0      0.0   0.0\n",
            "\n",
            "[43354 rows x 6 columns]\n"
          ]
        },
        {
          "output_type": "stream",
          "name": "stderr",
          "text": [
            "/usr/local/lib/python3.7/dist-packages/pandas/core/frame.py:3678: SettingWithCopyWarning: \n",
            "A value is trying to be set on a copy of a slice from a DataFrame.\n",
            "Try using .loc[row_indexer,col_indexer] = value instead\n",
            "\n",
            "See the caveats in the documentation: https://pandas.pydata.org/pandas-docs/stable/user_guide/indexing.html#returning-a-view-versus-a-copy\n",
            "  self[col] = igetitem(value, i)\n"
          ]
        }
      ]
    },
    {
      "cell_type": "markdown",
      "source": [
        "**Standard Scaler**"
      ],
      "metadata": {
        "id": "PrYzJcNrylcs"
      }
    },
    {
      "cell_type": "code",
      "source": [
        "encoded_int = bankdata_dropped[int_labels]\n",
        "\n",
        "ss = preprocessing.StandardScaler()\n",
        "encoded_int[int_labels] = ss.fit_transform(encoded_int[int_labels])\n",
        "\n",
        "print(encoded_int)"
      ],
      "metadata": {
        "id": "22PsiQruohdF",
        "colab": {
          "base_uri": "https://localhost:8080/"
        },
        "outputId": "5dd3f026-3a8a-49ba-e736-095f2d17c94c"
      },
      "execution_count": 9,
      "outputs": [
        {
          "output_type": "stream",
          "name": "stdout",
          "text": [
            "            age   balance\n",
            "0      1.636763  0.259146\n",
            "1      0.305821 -0.436276\n",
            "2     -0.739919 -0.445158\n",
            "5     -0.549785 -0.369826\n",
            "6     -1.215256 -0.298770\n",
            "...         ...       ...\n",
            "45206  0.971292 -0.174423\n",
            "45207  2.872638  0.122957\n",
            "45208  2.967705  1.434192\n",
            "45209  1.541696 -0.226070\n",
            "45210 -0.359650  0.531525\n",
            "\n",
            "[43354 rows x 2 columns]\n"
          ]
        },
        {
          "output_type": "stream",
          "name": "stderr",
          "text": [
            "/usr/local/lib/python3.7/dist-packages/pandas/core/frame.py:3678: SettingWithCopyWarning: \n",
            "A value is trying to be set on a copy of a slice from a DataFrame.\n",
            "Try using .loc[row_indexer,col_indexer] = value instead\n",
            "\n",
            "See the caveats in the documentation: https://pandas.pydata.org/pandas-docs/stable/user_guide/indexing.html#returning-a-view-versus-a-copy\n",
            "  self[col] = igetitem(value, i)\n"
          ]
        }
      ]
    },
    {
      "cell_type": "markdown",
      "source": [
        "**Ellenőrzésképp átlag és szórás kiszámolása**"
      ],
      "metadata": {
        "id": "OEN6wnEqzBS-"
      }
    },
    {
      "cell_type": "code",
      "source": [
        "print(np.mean(encoded_int['age'],axis=0))\n",
        "print(np.std(encoded_int['age'],axis=0))"
      ],
      "metadata": {
        "colab": {
          "base_uri": "https://localhost:8080/"
        },
        "id": "ewXobE9rua_Q",
        "outputId": "a2ca8bcc-8816-478b-a254-22d470ab0814"
      },
      "execution_count": 10,
      "outputs": [
        {
          "output_type": "stream",
          "name": "stdout",
          "text": [
            "-1.1595856186710912e-15\n",
            "1.0000000000000047\n"
          ]
        }
      ]
    },
    {
      "cell_type": "markdown",
      "source": [
        "**Elkészült adatoszlopok összefűzése**"
      ],
      "metadata": {
        "id": "BpW7bq_My8Gj"
      }
    },
    {
      "cell_type": "code",
      "source": [
        "encoded_full = pd.concat([encoded_str, encoded_int], axis=1)\n",
        "print(encoded_full)"
      ],
      "metadata": {
        "id": "pzkCbndwqv_g",
        "colab": {
          "base_uri": "https://localhost:8080/"
        },
        "outputId": "d160feb2-45a1-4f41-84ab-46f6b8717969"
      },
      "execution_count": 11,
      "outputs": [
        {
          "output_type": "stream",
          "name": "stdout",
          "text": [
            "            job  marital  education  default  housing  loan       age  \\\n",
            "0      0.363636      0.5        1.0      0.0      1.0   0.0  1.636763   \n",
            "1      0.818182      1.0        0.5      0.0      1.0   0.0  0.305821   \n",
            "2      0.181818      0.5        0.5      0.0      1.0   1.0 -0.739919   \n",
            "5      0.363636      0.5        1.0      0.0      1.0   0.0 -0.549785   \n",
            "6      0.363636      1.0        1.0      0.0      1.0   1.0 -1.215256   \n",
            "...         ...      ...        ...      ...      ...   ...       ...   \n",
            "45206  0.818182      0.5        1.0      0.0      0.0   0.0  0.971292   \n",
            "45207  0.454545      0.0        0.0      0.0      0.0   0.0  2.872638   \n",
            "45208  0.454545      0.5        0.5      0.0      0.0   0.0  2.967705   \n",
            "45209  0.090909      0.5        0.5      0.0      0.0   0.0  1.541696   \n",
            "45210  0.181818      0.5        0.5      0.0      0.0   0.0 -0.359650   \n",
            "\n",
            "        balance  \n",
            "0      0.259146  \n",
            "1     -0.436276  \n",
            "2     -0.445158  \n",
            "5     -0.369826  \n",
            "6     -0.298770  \n",
            "...         ...  \n",
            "45206 -0.174423  \n",
            "45207  0.122957  \n",
            "45208  1.434192  \n",
            "45209 -0.226070  \n",
            "45210  0.531525  \n",
            "\n",
            "[43354 rows x 8 columns]\n"
          ]
        }
      ]
    },
    {
      "cell_type": "markdown",
      "source": [
        "**Adathalmaz felosztása**"
      ],
      "metadata": {
        "id": "qtslvauPosNv"
      }
    },
    {
      "cell_type": "code",
      "source": [
        "train, dev, test = np.split(encoded_full.sample(frac=1, random_state=123456),\n",
        "                            [int(train_size*len(encoded_full)), int((train_size+dev_size)*len(encoded_full))])\n",
        "print(\"Train size: \" + str(train.size // 8))\n",
        "print(\"Dev size: \" + str(dev.size // 8))\n",
        "print(\"Test size: \" + str(test.size // 8))"
      ],
      "metadata": {
        "colab": {
          "base_uri": "https://localhost:8080/"
        },
        "id": "UgaK8neeosp0",
        "outputId": "9546990d-160c-4cdb-f5f5-bd15224b0806"
      },
      "execution_count": 12,
      "outputs": [
        {
          "output_type": "stream",
          "name": "stdout",
          "text": [
            "Train size: 30347\n",
            "Dev size: 6503\n",
            "Test size: 6504\n"
          ]
        }
      ]
    },
    {
      "cell_type": "code",
      "source": [
        "x_train = train.drop(columns=['loan'])\n",
        "y_train = train['loan']\n",
        "\n",
        "x_dev = dev.drop(columns=['loan'])\n",
        "y_dev = dev['loan']\n",
        "\n",
        "x_test = test.drop(columns=['loan'])\n",
        "y_test = test['loan']"
      ],
      "metadata": {
        "id": "5-LQAcAW0yUC"
      },
      "execution_count": 13,
      "outputs": []
    },
    {
      "cell_type": "markdown",
      "source": [
        "# **Modellezés (MK - II)**"
      ],
      "metadata": {
        "id": "N5ZTtlQw9OqC"
      }
    },
    {
      "cell_type": "markdown",
      "source": [
        "**Kiértékelő függvények a tanító és a teszt halmazra, amikben különböző metrikákkal vizsgálhatjuk tanításaink sikerességét**"
      ],
      "metadata": {
        "id": "0t_aKpAvFgLN"
      }
    },
    {
      "cell_type": "code",
      "source": [
        "def evaluate_train():\n",
        "\n",
        "    print(y_train.value_counts(), \"\\n\")\n",
        "    unique, counts = np.unique(pred_train, return_counts=True)\n",
        "\n",
        "    print(dict(zip(unique, counts)),  \"\\n\")\n",
        "\n",
        "    test_accuracy_score = accuracy_score(y_train, pred_train)\n",
        "    print('train - accuracy_score: ', test_accuracy_score)\n",
        "\n",
        "    '''\n",
        "    n_success = np.sum(y_test == pred)\n",
        "    p = 0.90\n",
        "    interval = binom_test(n_success, y_test.shape[0], p=p)\n",
        "    print(\"Test-acc: \", acc, \"+/-\", interval, \"(\", p*100, \"%)\")\n",
        "    '''\n",
        "\n",
        "    test_balanced_accuracy_score = balanced_accuracy_score(y_train, pred_train)\n",
        "    print('train - balanced_accuracy_score: ', test_balanced_accuracy_score)\n",
        "\n",
        "    test_recall_score = recall_score(y_train, pred_train)\n",
        "    print('train - recall_score: ', test_recall_score)\n",
        "\n",
        "    test_precision_score = precision_score(y_train, pred_train, zero_division=0)\n",
        "    print('train - preision_score: ', test_precision_score)\n",
        "\n",
        "    test_f1_score = f1_score(y_train, pred_train)\n",
        "    print('train - f1_score: ', test_f1_score)\n",
        "\n",
        "    test_brier_score_loss = brier_score_loss(y_train, pred_train)\n",
        "    print('train - brier_score_loss: ', test_brier_score_loss)\n",
        "\n",
        "    print()"
      ],
      "metadata": {
        "id": "xyAj4jvySzrc"
      },
      "execution_count": 14,
      "outputs": []
    },
    {
      "cell_type": "code",
      "source": [
        "def evaluate_test():\n",
        "\n",
        "    print(y_test.value_counts(), \"\\n\")\n",
        "    unique, counts = np.unique(pred_test, return_counts=True)\n",
        "\n",
        "    print(dict(zip(unique, counts)),  \"\\n\")\n",
        "\n",
        "    test_accuracy_score = accuracy_score(y_test, pred_test)\n",
        "    print('test - accuracy_score: ', test_accuracy_score)\n",
        "\n",
        "    '''\n",
        "    n_success = np.sum(y_test == pred)\n",
        "    p = 0.90\n",
        "    interval = binom_test(n_success, y_test.shape[0], p=p)\n",
        "    print(\"Test-acc: \", acc, \"+/-\", interval, \"(\", p*100, \"%)\")\n",
        "    '''\n",
        "\n",
        "    test_balanced_accuracy_score = balanced_accuracy_score(y_test, pred_test)\n",
        "    print('test - balanced_accuracy_score: ', test_balanced_accuracy_score)\n",
        "\n",
        "    test_recall_score = recall_score(y_test, pred_test)\n",
        "    print('test - recall_score: ', test_recall_score)\n",
        "\n",
        "    test_precision_score = precision_score(y_test, pred_test, zero_division=0)\n",
        "    print('test - preision_score: ', test_precision_score)\n",
        "\n",
        "    test_f1_score = f1_score(y_test, pred_test)\n",
        "    print('test - f1_score: ', test_f1_score)\n",
        "\n",
        "    test_brier_score_loss = brier_score_loss(y_test, pred_test)\n",
        "    print('test - brier_score_loss: ', test_brier_score_loss)\n",
        "\n",
        "    print()"
      ],
      "metadata": {
        "id": "ia-DkoAJE_AT"
      },
      "execution_count": 15,
      "outputs": []
    },
    {
      "cell_type": "markdown",
      "source": [
        "**Baseline (Constant)**"
      ],
      "metadata": {
        "id": "ZWGbK8gktW4v"
      }
    },
    {
      "cell_type": "code",
      "source": [
        "base_line = DummyClassifier(strategy='constant', constant=1.0)\n",
        "base_line.fit(x_train, y_train)\n",
        "\n",
        "pred_train = base_line.predict(train)\n",
        "pred_test = base_line.predict(test)\n",
        "\n",
        "evaluate_train()\n",
        "evaluate_test()"
      ],
      "metadata": {
        "id": "FBh46plGtcv3",
        "colab": {
          "base_uri": "https://localhost:8080/"
        },
        "outputId": "41248f24-62f1-4756-b86a-8e826d46b90a"
      },
      "execution_count": 16,
      "outputs": [
        {
          "output_type": "stream",
          "name": "stdout",
          "text": [
            "0.0    25386\n",
            "1.0     4961\n",
            "Name: loan, dtype: int64 \n",
            "\n",
            "{1.0: 30347} \n",
            "\n",
            "train - accuracy_score:  0.1634757966191057\n",
            "train - balanced_accuracy_score:  0.5\n",
            "train - recall_score:  1.0\n",
            "train - preision_score:  0.1634757966191057\n",
            "train - f1_score:  0.2810128016313584\n",
            "train - brier_score_loss:  0.8365242033808943\n",
            "\n",
            "0.0    5448\n",
            "1.0    1056\n",
            "Name: loan, dtype: int64 \n",
            "\n",
            "{1.0: 6504} \n",
            "\n",
            "test - accuracy_score:  0.16236162361623616\n",
            "test - balanced_accuracy_score:  0.5\n",
            "test - recall_score:  1.0\n",
            "test - preision_score:  0.16236162361623616\n",
            "test - f1_score:  0.27936507936507937\n",
            "test - brier_score_loss:  0.8376383763837638\n",
            "\n"
          ]
        }
      ]
    },
    {
      "cell_type": "markdown",
      "source": [
        "**Baseline (Random)**"
      ],
      "metadata": {
        "id": "hGxpMhkY9KCQ"
      }
    },
    {
      "cell_type": "code",
      "source": [
        "pred_train = np.random.randint(0, 2, size=(1, len(y_train)))[0]\n",
        "pred_test = np.random.randint(0, 2, size=(1, len(y_test)))[0]\n",
        "\n",
        "evaluate_train()\n",
        "evaluate_test()"
      ],
      "metadata": {
        "colab": {
          "base_uri": "https://localhost:8080/"
        },
        "id": "kY6Goqkg9JMp",
        "outputId": "3be9e056-0983-49df-d0cc-245ddfc238cc"
      },
      "execution_count": 17,
      "outputs": [
        {
          "output_type": "stream",
          "name": "stdout",
          "text": [
            "0.0    25386\n",
            "1.0     4961\n",
            "Name: loan, dtype: int64 \n",
            "\n",
            "{0: 15292, 1: 15055} \n",
            "\n",
            "train - accuracy_score:  0.5015652288529344\n",
            "train - balanced_accuracy_score:  0.4980568516362553\n",
            "train - recall_score:  0.49284418464019353\n",
            "train - preision_score:  0.1624045167718366\n",
            "train - f1_score:  0.2443045563549161\n",
            "train - brier_score_loss:  0.4984347711470656\n",
            "\n",
            "0.0    5448\n",
            "1.0    1056\n",
            "Name: loan, dtype: int64 \n",
            "\n",
            "{0: 3284, 1: 3220} \n",
            "\n",
            "test - accuracy_score:  0.506150061500615\n",
            "test - balanced_accuracy_score:  0.5051979041516487\n",
            "test - recall_score:  0.5037878787878788\n",
            "test - preision_score:  0.16521739130434782\n",
            "test - f1_score:  0.24883068288119736\n",
            "test - brier_score_loss:  0.49384993849938497\n",
            "\n"
          ]
        }
      ]
    },
    {
      "cell_type": "markdown",
      "source": [
        "**Baseline (Random with given distribution)**"
      ],
      "metadata": {
        "id": "f_d47S1QAjLM"
      }
    },
    {
      "cell_type": "code",
      "source": [
        "pred_train = np.random.choice(2, len(pred_train), p=[0.83, 0.17])\n",
        "pred_test = np.random.choice(2, len(pred_test), p=[0.83, 0.17])\n",
        "\n",
        "evaluate_train()\n",
        "evaluate_test()"
      ],
      "metadata": {
        "colab": {
          "base_uri": "https://localhost:8080/"
        },
        "id": "AVY4ywnL__91",
        "outputId": "b437a418-4c0d-4b7a-8715-961bffb736cf"
      },
      "execution_count": 18,
      "outputs": [
        {
          "output_type": "stream",
          "name": "stdout",
          "text": [
            "0.0    25386\n",
            "1.0     4961\n",
            "Name: loan, dtype: int64 \n",
            "\n",
            "{0: 25181, 1: 5166} \n",
            "\n",
            "train - accuracy_score:  0.7221142122779847\n",
            "train - balanced_accuracy_score:  0.5002992815321677\n",
            "train - recall_score:  0.17073170731707318\n",
            "train - preision_score:  0.16395663956639567\n",
            "train - f1_score:  0.16727559988150492\n",
            "train - brier_score_loss:  0.27788578772201533\n",
            "\n",
            "0.0    5448\n",
            "1.0    1056\n",
            "Name: loan, dtype: int64 \n",
            "\n",
            "{0: 5365, 1: 1139} \n",
            "\n",
            "test - accuracy_score:  0.7230934809348093\n",
            "test - balanced_accuracy_score:  0.5068227706581231\n",
            "test - recall_score:  0.1865530303030303\n",
            "test - preision_score:  0.17295873573309922\n",
            "test - f1_score:  0.179498861047836\n",
            "test - brier_score_loss:  0.27690651906519065\n",
            "\n"
          ]
        }
      ]
    },
    {
      "cell_type": "markdown",
      "source": [
        "**Baseline (Most Frequent)**"
      ],
      "metadata": {
        "id": "w2KWCafr80U-"
      }
    },
    {
      "cell_type": "code",
      "source": [
        "base_line = DummyClassifier(strategy='most_frequent')\n",
        "base_line.fit(x_train, y_train)\n",
        "\n",
        "pred_train = base_line.predict(train)\n",
        "pred_test = base_line.predict(test)\n",
        "\n",
        "evaluate_train()\n",
        "evaluate_test()"
      ],
      "metadata": {
        "colab": {
          "base_uri": "https://localhost:8080/"
        },
        "id": "yCX7gQaV8sLF",
        "outputId": "0a79c355-cfd8-46dc-aa61-54a4a9f838af"
      },
      "execution_count": 19,
      "outputs": [
        {
          "output_type": "stream",
          "name": "stdout",
          "text": [
            "0.0    25386\n",
            "1.0     4961\n",
            "Name: loan, dtype: int64 \n",
            "\n",
            "{0.0: 30347} \n",
            "\n",
            "train - accuracy_score:  0.8365242033808943\n",
            "train - balanced_accuracy_score:  0.5\n",
            "train - recall_score:  0.0\n",
            "train - preision_score:  0.0\n",
            "train - f1_score:  0.0\n",
            "train - brier_score_loss:  0.1634757966191057\n",
            "\n",
            "0.0    5448\n",
            "1.0    1056\n",
            "Name: loan, dtype: int64 \n",
            "\n",
            "{0.0: 6504} \n",
            "\n",
            "test - accuracy_score:  0.8376383763837638\n",
            "test - balanced_accuracy_score:  0.5\n",
            "test - recall_score:  0.0\n",
            "test - preision_score:  0.0\n",
            "test - f1_score:  0.0\n",
            "test - brier_score_loss:  0.16236162361623616\n",
            "\n"
          ]
        }
      ]
    },
    {
      "cell_type": "markdown",
      "source": [
        "**Gaussian Naive-Bayes**"
      ],
      "metadata": {
        "id": "q00QgsPYA9E_"
      }
    },
    {
      "cell_type": "code",
      "source": [
        "model = GaussianNB()\n",
        "model.fit(x_train, y_train)\n",
        "\n",
        "pred_train = model.predict(x_train)\n",
        "pred_test = model.predict(x_test)\n",
        "\n",
        "evaluate_train()\n",
        "evaluate_test()"
      ],
      "metadata": {
        "colab": {
          "base_uri": "https://localhost:8080/"
        },
        "id": "Ru7niogAA9aG",
        "outputId": "b17a933a-92f1-49af-afed-735f0e1a370b"
      },
      "execution_count": 20,
      "outputs": [
        {
          "output_type": "stream",
          "name": "stdout",
          "text": [
            "0.0    25386\n",
            "1.0     4961\n",
            "Name: loan, dtype: int64 \n",
            "\n",
            "{0.0: 29792, 1.0: 555} \n",
            "\n",
            "train - accuracy_score:  0.8322733713381882\n",
            "train - balanced_accuracy_score:  0.5147314498610314\n",
            "train - recall_score:  0.042934892158838944\n",
            "train - preision_score:  0.3837837837837838\n",
            "train - f1_score:  0.0772298767222625\n",
            "train - brier_score_loss:  0.1677266286618117\n",
            "\n",
            "0.0    5448\n",
            "1.0    1056\n",
            "Name: loan, dtype: int64 \n",
            "\n",
            "{0.0: 6385, 1.0: 119} \n",
            "\n",
            "test - accuracy_score:  0.8322570725707257\n",
            "test - balanced_accuracy_score:  0.5128195501268188\n",
            "test - recall_score:  0.03977272727272727\n",
            "test - preision_score:  0.35294117647058826\n",
            "test - f1_score:  0.07148936170212765\n",
            "test - brier_score_loss:  0.1677429274292743\n",
            "\n"
          ]
        }
      ]
    },
    {
      "cell_type": "markdown",
      "source": [
        "**Gaussian Mixture Model**"
      ],
      "metadata": {
        "id": "ozvvCyg9Fvg_"
      }
    },
    {
      "cell_type": "code",
      "source": [
        "def make_prediction(gmms, x):\n",
        "    n_samples = x.shape[0]\n",
        "    p_test = np.zeros(n_samples)\n",
        "    for i in range(n_samples):\n",
        "        pred_val = -np.inf\n",
        "        for c_idx in range(len(gmms)):\n",
        "            dense_val = gmms[c_idx].score(x[i:(i+1)])\n",
        "            if dense_val > pred_val:\n",
        "                p_test[i]=c_idx\n",
        "                pred_val=dense_val\n",
        "    return p_test\n",
        "\n",
        "#cov_type = 'spherical'\n",
        "#cov_type = 'full'\n",
        "#cov_type = 'diag'\n",
        "cov_type = 'tied'\n",
        "n_components = 1\n",
        "gmm_models = {0:GaussianMixture(n_components=n_components, covariance_type=cov_type),\n",
        "              1:GaussianMixture(n_components=n_components, covariance_type=cov_type)}\n",
        "\n",
        "for (c_idx, model) in gmm_models.items():\n",
        "    #print(x_train[y_train == c_idx].shape)\n",
        "    model.fit(x_train[y_train == c_idx])\n",
        "\n",
        "pred_train = make_prediction(gmm_models, x_train)\n",
        "#print('train_acc: ', accuracy_score(y_train, pred_train))\n",
        "pred_test = make_prediction(gmm_models, x_test)\n",
        "#print('test_acc: ', accuracy_score(y_test, pred_test))\n",
        "\n",
        "evaluate_train()\n",
        "evaluate_test()"
      ],
      "metadata": {
        "colab": {
          "base_uri": "https://localhost:8080/"
        },
        "id": "q7ibJ63yFv25",
        "outputId": "ec8d3b60-9bff-45ff-c192-710aa1debd7d"
      },
      "execution_count": 21,
      "outputs": [
        {
          "output_type": "stream",
          "name": "stdout",
          "text": [
            "0.0    25386\n",
            "1.0     4961\n",
            "Name: loan, dtype: int64 \n",
            "\n",
            "{0.0: 20176, 1.0: 10171} \n",
            "\n",
            "train - accuracy_score:  0.6507068243977988\n",
            "train - balanced_accuracy_score:  0.5726853217802714\n",
            "train - recall_score:  0.4567627494456763\n",
            "train - preision_score:  0.22279028610756071\n",
            "train - f1_score:  0.2994977531060006\n",
            "train - brier_score_loss:  0.3492931756022012\n",
            "\n",
            "0.0    5448\n",
            "1.0    1056\n",
            "Name: loan, dtype: int64 \n",
            "\n",
            "{0.0: 4354, 1.0: 2150} \n",
            "\n",
            "test - accuracy_score:  0.6420664206642066\n",
            "test - balanced_accuracy_score:  0.5508297456948338\n",
            "test - recall_score:  0.41571969696969696\n",
            "test - preision_score:  0.20418604651162792\n",
            "test - f1_score:  0.27386150966936995\n",
            "test - brier_score_loss:  0.35793357933579334\n",
            "\n"
          ]
        }
      ]
    },
    {
      "cell_type": "markdown",
      "source": [
        "**K Nearest Neighbour**"
      ],
      "metadata": {
        "id": "-XeGw_nMQA0o"
      }
    },
    {
      "cell_type": "code",
      "source": [
        "k = 2\n",
        "knn = KNeighborsClassifier(n_neighbors = k)\n",
        "\n",
        "knn.fit(x_train, y_train)\n",
        "\n",
        "pred_train = knn.predict(x_train)\n",
        "pred_test = knn.predict(x_test)\n",
        "\n",
        "evaluate_train()\n",
        "evaluate_test()"
      ],
      "metadata": {
        "id": "RJvZZVD6QBIK",
        "colab": {
          "base_uri": "https://localhost:8080/"
        },
        "outputId": "eb1ce579-663a-4ad2-be3e-62e01348b560"
      },
      "execution_count": 22,
      "outputs": [
        {
          "output_type": "stream",
          "name": "stdout",
          "text": [
            "0.0    25386\n",
            "1.0     4961\n",
            "Name: loan, dtype: int64 \n",
            "\n",
            "{0.0: 29063, 1.0: 1284} \n",
            "\n",
            "train - accuracy_score:  0.8787030019441789\n",
            "train - balanced_accuracy_score:  0.629168429213079\n",
            "train - recall_score:  0.25841564200765976\n",
            "train - preision_score:  0.9984423676012462\n",
            "train - f1_score:  0.4105684547638111\n",
            "train - brier_score_loss:  0.121296998055821\n",
            "\n",
            "0.0    5448\n",
            "1.0    1056\n",
            "Name: loan, dtype: int64 \n",
            "\n",
            "{0.0: 6276, 1.0: 228} \n",
            "\n",
            "test - accuracy_score:  0.826260762607626\n",
            "test - balanced_accuracy_score:  0.5226000367107195\n",
            "test - recall_score:  0.07291666666666667\n",
            "test - preision_score:  0.33771929824561403\n",
            "test - f1_score:  0.11993769470404986\n",
            "test - brier_score_loss:  0.17373923739237393\n",
            "\n"
          ]
        }
      ]
    },
    {
      "cell_type": "markdown",
      "source": [
        "**GridSearch a legjobb szomszédsági szám megtalálásához**"
      ],
      "metadata": {
        "id": "X14WKnzIY6aB"
      }
    },
    {
      "cell_type": "code",
      "source": [
        "tuned_parameters = [{'n_neighbors': range(21)}]\n",
        "scoring='accuracy'\n",
        "base_model = KNeighborsClassifier()\n",
        "clf = GridSearchCV(base_model, tuned_parameters, cv=5, scoring=scoring,\n",
        "                   return_train_score=True, refit=True)\n",
        "clf.fit(x_train, y_train)\n",
        "print(\"Best parameters set found on development set:\\n\")\n",
        "print(clf.best_params_)\n",
        "print(\"\\nGrid scores on development set:\\n\")\n",
        "val_means = clf.cv_results_['mean_test_score']\n",
        "val_stds = clf.cv_results_['std_test_score']\n",
        "for mean, std, params in zip(val_means, val_stds, clf.cv_results_['params']):\n",
        "    print(\"%0.3f (+/-%0.03f) for %r\"\n",
        "          % (mean, std * 2, params))"
      ],
      "metadata": {
        "id": "1s0oCSRlXuXe",
        "colab": {
          "base_uri": "https://localhost:8080/"
        },
        "outputId": "2992cad1-9000-480c-cc85-ee691338c08d"
      },
      "execution_count": 23,
      "outputs": [
        {
          "output_type": "stream",
          "name": "stdout",
          "text": [
            "Best parameters set found on development set:\n",
            "\n",
            "{'n_neighbors': 20}\n",
            "\n",
            "Grid scores on development set:\n",
            "\n",
            "nan (+/-nan) for {'n_neighbors': 0}\n",
            "0.758 (+/-0.006) for {'n_neighbors': 1}\n",
            "0.821 (+/-0.004) for {'n_neighbors': 2}\n",
            "0.794 (+/-0.004) for {'n_neighbors': 3}\n",
            "0.826 (+/-0.005) for {'n_neighbors': 4}\n",
            "0.815 (+/-0.003) for {'n_neighbors': 5}\n",
            "0.830 (+/-0.003) for {'n_neighbors': 6}\n",
            "0.824 (+/-0.003) for {'n_neighbors': 7}\n",
            "0.832 (+/-0.002) for {'n_neighbors': 8}\n",
            "0.828 (+/-0.003) for {'n_neighbors': 9}\n",
            "0.834 (+/-0.001) for {'n_neighbors': 10}\n",
            "0.831 (+/-0.003) for {'n_neighbors': 11}\n",
            "0.835 (+/-0.003) for {'n_neighbors': 12}\n",
            "0.833 (+/-0.004) for {'n_neighbors': 13}\n",
            "0.835 (+/-0.002) for {'n_neighbors': 14}\n",
            "0.835 (+/-0.003) for {'n_neighbors': 15}\n",
            "0.836 (+/-0.002) for {'n_neighbors': 16}\n",
            "0.835 (+/-0.003) for {'n_neighbors': 17}\n",
            "0.836 (+/-0.001) for {'n_neighbors': 18}\n",
            "0.835 (+/-0.002) for {'n_neighbors': 19}\n",
            "0.836 (+/-0.001) for {'n_neighbors': 20}\n"
          ]
        },
        {
          "output_type": "stream",
          "name": "stderr",
          "text": [
            "/usr/local/lib/python3.7/dist-packages/sklearn/model_selection/_validation.py:372: FitFailedWarning: \n",
            "5 fits failed out of a total of 105.\n",
            "The score on these train-test partitions for these parameters will be set to nan.\n",
            "If these failures are not expected, you can try to debug them by setting error_score='raise'.\n",
            "\n",
            "Below are more details about the failures:\n",
            "--------------------------------------------------------------------------------\n",
            "5 fits failed with the following error:\n",
            "Traceback (most recent call last):\n",
            "  File \"/usr/local/lib/python3.7/dist-packages/sklearn/model_selection/_validation.py\", line 680, in _fit_and_score\n",
            "    estimator.fit(X_train, y_train, **fit_params)\n",
            "  File \"/usr/local/lib/python3.7/dist-packages/sklearn/neighbors/_classification.py\", line 198, in fit\n",
            "    return self._fit(X, y)\n",
            "  File \"/usr/local/lib/python3.7/dist-packages/sklearn/neighbors/_base.py\", line 569, in _fit\n",
            "    raise ValueError(\"Expected n_neighbors > 0. Got %d\" % self.n_neighbors)\n",
            "ValueError: Expected n_neighbors > 0. Got 0\n",
            "\n",
            "  warnings.warn(some_fits_failed_message, FitFailedWarning)\n",
            "/usr/local/lib/python3.7/dist-packages/sklearn/model_selection/_search.py:972: UserWarning: One or more of the test scores are non-finite: [       nan 0.75766957 0.8209049  0.79355467 0.82607839 0.81480873\n",
            " 0.83019741 0.82387063 0.83187796 0.82802258 0.83355853 0.83128482\n",
            " 0.83471187 0.83296539 0.83507433 0.83500843 0.83550273 0.8351073\n",
            " 0.83583222 0.83527202 0.83586514]\n",
            "  category=UserWarning,\n",
            "/usr/local/lib/python3.7/dist-packages/sklearn/model_selection/_search.py:972: UserWarning: One or more of the train scores are non-finite: [       nan 0.99174547 0.87671762 0.87464164 0.85262958 0.85335454\n",
            " 0.84537186 0.84593205 0.84188718 0.84229908 0.84018191 0.84035491\n",
            " 0.83923453 0.83929219 0.83867433 0.83872375 0.83829538 0.83823771\n",
            " 0.83764458 0.83780934 0.83733977]\n",
            "  category=UserWarning,\n"
          ]
        }
      ]
    },
    {
      "cell_type": "markdown",
      "source": [
        "**Nearest Centroid**"
      ],
      "metadata": {
        "id": "WMJYv43zV9J7"
      }
    },
    {
      "cell_type": "code",
      "source": [
        "nc = NearestCentroid()\n",
        "nc.fit(x_train, y_train)\n",
        "\n",
        "pred_train = nc.predict(x_train)\n",
        "pred_test = nc.predict(x_test)\n",
        "\n",
        "evaluate_train()\n",
        "evaluate_test()"
      ],
      "metadata": {
        "id": "JsTtYNCPWNpZ",
        "colab": {
          "base_uri": "https://localhost:8080/"
        },
        "outputId": "f303e19f-3985-4a9e-aaee-fc605ba45c95"
      },
      "execution_count": 24,
      "outputs": [
        {
          "output_type": "stream",
          "name": "stdout",
          "text": [
            "0.0    25386\n",
            "1.0     4961\n",
            "Name: loan, dtype: int64 \n",
            "\n",
            "{0.0: 10661, 1.0: 19686} \n",
            "\n",
            "train - accuracy_score:  0.4352324776748937\n",
            "train - balanced_accuracy_score:  0.5645561337623568\n",
            "train - recall_score:  0.7567022777665793\n",
            "train - preision_score:  0.19069389413796606\n",
            "train - f1_score:  0.3046212520793605\n",
            "train - brier_score_loss:  0.5647675223251063\n",
            "\n",
            "0.0    5448\n",
            "1.0    1056\n",
            "Name: loan, dtype: int64 \n",
            "\n",
            "{0.0: 2293, 1.0: 4211} \n",
            "\n",
            "test - accuracy_score:  0.43219557195571956\n",
            "test - balanced_accuracy_score:  0.5583888165798958\n",
            "test - recall_score:  0.7452651515151515\n",
            "test - preision_score:  0.18689147470909523\n",
            "test - f1_score:  0.29884184545281944\n",
            "test - brier_score_loss:  0.5678044280442804\n",
            "\n"
          ]
        }
      ]
    },
    {
      "cell_type": "markdown",
      "source": [
        "# **További fejlesztések (MK - III)**"
      ],
      "metadata": {
        "id": "eAwcuamWunfu"
      }
    },
    {
      "cell_type": "markdown",
      "source": [
        "## **Feature selection használata**"
      ],
      "metadata": {
        "id": "dTpNE6uyiu8N"
      }
    },
    {
      "cell_type": "code",
      "source": [
        "str_labels = ['job', 'marital', 'education', 'default', 'housing', 'loan',\n",
        "              'contact', 'month', 'poutcome']\n",
        "int_labels = ['age', 'balance', 'day', 'duration', 'campaign', 'pdays',\n",
        "              'previous']\n",
        "labels = str_labels + int_labels"
      ],
      "metadata": {
        "id": "mZ5yAZHBi1r9"
      },
      "execution_count": 25,
      "outputs": []
    },
    {
      "cell_type": "code",
      "source": [
        "for label in labels:\n",
        "    i = 0\n",
        "    for l in bankdata_full[label]:\n",
        "        if l == \"unknown\":\n",
        "            i += 1\n",
        "    print(label + \": \" + str(i))"
      ],
      "metadata": {
        "colab": {
          "base_uri": "https://localhost:8080/"
        },
        "id": "GO6V99whmY30",
        "outputId": "09255d77-35cb-410d-e7e9-a559a3f995ce"
      },
      "execution_count": 26,
      "outputs": [
        {
          "output_type": "stream",
          "name": "stdout",
          "text": [
            "job: 288\n",
            "marital: 0\n",
            "education: 1857\n",
            "default: 0\n",
            "housing: 0\n",
            "loan: 0\n",
            "contact: 13020\n",
            "month: 0\n",
            "poutcome: 36959\n",
            "age: 0\n",
            "balance: 0\n",
            "day: 0\n",
            "duration: 0\n",
            "campaign: 0\n",
            "pdays: 0\n",
            "previous: 0\n"
          ]
        }
      ]
    },
    {
      "cell_type": "code",
      "source": [
        "encoded_str = bankdata_dropped[str_labels]\n",
        "\n",
        "oe = preprocessing.OrdinalEncoder()\n",
        "encoded_str[str_labels] = oe.fit_transform(encoded_str[str_labels])\n",
        "\n",
        "print(encoded_str)"
      ],
      "metadata": {
        "colab": {
          "base_uri": "https://localhost:8080/"
        },
        "id": "flRtFytBnLBa",
        "outputId": "432ff559-fca0-4225-d248-70988435d3cf"
      },
      "execution_count": 27,
      "outputs": [
        {
          "output_type": "stream",
          "name": "stdout",
          "text": [
            "       job  marital  education  default  housing  loan  contact  month  \\\n",
            "0      4.0      1.0        2.0      0.0      1.0   0.0      2.0    8.0   \n",
            "1      9.0      2.0        1.0      0.0      1.0   0.0      2.0    8.0   \n",
            "2      2.0      1.0        1.0      0.0      1.0   1.0      2.0    8.0   \n",
            "5      4.0      1.0        2.0      0.0      1.0   0.0      2.0    8.0   \n",
            "6      4.0      2.0        2.0      0.0      1.0   1.0      2.0    8.0   \n",
            "...    ...      ...        ...      ...      ...   ...      ...    ...   \n",
            "45206  9.0      1.0        2.0      0.0      0.0   0.0      0.0    9.0   \n",
            "45207  5.0      0.0        0.0      0.0      0.0   0.0      0.0    9.0   \n",
            "45208  5.0      1.0        1.0      0.0      0.0   0.0      0.0    9.0   \n",
            "45209  1.0      1.0        1.0      0.0      0.0   0.0      1.0    9.0   \n",
            "45210  2.0      1.0        1.0      0.0      0.0   0.0      0.0    9.0   \n",
            "\n",
            "       poutcome  \n",
            "0           3.0  \n",
            "1           3.0  \n",
            "2           3.0  \n",
            "5           3.0  \n",
            "6           3.0  \n",
            "...         ...  \n",
            "45206       3.0  \n",
            "45207       3.0  \n",
            "45208       2.0  \n",
            "45209       3.0  \n",
            "45210       1.0  \n",
            "\n",
            "[43354 rows x 9 columns]\n"
          ]
        },
        {
          "output_type": "stream",
          "name": "stderr",
          "text": [
            "/usr/local/lib/python3.7/dist-packages/pandas/core/frame.py:3678: SettingWithCopyWarning: \n",
            "A value is trying to be set on a copy of a slice from a DataFrame.\n",
            "Try using .loc[row_indexer,col_indexer] = value instead\n",
            "\n",
            "See the caveats in the documentation: https://pandas.pydata.org/pandas-docs/stable/user_guide/indexing.html#returning-a-view-versus-a-copy\n",
            "  self[col] = igetitem(value, i)\n"
          ]
        }
      ]
    },
    {
      "cell_type": "code",
      "source": [
        "min_max_scaler = preprocessing.MinMaxScaler()\n",
        "encoded_str[str_labels] = min_max_scaler.fit_transform(encoded_str[str_labels])\n",
        "\n",
        "print(encoded_str)"
      ],
      "metadata": {
        "colab": {
          "base_uri": "https://localhost:8080/"
        },
        "id": "Dggm2yfYnNaA",
        "outputId": "bca256b7-89e1-4cd0-86a2-3337092445d4"
      },
      "execution_count": 28,
      "outputs": [
        {
          "output_type": "stream",
          "name": "stdout",
          "text": [
            "            job  marital  education  default  housing  loan  contact  \\\n",
            "0      0.363636      0.5        1.0      0.0      1.0   0.0      1.0   \n",
            "1      0.818182      1.0        0.5      0.0      1.0   0.0      1.0   \n",
            "2      0.181818      0.5        0.5      0.0      1.0   1.0      1.0   \n",
            "5      0.363636      0.5        1.0      0.0      1.0   0.0      1.0   \n",
            "6      0.363636      1.0        1.0      0.0      1.0   1.0      1.0   \n",
            "...         ...      ...        ...      ...      ...   ...      ...   \n",
            "45206  0.818182      0.5        1.0      0.0      0.0   0.0      0.0   \n",
            "45207  0.454545      0.0        0.0      0.0      0.0   0.0      0.0   \n",
            "45208  0.454545      0.5        0.5      0.0      0.0   0.0      0.0   \n",
            "45209  0.090909      0.5        0.5      0.0      0.0   0.0      0.5   \n",
            "45210  0.181818      0.5        0.5      0.0      0.0   0.0      0.0   \n",
            "\n",
            "          month  poutcome  \n",
            "0      0.727273  1.000000  \n",
            "1      0.727273  1.000000  \n",
            "2      0.727273  1.000000  \n",
            "5      0.727273  1.000000  \n",
            "6      0.727273  1.000000  \n",
            "...         ...       ...  \n",
            "45206  0.818182  1.000000  \n",
            "45207  0.818182  1.000000  \n",
            "45208  0.818182  0.666667  \n",
            "45209  0.818182  1.000000  \n",
            "45210  0.818182  0.333333  \n",
            "\n",
            "[43354 rows x 9 columns]\n"
          ]
        },
        {
          "output_type": "stream",
          "name": "stderr",
          "text": [
            "/usr/local/lib/python3.7/dist-packages/pandas/core/frame.py:3678: SettingWithCopyWarning: \n",
            "A value is trying to be set on a copy of a slice from a DataFrame.\n",
            "Try using .loc[row_indexer,col_indexer] = value instead\n",
            "\n",
            "See the caveats in the documentation: https://pandas.pydata.org/pandas-docs/stable/user_guide/indexing.html#returning-a-view-versus-a-copy\n",
            "  self[col] = igetitem(value, i)\n"
          ]
        }
      ]
    },
    {
      "cell_type": "code",
      "source": [
        "encoded_int = bankdata_dropped[int_labels]\n",
        "\n",
        "ss = preprocessing.StandardScaler()\n",
        "encoded_int[int_labels] = ss.fit_transform(encoded_int[int_labels])\n",
        "\n",
        "print(encoded_int)"
      ],
      "metadata": {
        "colab": {
          "base_uri": "https://localhost:8080/"
        },
        "id": "1ErmxbHAnUDS",
        "outputId": "6f7f1867-7efb-4e64-d146-d1d646849de9"
      },
      "execution_count": 29,
      "outputs": [
        {
          "output_type": "stream",
          "name": "stdout",
          "text": [
            "            age   balance       day  duration  campaign     pdays  previous\n",
            "0      1.636763  0.259146 -1.300952  0.010854 -0.574199 -0.412047 -0.250795\n",
            "1      0.305821 -0.436276 -1.300952 -0.415461 -0.574199 -0.412047 -0.250795\n",
            "2     -0.739919 -0.445158 -1.300952 -0.706131 -0.574199 -0.412047 -0.250795\n",
            "5     -0.549785 -0.369826 -1.300952 -0.461968 -0.574199 -0.412047 -0.250795\n",
            "6     -1.215256 -0.298770 -1.300952 -0.159672 -0.574199 -0.412047 -0.250795\n",
            "...         ...       ...       ...       ...       ...       ...       ...\n",
            "45206  0.971292 -0.174423  0.143718  2.785777  0.078232 -0.412047 -0.250795\n",
            "45207  2.872638  0.122957  0.143718  0.766594 -0.247983 -0.412047 -0.250795\n",
            "45208  2.967705  1.434192  0.143718  3.367116  0.730662  1.431854  1.036961\n",
            "45209  1.541696 -0.226070  0.143718  0.968125  0.404447 -0.412047 -0.250795\n",
            "45210 -0.359650  0.531525  0.143718  0.398413 -0.247983  1.471722  4.470976\n",
            "\n",
            "[43354 rows x 7 columns]\n"
          ]
        },
        {
          "output_type": "stream",
          "name": "stderr",
          "text": [
            "/usr/local/lib/python3.7/dist-packages/pandas/core/frame.py:3678: SettingWithCopyWarning: \n",
            "A value is trying to be set on a copy of a slice from a DataFrame.\n",
            "Try using .loc[row_indexer,col_indexer] = value instead\n",
            "\n",
            "See the caveats in the documentation: https://pandas.pydata.org/pandas-docs/stable/user_guide/indexing.html#returning-a-view-versus-a-copy\n",
            "  self[col] = igetitem(value, i)\n"
          ]
        }
      ]
    },
    {
      "cell_type": "code",
      "source": [
        "encoded_full = pd.concat([encoded_str, encoded_int], axis=1)\n",
        "print(encoded_full)"
      ],
      "metadata": {
        "colab": {
          "base_uri": "https://localhost:8080/"
        },
        "id": "kWXRPECNnb-1",
        "outputId": "90a26510-c129-4520-d4bb-4e3de453441a"
      },
      "execution_count": 30,
      "outputs": [
        {
          "output_type": "stream",
          "name": "stdout",
          "text": [
            "            job  marital  education  default  housing  loan  contact  \\\n",
            "0      0.363636      0.5        1.0      0.0      1.0   0.0      1.0   \n",
            "1      0.818182      1.0        0.5      0.0      1.0   0.0      1.0   \n",
            "2      0.181818      0.5        0.5      0.0      1.0   1.0      1.0   \n",
            "5      0.363636      0.5        1.0      0.0      1.0   0.0      1.0   \n",
            "6      0.363636      1.0        1.0      0.0      1.0   1.0      1.0   \n",
            "...         ...      ...        ...      ...      ...   ...      ...   \n",
            "45206  0.818182      0.5        1.0      0.0      0.0   0.0      0.0   \n",
            "45207  0.454545      0.0        0.0      0.0      0.0   0.0      0.0   \n",
            "45208  0.454545      0.5        0.5      0.0      0.0   0.0      0.0   \n",
            "45209  0.090909      0.5        0.5      0.0      0.0   0.0      0.5   \n",
            "45210  0.181818      0.5        0.5      0.0      0.0   0.0      0.0   \n",
            "\n",
            "          month  poutcome       age   balance       day  duration  campaign  \\\n",
            "0      0.727273  1.000000  1.636763  0.259146 -1.300952  0.010854 -0.574199   \n",
            "1      0.727273  1.000000  0.305821 -0.436276 -1.300952 -0.415461 -0.574199   \n",
            "2      0.727273  1.000000 -0.739919 -0.445158 -1.300952 -0.706131 -0.574199   \n",
            "5      0.727273  1.000000 -0.549785 -0.369826 -1.300952 -0.461968 -0.574199   \n",
            "6      0.727273  1.000000 -1.215256 -0.298770 -1.300952 -0.159672 -0.574199   \n",
            "...         ...       ...       ...       ...       ...       ...       ...   \n",
            "45206  0.818182  1.000000  0.971292 -0.174423  0.143718  2.785777  0.078232   \n",
            "45207  0.818182  1.000000  2.872638  0.122957  0.143718  0.766594 -0.247983   \n",
            "45208  0.818182  0.666667  2.967705  1.434192  0.143718  3.367116  0.730662   \n",
            "45209  0.818182  1.000000  1.541696 -0.226070  0.143718  0.968125  0.404447   \n",
            "45210  0.818182  0.333333 -0.359650  0.531525  0.143718  0.398413 -0.247983   \n",
            "\n",
            "          pdays  previous  \n",
            "0     -0.412047 -0.250795  \n",
            "1     -0.412047 -0.250795  \n",
            "2     -0.412047 -0.250795  \n",
            "5     -0.412047 -0.250795  \n",
            "6     -0.412047 -0.250795  \n",
            "...         ...       ...  \n",
            "45206 -0.412047 -0.250795  \n",
            "45207 -0.412047 -0.250795  \n",
            "45208  1.431854  1.036961  \n",
            "45209 -0.412047 -0.250795  \n",
            "45210  1.471722  4.470976  \n",
            "\n",
            "[43354 rows x 16 columns]\n"
          ]
        }
      ]
    },
    {
      "cell_type": "code",
      "source": [
        "train_size = 0.7\n",
        "dev_size = 0.15\n",
        "test_size = 1 - train_size - dev_size"
      ],
      "metadata": {
        "id": "ImnaUFsOnqe-"
      },
      "execution_count": 31,
      "outputs": []
    },
    {
      "cell_type": "code",
      "source": [
        "train, dev, test = np.split(encoded_full.sample(frac=1, random_state=123456),\n",
        "                            [int(train_size*len(encoded_full)),\n",
        "                             int((train_size+dev_size)*len(encoded_full))])\n",
        "print(\"Train size: \" + str(train.size // 16))\n",
        "print(\"Dev size: \" + str(dev.size // 16))\n",
        "print(\"Test size: \" + str(test.size // 16))"
      ],
      "metadata": {
        "colab": {
          "base_uri": "https://localhost:8080/"
        },
        "id": "XWpu6yLCnpXD",
        "outputId": "1319d91f-d208-49f8-a898-e677b3c9ac48"
      },
      "execution_count": 32,
      "outputs": [
        {
          "output_type": "stream",
          "name": "stdout",
          "text": [
            "Train size: 30347\n",
            "Dev size: 6503\n",
            "Test size: 6504\n"
          ]
        }
      ]
    },
    {
      "cell_type": "code",
      "source": [
        "x_train = train.drop(columns=['loan'])\n",
        "y_train = train['loan']\n",
        "\n",
        "x_dev = dev.drop(columns=['loan'])\n",
        "y_dev = dev['loan']\n",
        "\n",
        "x_test = test.drop(columns=['loan'])\n",
        "y_test = test['loan']"
      ],
      "metadata": {
        "id": "FKH3gAmbu5xD"
      },
      "execution_count": 33,
      "outputs": []
    },
    {
      "cell_type": "code",
      "source": [
        "from sklearn.feature_selection import VarianceThreshold"
      ],
      "metadata": {
        "id": "Fdl-1rc3ojbd"
      },
      "execution_count": 34,
      "outputs": []
    },
    {
      "cell_type": "code",
      "source": [
        "# range(0.96, 1, 0.05)\n",
        "vt = VarianceThreshold(threshold = 0.99)\n",
        "x_filtered = vt.fit_transform(x_train)\n",
        "df = x_train[x_train.columns[vt.get_support(indices=True)]]\n",
        "print(df)\n",
        "\n",
        "columns_to_keep = df.columns\n",
        "print(columns_to_keep)"
      ],
      "metadata": {
        "colab": {
          "base_uri": "https://localhost:8080/"
        },
        "id": "Vym7xcrZoeaW",
        "outputId": "fd66437c-2b63-466e-ac8a-f3a7dd9d769c"
      },
      "execution_count": 35,
      "outputs": [
        {
          "output_type": "stream",
          "name": "stdout",
          "text": [
            "            age       day     pdays  previous\n",
            "40880 -1.025121 -0.458228 -0.412047 -0.250795\n",
            "34769  0.115686 -1.180563 -0.412047 -0.250795\n",
            "45194  1.731830  0.023329  1.461755  1.895465\n",
            "1823  -0.739919 -0.819395 -0.412047 -0.250795\n",
            "45151  0.591023 -0.819395  3.365458  0.607709\n",
            "...         ...       ...       ...       ...\n",
            "9793  -0.549785 -0.819395 -0.412047 -0.250795\n",
            "34720 -0.359650 -1.300952  3.096348  4.470976\n",
            "15010  0.115686  0.143718 -0.412047 -0.250795\n",
            "11414  0.971292  0.384496 -0.412047 -0.250795\n",
            "41428  1.541696 -1.421341  1.162744  1.466213\n",
            "\n",
            "[30347 rows x 4 columns]\n",
            "Index(['age', 'day', 'pdays', 'previous'], dtype='object')\n"
          ]
        }
      ]
    },
    {
      "cell_type": "code",
      "source": [
        "x_train = x_filtered\n",
        "y_train = train['loan']\n",
        "\n",
        "x_dev = dev[columns_to_keep]\n",
        "y_dev = dev['loan']\n",
        "\n",
        "x_test = test[columns_to_keep]\n",
        "y_test = test['loan']"
      ],
      "metadata": {
        "id": "9ullZ3alrksc"
      },
      "execution_count": 36,
      "outputs": []
    },
    {
      "cell_type": "code",
      "source": [
        "model = GaussianNB()\n",
        "model.fit(x_filtered, y_train)\n",
        "\n",
        "pred_train = model.predict(x_filtered)\n",
        "pred_test = model.predict(x_test)\n",
        "\n",
        "evaluate_train()\n",
        "evaluate_test()"
      ],
      "metadata": {
        "colab": {
          "base_uri": "https://localhost:8080/"
        },
        "id": "wnMtyrDvrOjP",
        "outputId": "3a123644-9deb-4421-dd99-867b22cd9c92"
      },
      "execution_count": 37,
      "outputs": [
        {
          "output_type": "stream",
          "name": "stderr",
          "text": [
            "/usr/local/lib/python3.7/dist-packages/sklearn/base.py:444: UserWarning: X has feature names, but GaussianNB was fitted without feature names\n",
            "  f\"X has feature names, but {self.__class__.__name__} was fitted without\"\n"
          ]
        },
        {
          "output_type": "stream",
          "name": "stdout",
          "text": [
            "0.0    25386\n",
            "1.0     4961\n",
            "Name: loan, dtype: int64 \n",
            "\n",
            "{0.0: 30347} \n",
            "\n",
            "train - accuracy_score:  0.8365242033808943\n",
            "train - balanced_accuracy_score:  0.5\n",
            "train - recall_score:  0.0\n",
            "train - preision_score:  0.0\n",
            "train - f1_score:  0.0\n",
            "train - brier_score_loss:  0.1634757966191057\n",
            "\n",
            "0.0    5448\n",
            "1.0    1056\n",
            "Name: loan, dtype: int64 \n",
            "\n",
            "{0.0: 6504} \n",
            "\n",
            "test - accuracy_score:  0.8376383763837638\n",
            "test - balanced_accuracy_score:  0.5\n",
            "test - recall_score:  0.0\n",
            "test - preision_score:  0.0\n",
            "test - f1_score:  0.0\n",
            "test - brier_score_loss:  0.16236162361623616\n",
            "\n"
          ]
        }
      ]
    },
    {
      "cell_type": "code",
      "source": [
        "k = 20\n",
        "knn = KNeighborsClassifier(n_neighbors = k)\n",
        "\n",
        "knn.fit(x_train, y_train)\n",
        "\n",
        "pred_train = knn.predict(x_train)\n",
        "pred_test = knn.predict(x_test)\n",
        "\n",
        "evaluate_train()\n",
        "evaluate_test()"
      ],
      "metadata": {
        "colab": {
          "base_uri": "https://localhost:8080/"
        },
        "id": "sRstc9SBvIli",
        "outputId": "30aac3d2-1765-458f-a038-876cd0933d26"
      },
      "execution_count": 38,
      "outputs": [
        {
          "output_type": "stream",
          "name": "stderr",
          "text": [
            "/usr/local/lib/python3.7/dist-packages/sklearn/base.py:444: UserWarning: X has feature names, but KNeighborsClassifier was fitted without feature names\n",
            "  f\"X has feature names, but {self.__class__.__name__} was fitted without\"\n"
          ]
        },
        {
          "output_type": "stream",
          "name": "stdout",
          "text": [
            "0.0    25386\n",
            "1.0     4961\n",
            "Name: loan, dtype: int64 \n",
            "\n",
            "{0.0: 30346, 1.0: 1} \n",
            "\n",
            "train - accuracy_score:  0.8365571555672718\n",
            "train - balanced_accuracy_score:  0.5001007861318283\n",
            "train - recall_score:  0.00020157226365652087\n",
            "train - preision_score:  1.0\n",
            "train - f1_score:  0.0004030632809351068\n",
            "train - brier_score_loss:  0.1634428444327281\n",
            "\n",
            "0.0    5448\n",
            "1.0    1056\n",
            "Name: loan, dtype: int64 \n",
            "\n",
            "{0.0: 6504} \n",
            "\n",
            "test - accuracy_score:  0.8376383763837638\n",
            "test - balanced_accuracy_score:  0.5\n",
            "test - recall_score:  0.0\n",
            "test - preision_score:  0.0\n",
            "test - f1_score:  0.0\n",
            "test - brier_score_loss:  0.16236162361623616\n",
            "\n"
          ]
        }
      ]
    },
    {
      "cell_type": "code",
      "source": [
        "x_train = train.drop(columns=['loan'])\n",
        "y_train = train['loan']\n",
        "\n",
        "x_dev = dev.drop(columns=['loan'])\n",
        "y_dev = dev['loan']\n",
        "\n",
        "x_test = test.drop(columns=['loan'])\n",
        "y_test = test['loan']"
      ],
      "metadata": {
        "id": "ROj-viOIwpbd"
      },
      "execution_count": 39,
      "outputs": []
    },
    {
      "cell_type": "code",
      "source": [
        "from sklearn.ensemble import ExtraTreesClassifier\n",
        "import matplotlib.pyplot as plt"
      ],
      "metadata": {
        "id": "gKhM38yTxjKg"
      },
      "execution_count": 40,
      "outputs": []
    },
    {
      "cell_type": "code",
      "source": [
        "x = x_train\n",
        "y = y_train\n",
        "model = ExtraTreesClassifier()\n",
        "model.fit(x,y)\n",
        "\n",
        "feat_importances = pd.Series(model.feature_importances_, index=x.columns)\n",
        "feat_importances.nlargest(20).plot(kind='barh')\n",
        "plt.show()"
      ],
      "metadata": {
        "colab": {
          "base_uri": "https://localhost:8080/",
          "height": 265
        },
        "id": "Uqyo27b9w41H",
        "outputId": "2a6a5fb1-2ef2-421d-9f78-110929e21f8f"
      },
      "execution_count": 41,
      "outputs": [
        {
          "output_type": "display_data",
          "data": {
            "text/plain": [
              "<Figure size 432x288 with 1 Axes>"
            ],
            "image/png": "[encoded data removed]"
          },
          "metadata": {
            "needs_background": "light"
          }
        }
      ]
    },
    {
      "cell_type": "code",
      "source": [
        "labels_to_keep = ['balance', 'duration', 'age',\n",
        "                  'day', 'campaign', 'job', 'month']"
      ],
      "metadata": {
        "id": "MpI69QUOyN30"
      },
      "execution_count": 42,
      "outputs": []
    },
    {
      "cell_type": "code",
      "source": [
        "x_train = train[labels_to_keep]\n",
        "y_train = train['loan']\n",
        "\n",
        "x_dev = dev[labels_to_keep]\n",
        "y_dev = dev['loan']\n",
        "\n",
        "x_test = test[labels_to_keep]\n",
        "y_test = test['loan']"
      ],
      "metadata": {
        "id": "J7cgJ-eYycJl"
      },
      "execution_count": 43,
      "outputs": []
    },
    {
      "cell_type": "code",
      "source": [
        "model = GaussianNB()\n",
        "model.fit(x_train, y_train)\n",
        "\n",
        "pred_train = model.predict(x_train)\n",
        "pred_test = model.predict(x_test)\n",
        "\n",
        "evaluate_train()\n",
        "evaluate_test()"
      ],
      "metadata": {
        "colab": {
          "base_uri": "https://localhost:8080/"
        },
        "id": "GuXaHWVWyrUc",
        "outputId": "053ce28e-a365-43c5-88ae-f2f9fdd53de2"
      },
      "execution_count": 44,
      "outputs": [
        {
          "output_type": "stream",
          "name": "stdout",
          "text": [
            "0.0    25386\n",
            "1.0     4961\n",
            "Name: loan, dtype: int64 \n",
            "\n",
            "{0.0: 29804, 1.0: 543} \n",
            "\n",
            "train - accuracy_score:  0.826144264671961\n",
            "train - balanced_accuracy_score:  0.5030400799123734\n",
            "train - recall_score:  0.02297923805684338\n",
            "train - preision_score:  0.20994475138121546\n",
            "train - f1_score:  0.04142441860465117\n",
            "train - brier_score_loss:  0.17385573532803902\n",
            "\n",
            "0.0    5448\n",
            "1.0    1056\n",
            "Name: loan, dtype: int64 \n",
            "\n",
            "{0.0: 6371, 1.0: 133} \n",
            "\n",
            "test - accuracy_score:  0.8242619926199262\n",
            "test - balanced_accuracy_score:  0.5007947036443733\n",
            "test - recall_score:  0.021780303030303032\n",
            "test - preision_score:  0.17293233082706766\n",
            "test - f1_score:  0.038687973086627414\n",
            "test - brier_score_loss:  0.1757380073800738\n",
            "\n"
          ]
        }
      ]
    },
    {
      "cell_type": "code",
      "source": [
        "k = 20\n",
        "knn = KNeighborsClassifier(n_neighbors = k)\n",
        "\n",
        "knn.fit(x_train, y_train)\n",
        "\n",
        "pred_train = knn.predict(x_train)\n",
        "pred_test = knn.predict(x_test)\n",
        "\n",
        "evaluate_train()\n",
        "evaluate_test()"
      ],
      "metadata": {
        "colab": {
          "base_uri": "https://localhost:8080/"
        },
        "id": "JAzzzXUtzOrt",
        "outputId": "6096721f-d298-4c5e-d078-851174c3e646"
      },
      "execution_count": 45,
      "outputs": [
        {
          "output_type": "stream",
          "name": "stdout",
          "text": [
            "0.0    25386\n",
            "1.0     4961\n",
            "Name: loan, dtype: int64 \n",
            "\n",
            "{0.0: 30291, 1.0: 56} \n",
            "\n",
            "train - accuracy_score:  0.8369855339901803\n",
            "train - balanced_accuracy_score:  0.5031139008111056\n",
            "train - recall_score:  0.00705502922797823\n",
            "train - preision_score:  0.625\n",
            "train - f1_score:  0.013952561291608531\n",
            "train - brier_score_loss:  0.16301446600981975\n",
            "\n",
            "0.0    5448\n",
            "1.0    1056\n",
            "Name: loan, dtype: int64 \n",
            "\n",
            "{0.0: 6492, 1.0: 12} \n",
            "\n",
            "test - accuracy_score:  0.8373308733087331\n",
            "test - balanced_accuracy_score:  0.5017249866506475\n",
            "test - recall_score:  0.004734848484848485\n",
            "test - preision_score:  0.4166666666666667\n",
            "test - f1_score:  0.009363295880149813\n",
            "test - brier_score_loss:  0.1626691266912669\n",
            "\n"
          ]
        }
      ]
    },
    {
      "cell_type": "markdown",
      "source": [
        "**Különféle feature selection módszerekkel csökkenteni tudtuk a tanuláshoz felhasznált jellemzők számát, és ennek köszönhetően a betanulási idő is csökkent.**"
      ],
      "metadata": {
        "id": "lZyPKoAQzq_a"
      }
    },
    {
      "cell_type": "markdown",
      "source": [
        "## **Train-dev-test halmazméretek variálása**"
      ],
      "metadata": {
        "id": "bfdoTF9LinVf"
      }
    },
    {
      "cell_type": "markdown",
      "source": [
        "- 50% train\n",
        "- 25% dev\n",
        "- 25% test"
      ],
      "metadata": {
        "id": "_ZBxePO8kVV2"
      }
    },
    {
      "cell_type": "code",
      "source": [
        "train_size = 0.5\n",
        "dev_size = 0.25\n",
        "test_size = 1 - train_size - dev_size"
      ],
      "metadata": {
        "id": "wQ6IcZXCuw1H"
      },
      "execution_count": 46,
      "outputs": []
    },
    {
      "cell_type": "code",
      "source": [
        "train, dev, test = np.split(encoded_full.sample(frac=1, random_state=123456),\n",
        "                            [int(train_size*len(encoded_full)),\n",
        "                             int((train_size+dev_size)*len(encoded_full))])\n",
        "print(\"Train size: \" + str(train.size // 16))\n",
        "print(\"Dev size: \" + str(dev.size // 16))\n",
        "print(\"Test size: \" + str(test.size // 16))\n",
        "\n",
        "x_train = train.drop(columns=['loan'])\n",
        "y_train = train['loan']\n",
        "\n",
        "x_dev = dev.drop(columns=['loan'])\n",
        "y_dev = dev['loan']\n",
        "\n",
        "x_test = test.drop(columns=['loan'])\n",
        "y_test = test['loan']"
      ],
      "metadata": {
        "colab": {
          "base_uri": "https://localhost:8080/"
        },
        "id": "D8T2RcJAjAoO",
        "outputId": "9497752e-618a-4449-f7ae-343f3e1a83bd"
      },
      "execution_count": 47,
      "outputs": [
        {
          "output_type": "stream",
          "name": "stdout",
          "text": [
            "Train size: 21677\n",
            "Dev size: 10838\n",
            "Test size: 10839\n"
          ]
        }
      ]
    },
    {
      "cell_type": "code",
      "source": [
        "model = GaussianNB()\n",
        "model.fit(x_train, y_train)\n",
        "\n",
        "pred_train = model.predict(x_train)\n",
        "pred_test = model.predict(x_test)\n",
        "\n",
        "evaluate_train()\n",
        "evaluate_test()"
      ],
      "metadata": {
        "colab": {
          "base_uri": "https://localhost:8080/"
        },
        "id": "JLas07Gqjqcx",
        "outputId": "148ef518-427b-4e2d-d8aa-f7442412d9fa"
      },
      "execution_count": 48,
      "outputs": [
        {
          "output_type": "stream",
          "name": "stdout",
          "text": [
            "0.0    18108\n",
            "1.0     3569\n",
            "Name: loan, dtype: int64 \n",
            "\n",
            "{0.0: 20948, 1.0: 729} \n",
            "\n",
            "train - accuracy_score:  0.8223923974719749\n",
            "train - balanced_accuracy_score:  0.5174372262115486\n",
            "train - recall_score:  0.06276267862146259\n",
            "train - preision_score:  0.30727023319615915\n",
            "train - f1_score:  0.10423452768729641\n",
            "train - brier_score_loss:  0.1776076025280251\n",
            "\n",
            "0.0    9051\n",
            "1.0    1788\n",
            "Name: loan, dtype: int64 \n",
            "\n",
            "{0.0: 10445, 1.0: 394} \n",
            "\n",
            "test - accuracy_score:  0.816957283882277\n",
            "test - balanced_accuracy_score:  0.5113880219398057\n",
            "test - recall_score:  0.05536912751677853\n",
            "test - preision_score:  0.2512690355329949\n",
            "test - f1_score:  0.09074243813015583\n",
            "test - brier_score_loss:  0.18304271611772305\n",
            "\n"
          ]
        }
      ]
    },
    {
      "cell_type": "code",
      "source": [
        "k = 20\n",
        "knn = KNeighborsClassifier(n_neighbors = k)\n",
        "\n",
        "knn.fit(x_train, y_train)\n",
        "\n",
        "pred_train = knn.predict(x_train)\n",
        "pred_test = knn.predict(x_test)\n",
        "\n",
        "evaluate_train()\n",
        "evaluate_test()"
      ],
      "metadata": {
        "colab": {
          "base_uri": "https://localhost:8080/"
        },
        "id": "XHvoX9mbj5Kb",
        "outputId": "fcbc74f1-ac2e-4207-b2d0-8e160b4bb50a"
      },
      "execution_count": 49,
      "outputs": [
        {
          "output_type": "stream",
          "name": "stdout",
          "text": [
            "0.0    18108\n",
            "1.0     3569\n",
            "Name: loan, dtype: int64 \n",
            "\n",
            "{0.0: 21632, 1.0: 45} \n",
            "\n",
            "train - accuracy_score:  0.8354938413987175\n",
            "train - balanced_accuracy_score:  0.5027824321466364\n",
            "train - recall_score:  0.0067245727094424204\n",
            "train - preision_score:  0.5333333333333333\n",
            "train - f1_score:  0.013281682346430549\n",
            "train - brier_score_loss:  0.16450615860128245\n",
            "\n",
            "0.0    9051\n",
            "1.0    1788\n",
            "Name: loan, dtype: int64 \n",
            "\n",
            "{0.0: 10810, 1.0: 29} \n",
            "\n",
            "test - accuracy_score:  0.8340252790847864\n",
            "test - balanced_accuracy_score:  0.5014119282307046\n",
            "test - recall_score:  0.0050335570469798654\n",
            "test - preision_score:  0.3103448275862069\n",
            "test - f1_score:  0.009906439185470555\n",
            "test - brier_score_loss:  0.1659747209152136\n",
            "\n"
          ]
        }
      ]
    },
    {
      "cell_type": "markdown",
      "source": [
        "- 10% train\n",
        "- 45% dev\n",
        "- 45% test"
      ],
      "metadata": {
        "id": "G_WVmT7Fkdbn"
      }
    },
    {
      "cell_type": "code",
      "source": [
        "train_size = 0.1\n",
        "dev_size = 0.45\n",
        "test_size = 1 - train_size - dev_size"
      ],
      "metadata": {
        "id": "pau5ifOZkCcc"
      },
      "execution_count": 50,
      "outputs": []
    },
    {
      "cell_type": "code",
      "source": [
        "train, dev, test = np.split(encoded_full.sample(frac=1, random_state=123456),\n",
        "                            [int(train_size*len(encoded_full)),\n",
        "                             int((train_size+dev_size)*len(encoded_full))])\n",
        "print(\"Train size: \" + str(train.size // 16))\n",
        "print(\"Dev size: \" + str(dev.size // 16))\n",
        "print(\"Test size: \" + str(test.size // 16))\n",
        "\n",
        "x_train = train.drop(columns=['loan'])\n",
        "y_train = train['loan']\n",
        "\n",
        "x_dev = dev.drop(columns=['loan'])\n",
        "y_dev = dev['loan']\n",
        "\n",
        "x_test = test.drop(columns=['loan'])\n",
        "y_test = test['loan']"
      ],
      "metadata": {
        "colab": {
          "base_uri": "https://localhost:8080/"
        },
        "id": "tG-dZj9XkH9m",
        "outputId": "49949f45-d969-4d1f-837f-d5927477d81e"
      },
      "execution_count": 51,
      "outputs": [
        {
          "output_type": "stream",
          "name": "stdout",
          "text": [
            "Train size: 4335\n",
            "Dev size: 19509\n",
            "Test size: 19510\n"
          ]
        }
      ]
    },
    {
      "cell_type": "code",
      "source": [
        "model = GaussianNB()\n",
        "model.fit(x_train, y_train)\n",
        "\n",
        "pred_train = model.predict(x_train)\n",
        "pred_test = model.predict(x_test)\n",
        "\n",
        "evaluate_train()\n",
        "evaluate_test()"
      ],
      "metadata": {
        "colab": {
          "base_uri": "https://localhost:8080/"
        },
        "id": "DbBV2rXtkLEz",
        "outputId": "83c30da3-dee7-46b3-82ae-84968baf10ad"
      },
      "execution_count": 52,
      "outputs": [
        {
          "output_type": "stream",
          "name": "stdout",
          "text": [
            "0.0    3635\n",
            "1.0     700\n",
            "Name: loan, dtype: int64 \n",
            "\n",
            "{0.0: 4163, 1.0: 172} \n",
            "\n",
            "train - accuracy_score:  0.8256055363321799\n",
            "train - balanced_accuracy_score:  0.5257476910984477\n",
            "train - recall_score:  0.08285714285714285\n",
            "train - preision_score:  0.3372093023255814\n",
            "train - f1_score:  0.13302752293577982\n",
            "train - brier_score_loss:  0.17439446366782008\n",
            "\n",
            "0.0    16311\n",
            "1.0     3199\n",
            "Name: loan, dtype: int64 \n",
            "\n",
            "{0.0: 18804, 1.0: 706} \n",
            "\n",
            "test - accuracy_score:  0.820553562275756\n",
            "test - balanced_accuracy_score:  0.5161226698406707\n",
            "test - recall_score:  0.0631447327289778\n",
            "test - preision_score:  0.28611898016997167\n",
            "test - f1_score:  0.10345710627400767\n",
            "test - brier_score_loss:  0.17944643772424398\n",
            "\n"
          ]
        }
      ]
    },
    {
      "cell_type": "code",
      "source": [
        "k = 20\n",
        "knn = KNeighborsClassifier(n_neighbors = k)\n",
        "\n",
        "knn.fit(x_train, y_train)\n",
        "\n",
        "pred_train = knn.predict(x_train)\n",
        "pred_test = knn.predict(x_test)\n",
        "\n",
        "evaluate_train()\n",
        "evaluate_test()"
      ],
      "metadata": {
        "colab": {
          "base_uri": "https://localhost:8080/"
        },
        "id": "7YIYNzSykQIw",
        "outputId": "10f7410f-77d6-463f-d02b-a4218d5c1a42"
      },
      "execution_count": 53,
      "outputs": [
        {
          "output_type": "stream",
          "name": "stdout",
          "text": [
            "0.0    3635\n",
            "1.0     700\n",
            "Name: loan, dtype: int64 \n",
            "\n",
            "{0.0: 4334, 1.0: 1} \n",
            "\n",
            "train - accuracy_score:  0.8387543252595155\n",
            "train - balanced_accuracy_score:  0.5007142857142857\n",
            "train - recall_score:  0.0014285714285714286\n",
            "train - preision_score:  1.0\n",
            "train - f1_score:  0.0028530670470756064\n",
            "train - brier_score_loss:  0.16124567474048443\n",
            "\n",
            "0.0    16311\n",
            "1.0     3199\n",
            "Name: loan, dtype: int64 \n",
            "\n",
            "{0.0: 19506, 1.0: 4} \n",
            "\n",
            "test - accuracy_score:  0.8359302921578677\n",
            "test - balanced_accuracy_score:  0.5000643363640801\n",
            "test - recall_score:  0.00031259768677711783\n",
            "test - preision_score:  0.25\n",
            "test - f1_score:  0.0006244146113019045\n",
            "test - brier_score_loss:  0.16406970784213223\n",
            "\n"
          ]
        }
      ]
    },
    {
      "cell_type": "markdown",
      "source": [
        "**Jól látható, hogy kisebb tanítóhalmazt véve is sikeresnek mondható a tanításunk, minimális teljesítménycsökkenésről beszélhetünk csupán.**"
      ],
      "metadata": {
        "id": "OSie6kNBkgso"
      }
    }
  ]
}