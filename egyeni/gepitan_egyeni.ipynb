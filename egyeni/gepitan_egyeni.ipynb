{
  "nbformat": 4,
  "nbformat_minor": 0,
  "metadata": {
    "colab": {
      "name": "gepitan_egyeni.ipynb",
      "provenance": [],
      "collapsed_sections": [
        "mGQH2IZJF8aP",
        "2G08GpeLQgbH",
        "55aTj-A4r926",
        "01PcqIgyGECr",
        "C795hrY2f8UX",
        "N5ZTtlQw9OqC",
        "ORkut5Hq2Ytc",
        "yIvP_yb9F3NP",
        "-tgUpFtXFoIp"
      ]
    },
    "kernelspec": {
      "name": "python3",
      "display_name": "Python 3"
    },
    "language_info": {
      "name": "python"
    },
    "accelerator": "GPU"
  },
  "cells": [
    {
      "cell_type": "markdown",
      "source": [
        "# **Az egyéni feladataim a notebook végén találhatóak, a közösen elkészített munka után!<br>A kódban többször előfordulnak változónév-ismétlődések, ezért a kódblokkok egyesével történő futtatása nem megfelelő sorrendben hibás eredményekhez vezethet!**"
      ],
      "metadata": {
        "id": "KK7szP722E04"
      }
    },
    {
      "cell_type": "markdown",
      "source": [
        "# **Feladatleírás**"
      ],
      "metadata": {
        "id": "mGQH2IZJF8aP"
      }
    },
    {
      "cell_type": "markdown",
      "source": [
        "A projekt során egy felügyelt gépi tanulási problémát oldunk meg egy általunk tetszőlegesen választott adatbázison. A munkához egy banki adatbázist választottunk, amiben a bank az ügyfeleiről tárol el különféle adatokat. Ezek alapján azt szeretnénk megjósolni, hogy egy új ügyfél a jövőben fog-e betéti számlát nyitni."
      ],
      "metadata": {
        "id": "1IFjtr9KF_jb"
      }
    },
    {
      "cell_type": "markdown",
      "source": [
        "# **Importok**"
      ],
      "metadata": {
        "id": "2G08GpeLQgbH"
      }
    },
    {
      "cell_type": "code",
      "source": [
        "import os\n",
        "from zipfile import ZipFile\n",
        "import urllib.request\n",
        "import pandas as pd\n",
        "import numpy as np\n",
        "from sklearn import datasets\n",
        "from sklearn import preprocessing\n",
        "from sklearn.preprocessing import MinMaxScaler\n",
        "from sklearn.feature_selection import SelectKBest, chi2\n",
        "from sklearn.dummy import DummyClassifier\n",
        "from sklearn.metrics import (accuracy_score, balanced_accuracy_score,\n",
        "recall_score, precision_score, f1_score, brier_score_loss)\n",
        "from scipy.stats import binom_test\n",
        "from sklearn.naive_bayes import GaussianNB\n",
        "from sklearn.mixture import GaussianMixture\n",
        "from sklearn.model_selection import GridSearchCV\n",
        "from sklearn.neighbors import NearestCentroid, KNeighborsClassifier"
      ],
      "metadata": {
        "id": "FcYq3BU4Qmxs"
      },
      "execution_count": null,
      "outputs": []
    },
    {
      "cell_type": "markdown",
      "source": [
        "# **Paraméterek**"
      ],
      "metadata": {
        "id": "55aTj-A4r926"
      }
    },
    {
      "cell_type": "code",
      "source": [
        "str_labels = ['job', 'marital', 'education', 'default', 'housing', 'loan']\n",
        "int_labels = ['age', 'balance']\n",
        "labels = str_labels + int_labels\n",
        "\n",
        "empty_drop = True\n",
        "\n",
        "train_size = 0.7\n",
        "dev_size = 0.15\n",
        "test_size = 1 - train_size - dev_size"
      ],
      "metadata": {
        "id": "HFYidrVpr-g6"
      },
      "execution_count": null,
      "outputs": []
    },
    {
      "cell_type": "markdown",
      "source": [
        "# **Dataset**"
      ],
      "metadata": {
        "id": "01PcqIgyGECr"
      }
    },
    {
      "cell_type": "markdown",
      "source": [
        "Az adatokat egy linkből importáltuk be. Az így elért adatokat kicsomagoltuk és betöltöttük."
      ],
      "metadata": {
        "id": "-DnQJPYnVm2A"
      }
    },
    {
      "cell_type": "code",
      "source": [
        "url = 'https://archive.ics.uci.edu/ml/machine-learning-databases/00222/bank.zip'\n",
        "urllib.request.urlretrieve(url, './bank.zip') \n",
        "with ZipFile('bank.zip', \"r\") as zipObj:\n",
        "    zipObj.extractall()\n",
        "\n",
        "bankdata_full = pd.read_csv(\"./bank-full.csv\", delimiter=';')\n",
        "# Tesztelesbol kiirjuk a beolvasott .csv fajl egyes reszeit\n",
        "print(\"Adatrekordok szama: \" + str(len(bankdata_full.index)))\n",
        "print(np.sort((bankdata_full['age'].unique())))"
      ],
      "metadata": {
        "colab": {
          "base_uri": "https://localhost:8080/"
        },
        "id": "49y75mf1PiFa",
        "outputId": "de164ac5-1437-4fa5-cd84-6bb514508be2"
      },
      "execution_count": null,
      "outputs": [
        {
          "output_type": "stream",
          "name": "stdout",
          "text": [
            "Adatrekordok szama: 45211\n",
            "[18 19 20 21 22 23 24 25 26 27 28 29 30 31 32 33 34 35 36 37 38 39 40 41\n",
            " 42 43 44 45 46 47 48 49 50 51 52 53 54 55 56 57 58 59 60 61 62 63 64 65\n",
            " 66 67 68 69 70 71 72 73 74 75 76 77 78 79 80 81 82 83 84 85 86 87 88 89\n",
            " 90 92 93 94 95]\n"
          ]
        }
      ]
    },
    {
      "cell_type": "markdown",
      "source": [
        "# **Adatfeldolgozás (MK - I)**"
      ],
      "metadata": {
        "id": "C795hrY2f8UX"
      }
    },
    {
      "cell_type": "markdown",
      "source": [
        "Megnéztük, hogy mennyi olyan sorunk van az adathalmazban, amiben van üres cella."
      ],
      "metadata": {
        "id": "ZsukFa4Xwz7F"
      }
    },
    {
      "cell_type": "code",
      "source": [
        "for label in labels:\n",
        "    i = 0\n",
        "    for l in bankdata_full[label]:\n",
        "        if l == \"unknown\":\n",
        "            i += 1\n",
        "    print(label + \": \" + str(i))"
      ],
      "metadata": {
        "colab": {
          "base_uri": "https://localhost:8080/"
        },
        "id": "9c-qaLHYhjRt",
        "outputId": "010e0db3-7874-435f-94f9-3f52a910123b"
      },
      "execution_count": null,
      "outputs": [
        {
          "output_type": "stream",
          "name": "stdout",
          "text": [
            "job: 288\n",
            "marital: 0\n",
            "education: 1857\n",
            "default: 0\n",
            "housing: 0\n",
            "loan: 0\n",
            "age: 0\n",
            "balance: 0\n"
          ]
        }
      ]
    },
    {
      "cell_type": "markdown",
      "source": [
        "Majd ezeket kitöröltük."
      ],
      "metadata": {
        "id": "o2k2xIJts4PS"
      }
    },
    {
      "cell_type": "code",
      "source": [
        "if empty_drop:\n",
        "    for label in labels:\n",
        "        for l in bankdata_full[label]:\n",
        "            if l == \"unknown\":\n",
        "                bankdata_dropped = bankdata_full.drop(bankdata_full.loc[bankdata_full[label] == \"unknown\"].index, inplace=False)\n",
        "    print(bankdata_dropped)\n",
        "else:\n",
        "    pass\n",
        "    # TODO: eldobás helyett valami más módszer az üres cellát tartalmazó sorok kezelésére"
      ],
      "metadata": {
        "colab": {
          "base_uri": "https://localhost:8080/"
        },
        "id": "UIMmvDmu3kjA",
        "outputId": "3c19f00f-20ef-447f-d2aa-148a5229b916"
      },
      "execution_count": null,
      "outputs": [
        {
          "output_type": "stream",
          "name": "stdout",
          "text": [
            "       age           job   marital  education default  balance housing loan  \\\n",
            "0       58    management   married   tertiary      no     2143     yes   no   \n",
            "1       44    technician    single  secondary      no       29     yes   no   \n",
            "2       33  entrepreneur   married  secondary      no        2     yes  yes   \n",
            "5       35    management   married   tertiary      no      231     yes   no   \n",
            "6       28    management    single   tertiary      no      447     yes  yes   \n",
            "...    ...           ...       ...        ...     ...      ...     ...  ...   \n",
            "45206   51    technician   married   tertiary      no      825      no   no   \n",
            "45207   71       retired  divorced    primary      no     1729      no   no   \n",
            "45208   72       retired   married  secondary      no     5715      no   no   \n",
            "45209   57   blue-collar   married  secondary      no      668      no   no   \n",
            "45210   37  entrepreneur   married  secondary      no     2971      no   no   \n",
            "\n",
            "         contact  day month  duration  campaign  pdays  previous poutcome    y  \n",
            "0        unknown    5   may       261         1     -1         0  unknown   no  \n",
            "1        unknown    5   may       151         1     -1         0  unknown   no  \n",
            "2        unknown    5   may        76         1     -1         0  unknown   no  \n",
            "5        unknown    5   may       139         1     -1         0  unknown   no  \n",
            "6        unknown    5   may       217         1     -1         0  unknown   no  \n",
            "...          ...  ...   ...       ...       ...    ...       ...      ...  ...  \n",
            "45206   cellular   17   nov       977         3     -1         0  unknown  yes  \n",
            "45207   cellular   17   nov       456         2     -1         0  unknown  yes  \n",
            "45208   cellular   17   nov      1127         5    184         3  success  yes  \n",
            "45209  telephone   17   nov       508         4     -1         0  unknown   no  \n",
            "45210   cellular   17   nov       361         2    188        11    other   no  \n",
            "\n",
            "[43354 rows x 17 columns]\n"
          ]
        }
      ]
    },
    {
      "cell_type": "code",
      "source": [
        "bankdata_dropped['loan'].value_counts()"
      ],
      "metadata": {
        "colab": {
          "base_uri": "https://localhost:8080/"
        },
        "id": "70AHwCHRG1KO",
        "outputId": "e239a96e-a9f5-48b5-ac18-9997bb20adbc"
      },
      "execution_count": null,
      "outputs": [
        {
          "output_type": "execute_result",
          "data": {
            "text/plain": [
              "no     36243\n",
              "yes     7111\n",
              "Name: loan, dtype: int64"
            ]
          },
          "metadata": {},
          "execution_count": 17
        }
      ]
    },
    {
      "cell_type": "markdown",
      "source": [
        "**Ordial Encoder**"
      ],
      "metadata": {
        "id": "pFXA68ZN_enO"
      }
    },
    {
      "cell_type": "code",
      "source": [
        "encoded_str = bankdata_dropped[str_labels]\n",
        "\n",
        "oe = preprocessing.OrdinalEncoder()\n",
        "encoded_str[str_labels] = oe.fit_transform(encoded_str[str_labels])\n",
        "\n",
        "print(encoded_str)"
      ],
      "metadata": {
        "id": "bzp2GA0zxp8y",
        "colab": {
          "base_uri": "https://localhost:8080/"
        },
        "outputId": "2a744f85-0208-4c86-a7f5-761f48eb15cc"
      },
      "execution_count": null,
      "outputs": [
        {
          "output_type": "stream",
          "name": "stdout",
          "text": [
            "       job  marital  education  default  housing  loan\n",
            "0      4.0      1.0        2.0      0.0      1.0   0.0\n",
            "1      9.0      2.0        1.0      0.0      1.0   0.0\n",
            "2      2.0      1.0        1.0      0.0      1.0   1.0\n",
            "5      4.0      1.0        2.0      0.0      1.0   0.0\n",
            "6      4.0      2.0        2.0      0.0      1.0   1.0\n",
            "...    ...      ...        ...      ...      ...   ...\n",
            "45206  9.0      1.0        2.0      0.0      0.0   0.0\n",
            "45207  5.0      0.0        0.0      0.0      0.0   0.0\n",
            "45208  5.0      1.0        1.0      0.0      0.0   0.0\n",
            "45209  1.0      1.0        1.0      0.0      0.0   0.0\n",
            "45210  2.0      1.0        1.0      0.0      0.0   0.0\n",
            "\n",
            "[43354 rows x 6 columns]\n"
          ]
        },
        {
          "output_type": "stream",
          "name": "stderr",
          "text": [
            "/usr/local/lib/python3.7/dist-packages/pandas/core/frame.py:3678: SettingWithCopyWarning: \n",
            "A value is trying to be set on a copy of a slice from a DataFrame.\n",
            "Try using .loc[row_indexer,col_indexer] = value instead\n",
            "\n",
            "See the caveats in the documentation: https://pandas.pydata.org/pandas-docs/stable/user_guide/indexing.html#returning-a-view-versus-a-copy\n",
            "  self[col] = igetitem(value, i)\n"
          ]
        }
      ]
    },
    {
      "cell_type": "markdown",
      "source": [
        "**MinMax Scaler**"
      ],
      "metadata": {
        "id": "kNeaw7lwyxET"
      }
    },
    {
      "cell_type": "code",
      "source": [
        "min_max_scaler = preprocessing.MinMaxScaler()\n",
        "encoded_str[str_labels] = min_max_scaler.fit_transform(encoded_str[str_labels])\n",
        "\n",
        "print(encoded_str)"
      ],
      "metadata": {
        "colab": {
          "base_uri": "https://localhost:8080/"
        },
        "id": "L2eCgwfCywKW",
        "outputId": "562979ea-9421-40c9-9592-82e4c8de6f54"
      },
      "execution_count": null,
      "outputs": [
        {
          "output_type": "stream",
          "name": "stdout",
          "text": [
            "            job  marital  education  default  housing  loan\n",
            "0      0.363636      0.5        1.0      0.0      1.0   0.0\n",
            "1      0.818182      1.0        0.5      0.0      1.0   0.0\n",
            "2      0.181818      0.5        0.5      0.0      1.0   1.0\n",
            "5      0.363636      0.5        1.0      0.0      1.0   0.0\n",
            "6      0.363636      1.0        1.0      0.0      1.0   1.0\n",
            "...         ...      ...        ...      ...      ...   ...\n",
            "45206  0.818182      0.5        1.0      0.0      0.0   0.0\n",
            "45207  0.454545      0.0        0.0      0.0      0.0   0.0\n",
            "45208  0.454545      0.5        0.5      0.0      0.0   0.0\n",
            "45209  0.090909      0.5        0.5      0.0      0.0   0.0\n",
            "45210  0.181818      0.5        0.5      0.0      0.0   0.0\n",
            "\n",
            "[43354 rows x 6 columns]\n"
          ]
        },
        {
          "output_type": "stream",
          "name": "stderr",
          "text": [
            "/usr/local/lib/python3.7/dist-packages/pandas/core/frame.py:3678: SettingWithCopyWarning: \n",
            "A value is trying to be set on a copy of a slice from a DataFrame.\n",
            "Try using .loc[row_indexer,col_indexer] = value instead\n",
            "\n",
            "See the caveats in the documentation: https://pandas.pydata.org/pandas-docs/stable/user_guide/indexing.html#returning-a-view-versus-a-copy\n",
            "  self[col] = igetitem(value, i)\n"
          ]
        }
      ]
    },
    {
      "cell_type": "markdown",
      "source": [
        "**Standard Scaler**"
      ],
      "metadata": {
        "id": "PrYzJcNrylcs"
      }
    },
    {
      "cell_type": "code",
      "source": [
        "encoded_int = bankdata_dropped[int_labels]\n",
        "\n",
        "ss = preprocessing.StandardScaler()\n",
        "encoded_int[int_labels] = ss.fit_transform(encoded_int[int_labels])\n",
        "\n",
        "print(encoded_int)"
      ],
      "metadata": {
        "id": "22PsiQruohdF",
        "colab": {
          "base_uri": "https://localhost:8080/"
        },
        "outputId": "e1e487db-af27-4e10-96de-2bb77e012ea3"
      },
      "execution_count": null,
      "outputs": [
        {
          "output_type": "stream",
          "name": "stdout",
          "text": [
            "            age   balance\n",
            "0      1.636763  0.259146\n",
            "1      0.305821 -0.436276\n",
            "2     -0.739919 -0.445158\n",
            "5     -0.549785 -0.369826\n",
            "6     -1.215256 -0.298770\n",
            "...         ...       ...\n",
            "45206  0.971292 -0.174423\n",
            "45207  2.872638  0.122957\n",
            "45208  2.967705  1.434192\n",
            "45209  1.541696 -0.226070\n",
            "45210 -0.359650  0.531525\n",
            "\n",
            "[43354 rows x 2 columns]\n"
          ]
        },
        {
          "output_type": "stream",
          "name": "stderr",
          "text": [
            "/usr/local/lib/python3.7/dist-packages/pandas/core/frame.py:3678: SettingWithCopyWarning: \n",
            "A value is trying to be set on a copy of a slice from a DataFrame.\n",
            "Try using .loc[row_indexer,col_indexer] = value instead\n",
            "\n",
            "See the caveats in the documentation: https://pandas.pydata.org/pandas-docs/stable/user_guide/indexing.html#returning-a-view-versus-a-copy\n",
            "  self[col] = igetitem(value, i)\n"
          ]
        }
      ]
    },
    {
      "cell_type": "markdown",
      "source": [
        "**Ellenőrzésképp átlag és szórás kiszámolása**"
      ],
      "metadata": {
        "id": "OEN6wnEqzBS-"
      }
    },
    {
      "cell_type": "code",
      "source": [
        "print(np.mean(encoded_int['age'],axis=0))\n",
        "print(np.std(encoded_int['age'],axis=0))"
      ],
      "metadata": {
        "colab": {
          "base_uri": "https://localhost:8080/"
        },
        "id": "ewXobE9rua_Q",
        "outputId": "8d5e3eed-03fc-41c7-e32b-01fee59d030e"
      },
      "execution_count": null,
      "outputs": [
        {
          "output_type": "stream",
          "name": "stdout",
          "text": [
            "-1.1595856186710912e-15\n",
            "1.0000000000000047\n"
          ]
        }
      ]
    },
    {
      "cell_type": "markdown",
      "source": [
        "**Elkészült adatoszlopok összefűzése**"
      ],
      "metadata": {
        "id": "BpW7bq_My8Gj"
      }
    },
    {
      "cell_type": "code",
      "source": [
        "encoded_full = pd.concat([encoded_str, encoded_int], axis=1)\n",
        "print(encoded_full)"
      ],
      "metadata": {
        "id": "pzkCbndwqv_g",
        "colab": {
          "base_uri": "https://localhost:8080/"
        },
        "outputId": "de2dcd0a-e8ff-4c48-c4ad-ec690df2de8f"
      },
      "execution_count": null,
      "outputs": [
        {
          "output_type": "stream",
          "name": "stdout",
          "text": [
            "            job  marital  education  default  housing  loan       age  \\\n",
            "0      0.363636      0.5        1.0      0.0      1.0   0.0  1.636763   \n",
            "1      0.818182      1.0        0.5      0.0      1.0   0.0  0.305821   \n",
            "2      0.181818      0.5        0.5      0.0      1.0   1.0 -0.739919   \n",
            "5      0.363636      0.5        1.0      0.0      1.0   0.0 -0.549785   \n",
            "6      0.363636      1.0        1.0      0.0      1.0   1.0 -1.215256   \n",
            "...         ...      ...        ...      ...      ...   ...       ...   \n",
            "45206  0.818182      0.5        1.0      0.0      0.0   0.0  0.971292   \n",
            "45207  0.454545      0.0        0.0      0.0      0.0   0.0  2.872638   \n",
            "45208  0.454545      0.5        0.5      0.0      0.0   0.0  2.967705   \n",
            "45209  0.090909      0.5        0.5      0.0      0.0   0.0  1.541696   \n",
            "45210  0.181818      0.5        0.5      0.0      0.0   0.0 -0.359650   \n",
            "\n",
            "        balance  \n",
            "0      0.259146  \n",
            "1     -0.436276  \n",
            "2     -0.445158  \n",
            "5     -0.369826  \n",
            "6     -0.298770  \n",
            "...         ...  \n",
            "45206 -0.174423  \n",
            "45207  0.122957  \n",
            "45208  1.434192  \n",
            "45209 -0.226070  \n",
            "45210  0.531525  \n",
            "\n",
            "[43354 rows x 8 columns]\n"
          ]
        }
      ]
    },
    {
      "cell_type": "markdown",
      "source": [
        "**Adathalmaz felosztása**"
      ],
      "metadata": {
        "id": "qtslvauPosNv"
      }
    },
    {
      "cell_type": "code",
      "source": [
        "train, dev, test = np.split(encoded_full.sample(frac=1, random_state=123456),\n",
        "                            [int(train_size*len(encoded_full)), int((train_size+dev_size)*len(encoded_full))])\n",
        "print(\"Train size: \" + str(train.size // 8))\n",
        "print(\"Dev size: \" + str(dev.size // 8))\n",
        "print(\"Test size: \" + str(test.size // 8))"
      ],
      "metadata": {
        "colab": {
          "base_uri": "https://localhost:8080/"
        },
        "id": "UgaK8neeosp0",
        "outputId": "f9f8ba7d-18a8-4917-b9ec-19ba6198adc5"
      },
      "execution_count": null,
      "outputs": [
        {
          "output_type": "stream",
          "name": "stdout",
          "text": [
            "Train size: 30347\n",
            "Dev size: 6503\n",
            "Test size: 6504\n"
          ]
        }
      ]
    },
    {
      "cell_type": "code",
      "source": [
        "x_train = train.drop(columns=['loan'])\n",
        "y_train = train['loan']\n",
        "\n",
        "x_dev = dev.drop(columns=['loan'])\n",
        "y_dev = dev['loan']\n",
        "\n",
        "x_test = test.drop(columns=['loan'])\n",
        "y_test = test['loan']"
      ],
      "metadata": {
        "id": "5-LQAcAW0yUC"
      },
      "execution_count": null,
      "outputs": []
    },
    {
      "cell_type": "markdown",
      "source": [
        "# **Modellezés (MK - II)**"
      ],
      "metadata": {
        "id": "N5ZTtlQw9OqC"
      }
    },
    {
      "cell_type": "markdown",
      "source": [
        "**Kiértékelő függvények a tanító és a teszt halmazra, amikben különböző metrikákkal vizsgálhatjuk tanításaink sikerességét**"
      ],
      "metadata": {
        "id": "0t_aKpAvFgLN"
      }
    },
    {
      "cell_type": "code",
      "source": [
        "def evaluate_train():\n",
        "\n",
        "    print(y_train.value_counts(), \"\\n\")\n",
        "    unique, counts = np.unique(pred_train, return_counts=True)\n",
        "\n",
        "    print(dict(zip(unique, counts)),  \"\\n\")\n",
        "\n",
        "    test_accuracy_score = accuracy_score(y_train, pred_train)\n",
        "    print('train - accuracy_score: ', test_accuracy_score)\n",
        "\n",
        "    '''\n",
        "    n_success = np.sum(y_test == pred)\n",
        "    p = 0.90\n",
        "    interval = binom_test(n_success, y_test.shape[0], p=p)\n",
        "    print(\"Test-acc: \", acc, \"+/-\", interval, \"(\", p*100, \"%)\")\n",
        "    '''\n",
        "\n",
        "    test_balanced_accuracy_score = balanced_accuracy_score(y_train, pred_train)\n",
        "    print('train - balanced_accuracy_score: ', test_balanced_accuracy_score)\n",
        "\n",
        "    test_recall_score = recall_score(y_train, pred_train)\n",
        "    print('train - recall_score: ', test_recall_score)\n",
        "\n",
        "    test_precision_score = precision_score(y_train, pred_train, zero_division=0)\n",
        "    print('train - preision_score: ', test_precision_score)\n",
        "\n",
        "    test_f1_score = f1_score(y_train, pred_train)\n",
        "    print('train - f1_score: ', test_f1_score)\n",
        "\n",
        "    test_brier_score_loss = brier_score_loss(y_train, pred_train)\n",
        "    print('train - brier_score_loss: ', test_brier_score_loss)\n",
        "\n",
        "    print()"
      ],
      "metadata": {
        "id": "xyAj4jvySzrc"
      },
      "execution_count": null,
      "outputs": []
    },
    {
      "cell_type": "code",
      "source": [
        "def evaluate_test():\n",
        "\n",
        "    print(y_test.value_counts(), \"\\n\")\n",
        "    unique, counts = np.unique(pred_test, return_counts=True)\n",
        "\n",
        "    print(dict(zip(unique, counts)),  \"\\n\")\n",
        "\n",
        "    test_accuracy_score = accuracy_score(y_test, pred_test)\n",
        "    print('test - accuracy_score: ', test_accuracy_score)\n",
        "\n",
        "    '''\n",
        "    n_success = np.sum(y_test == pred)\n",
        "    p = 0.90\n",
        "    interval = binom_test(n_success, y_test.shape[0], p=p)\n",
        "    print(\"Test-acc: \", acc, \"+/-\", interval, \"(\", p*100, \"%)\")\n",
        "    '''\n",
        "\n",
        "    test_balanced_accuracy_score = balanced_accuracy_score(y_test, pred_test)\n",
        "    print('test - balanced_accuracy_score: ', test_balanced_accuracy_score)\n",
        "\n",
        "    test_recall_score = recall_score(y_test, pred_test)\n",
        "    print('test - recall_score: ', test_recall_score)\n",
        "\n",
        "    test_precision_score = precision_score(y_test, pred_test, zero_division=0)\n",
        "    print('test - preision_score: ', test_precision_score)\n",
        "\n",
        "    test_f1_score = f1_score(y_test, pred_test)\n",
        "    print('test - f1_score: ', test_f1_score)\n",
        "\n",
        "    test_brier_score_loss = brier_score_loss(y_test, pred_test)\n",
        "    print('test - brier_score_loss: ', test_brier_score_loss)\n",
        "\n",
        "    print()"
      ],
      "metadata": {
        "id": "ia-DkoAJE_AT"
      },
      "execution_count": null,
      "outputs": []
    },
    {
      "cell_type": "markdown",
      "source": [
        "**Baseline (Constant)**"
      ],
      "metadata": {
        "id": "ZWGbK8gktW4v"
      }
    },
    {
      "cell_type": "code",
      "source": [
        "base_line = DummyClassifier(strategy='constant', constant=1.0)\n",
        "base_line.fit(x_train, y_train)\n",
        "\n",
        "pred_train = base_line.predict(train)\n",
        "pred_test = base_line.predict(test)\n",
        "\n",
        "evaluate_train()\n",
        "evaluate_test()"
      ],
      "metadata": {
        "id": "FBh46plGtcv3",
        "colab": {
          "base_uri": "https://localhost:8080/"
        },
        "outputId": "ee2fa06c-3db3-4a09-ee9c-bbf0111a6c7c"
      },
      "execution_count": null,
      "outputs": [
        {
          "output_type": "stream",
          "name": "stdout",
          "text": [
            "0.0    25386\n",
            "1.0     4961\n",
            "Name: loan, dtype: int64 \n",
            "\n",
            "{1.0: 30347} \n",
            "\n",
            "train - accuracy_score:  0.1634757966191057\n",
            "train - balanced_accuracy_score:  0.5\n",
            "train - recall_score:  1.0\n",
            "train - preision_score:  0.1634757966191057\n",
            "train - f1_score:  0.2810128016313584\n",
            "train - brier_score_loss:  0.8365242033808943\n",
            "\n",
            "0.0    5448\n",
            "1.0    1056\n",
            "Name: loan, dtype: int64 \n",
            "\n",
            "{1.0: 6504} \n",
            "\n",
            "test - accuracy_score:  0.16236162361623616\n",
            "test - balanced_accuracy_score:  0.5\n",
            "test - recall_score:  1.0\n",
            "test - preision_score:  0.16236162361623616\n",
            "test - f1_score:  0.27936507936507937\n",
            "test - brier_score_loss:  0.8376383763837638\n",
            "\n"
          ]
        }
      ]
    },
    {
      "cell_type": "markdown",
      "source": [
        "**Baseline (Random)**"
      ],
      "metadata": {
        "id": "hGxpMhkY9KCQ"
      }
    },
    {
      "cell_type": "code",
      "source": [
        "pred_train = np.random.randint(0, 2, size=(1, len(y_train)))[0]\n",
        "pred_test = np.random.randint(0, 2, size=(1, len(y_test)))[0]\n",
        "\n",
        "evaluate_train()\n",
        "evaluate_test()"
      ],
      "metadata": {
        "colab": {
          "base_uri": "https://localhost:8080/"
        },
        "id": "kY6Goqkg9JMp",
        "outputId": "717a758c-bd55-4e2f-8b44-323d6a632b68"
      },
      "execution_count": null,
      "outputs": [
        {
          "output_type": "stream",
          "name": "stdout",
          "text": [
            "0.0    25386\n",
            "1.0     4961\n",
            "Name: loan, dtype: int64 \n",
            "\n",
            "{0: 15173, 1: 15174} \n",
            "\n",
            "train - accuracy_score:  0.5016640854120671\n",
            "train - balanced_accuracy_score:  0.5030624437460057\n",
            "train - recall_score:  0.5051400927232412\n",
            "train - preision_score:  0.16515091604059576\n",
            "train - f1_score:  0.24891979140799603\n",
            "train - brier_score_loss:  0.4983359145879329\n",
            "\n",
            "0.0    5448\n",
            "1.0    1056\n",
            "Name: loan, dtype: int64 \n",
            "\n",
            "{0: 3291, 1: 3213} \n",
            "\n",
            "test - accuracy_score:  0.5044587945879458\n",
            "test - balanced_accuracy_score:  0.5007529869176345\n",
            "test - recall_score:  0.4952651515151515\n",
            "test - preision_score:  0.16277622159975103\n",
            "test - f1_score:  0.24502225345514175\n",
            "test - brier_score_loss:  0.4955412054120541\n",
            "\n"
          ]
        }
      ]
    },
    {
      "cell_type": "markdown",
      "source": [
        "**Baseline (Random with given distribution)**"
      ],
      "metadata": {
        "id": "f_d47S1QAjLM"
      }
    },
    {
      "cell_type": "code",
      "source": [
        "pred_train = np.random.choice(2, len(pred_train), p=[0.83, 0.17])\n",
        "pred_test = np.random.choice(2, len(pred_test), p=[0.83, 0.17])\n",
        "\n",
        "evaluate_train()\n",
        "evaluate_test()"
      ],
      "metadata": {
        "colab": {
          "base_uri": "https://localhost:8080/"
        },
        "id": "AVY4ywnL__91",
        "outputId": "9f325de1-aab6-4d05-9a56-65abb7bb97af"
      },
      "execution_count": null,
      "outputs": [
        {
          "output_type": "stream",
          "name": "stdout",
          "text": [
            "0.0    25386\n",
            "1.0     4961\n",
            "Name: loan, dtype: int64 \n",
            "\n",
            "{0: 25166, 1: 5181} \n",
            "\n",
            "train - accuracy_score:  0.71852242396283\n",
            "train - balanced_accuracy_score:  0.49434118782296443\n",
            "train - recall_score:  0.16125781092521668\n",
            "train - preision_score:  0.15441034549314805\n",
            "train - f1_score:  0.15775981068822717\n",
            "train - brier_score_loss:  0.28147757603717005\n",
            "\n",
            "0.0    5448\n",
            "1.0    1056\n",
            "Name: loan, dtype: int64 \n",
            "\n",
            "{0: 5392, 1: 1112} \n",
            "\n",
            "test - accuracy_score:  0.7177121771217713\n",
            "test - balanced_accuracy_score:  0.4917776331597918\n",
            "test - recall_score:  0.1571969696969697\n",
            "test - preision_score:  0.14928057553956833\n",
            "test - f1_score:  0.15313653136531363\n",
            "test - brier_score_loss:  0.2822878228782288\n",
            "\n"
          ]
        }
      ]
    },
    {
      "cell_type": "markdown",
      "source": [
        "**Baseline (Most Frequent)**"
      ],
      "metadata": {
        "id": "w2KWCafr80U-"
      }
    },
    {
      "cell_type": "code",
      "source": [
        "base_line = DummyClassifier(strategy='most_frequent')\n",
        "base_line.fit(x_train, y_train)\n",
        "\n",
        "pred_train = base_line.predict(train)\n",
        "pred_test = base_line.predict(test)\n",
        "\n",
        "evaluate_train()\n",
        "evaluate_test()"
      ],
      "metadata": {
        "colab": {
          "base_uri": "https://localhost:8080/"
        },
        "id": "yCX7gQaV8sLF",
        "outputId": "f197cfea-cd9c-4099-ae47-88ff9e16d8a4"
      },
      "execution_count": null,
      "outputs": [
        {
          "output_type": "stream",
          "name": "stdout",
          "text": [
            "0.0    25386\n",
            "1.0     4961\n",
            "Name: loan, dtype: int64 \n",
            "\n",
            "{0.0: 30347} \n",
            "\n",
            "train - accuracy_score:  0.8365242033808943\n",
            "train - balanced_accuracy_score:  0.5\n",
            "train - recall_score:  0.0\n",
            "train - preision_score:  0.0\n",
            "train - f1_score:  0.0\n",
            "train - brier_score_loss:  0.1634757966191057\n",
            "\n",
            "0.0    5448\n",
            "1.0    1056\n",
            "Name: loan, dtype: int64 \n",
            "\n",
            "{0.0: 6504} \n",
            "\n",
            "test - accuracy_score:  0.8376383763837638\n",
            "test - balanced_accuracy_score:  0.5\n",
            "test - recall_score:  0.0\n",
            "test - preision_score:  0.0\n",
            "test - f1_score:  0.0\n",
            "test - brier_score_loss:  0.16236162361623616\n",
            "\n"
          ]
        }
      ]
    },
    {
      "cell_type": "markdown",
      "source": [
        "**Gaussian Naive-Bayes**"
      ],
      "metadata": {
        "id": "q00QgsPYA9E_"
      }
    },
    {
      "cell_type": "code",
      "source": [
        "model = GaussianNB()\n",
        "model.fit(x_train, y_train)\n",
        "\n",
        "pred_train = model.predict(x_train)\n",
        "pred_test = model.predict(x_test)\n",
        "\n",
        "evaluate_train()\n",
        "evaluate_test()"
      ],
      "metadata": {
        "colab": {
          "base_uri": "https://localhost:8080/"
        },
        "id": "Ru7niogAA9aG",
        "outputId": "190d663b-1d05-47c3-c227-2d54f295d0ae"
      },
      "execution_count": null,
      "outputs": [
        {
          "output_type": "stream",
          "name": "stdout",
          "text": [
            "0.0    25386\n",
            "1.0     4961\n",
            "Name: loan, dtype: int64 \n",
            "\n",
            "{0.0: 29792, 1.0: 555} \n",
            "\n",
            "train - accuracy_score:  0.8322733713381882\n",
            "train - balanced_accuracy_score:  0.5147314498610314\n",
            "train - recall_score:  0.042934892158838944\n",
            "train - preision_score:  0.3837837837837838\n",
            "train - f1_score:  0.0772298767222625\n",
            "train - brier_score_loss:  0.1677266286618117\n",
            "\n",
            "0.0    5448\n",
            "1.0    1056\n",
            "Name: loan, dtype: int64 \n",
            "\n",
            "{0.0: 6385, 1.0: 119} \n",
            "\n",
            "test - accuracy_score:  0.8322570725707257\n",
            "test - balanced_accuracy_score:  0.5128195501268188\n",
            "test - recall_score:  0.03977272727272727\n",
            "test - preision_score:  0.35294117647058826\n",
            "test - f1_score:  0.07148936170212765\n",
            "test - brier_score_loss:  0.1677429274292743\n",
            "\n"
          ]
        }
      ]
    },
    {
      "cell_type": "markdown",
      "source": [
        "**Gaussian Mixture Model**"
      ],
      "metadata": {
        "id": "ozvvCyg9Fvg_"
      }
    },
    {
      "cell_type": "code",
      "source": [
        "def make_prediction(gmms, x):\n",
        "    n_samples = x.shape[0]\n",
        "    p_test = np.zeros(n_samples)\n",
        "    for i in range(n_samples):\n",
        "        pred_val = -np.inf\n",
        "        for c_idx in range(len(gmms)):\n",
        "            dense_val = gmms[c_idx].score(x[i:(i+1)])\n",
        "            if dense_val > pred_val:\n",
        "                p_test[i]=c_idx\n",
        "                pred_val=dense_val\n",
        "    return p_test\n",
        "\n",
        "#cov_type = 'spherical'\n",
        "#cov_type = 'full'\n",
        "#cov_type = 'diag'\n",
        "cov_type = 'tied'\n",
        "n_components = 1\n",
        "gmm_models = {0:GaussianMixture(n_components=n_components, covariance_type=cov_type),\n",
        "              1:GaussianMixture(n_components=n_components, covariance_type=cov_type)}\n",
        "\n",
        "for (c_idx, model) in gmm_models.items():\n",
        "    #print(x_train[y_train == c_idx].shape)\n",
        "    model.fit(x_train[y_train == c_idx])\n",
        "\n",
        "pred_train = make_prediction(gmm_models, x_train)\n",
        "#print('train_acc: ', accuracy_score(y_train, pred_train))\n",
        "pred_test = make_prediction(gmm_models, x_test)\n",
        "#print('test_acc: ', accuracy_score(y_test, pred_test))\n",
        "\n",
        "evaluate_train()\n",
        "evaluate_test()"
      ],
      "metadata": {
        "colab": {
          "base_uri": "https://localhost:8080/"
        },
        "id": "q7ibJ63yFv25",
        "outputId": "b262adde-13fe-4d7a-fd0c-f5b99d5ba40e"
      },
      "execution_count": null,
      "outputs": [
        {
          "output_type": "stream",
          "name": "stdout",
          "text": [
            "0.0    25386\n",
            "1.0     4961\n",
            "Name: loan, dtype: int64 \n",
            "\n",
            "{0.0: 20176, 1.0: 10171} \n",
            "\n",
            "train - accuracy_score:  0.6507068243977988\n",
            "train - balanced_accuracy_score:  0.5726853217802714\n",
            "train - recall_score:  0.4567627494456763\n",
            "train - preision_score:  0.22279028610756071\n",
            "train - f1_score:  0.2994977531060006\n",
            "train - brier_score_loss:  0.3492931756022012\n",
            "\n",
            "0.0    5448\n",
            "1.0    1056\n",
            "Name: loan, dtype: int64 \n",
            "\n",
            "{0.0: 4354, 1.0: 2150} \n",
            "\n",
            "test - accuracy_score:  0.6420664206642066\n",
            "test - balanced_accuracy_score:  0.5508297456948338\n",
            "test - recall_score:  0.41571969696969696\n",
            "test - preision_score:  0.20418604651162792\n",
            "test - f1_score:  0.27386150966936995\n",
            "test - brier_score_loss:  0.35793357933579334\n",
            "\n"
          ]
        }
      ]
    },
    {
      "cell_type": "markdown",
      "source": [
        "**K Nearest Neighbour**"
      ],
      "metadata": {
        "id": "-XeGw_nMQA0o"
      }
    },
    {
      "cell_type": "code",
      "source": [
        "k = 2\n",
        "knn = KNeighborsClassifier(n_neighbors = k)\n",
        "\n",
        "knn.fit(x_train, y_train)\n",
        "\n",
        "pred_train = knn.predict(x_train)\n",
        "pred_test = knn.predict(x_test)\n",
        "\n",
        "evaluate_train()\n",
        "evaluate_test()"
      ],
      "metadata": {
        "colab": {
          "base_uri": "https://localhost:8080/"
        },
        "id": "RJvZZVD6QBIK",
        "outputId": "b8780d98-5903-4d30-c6ae-419ca1128120"
      },
      "execution_count": null,
      "outputs": [
        {
          "output_type": "stream",
          "name": "stdout",
          "text": [
            "0.0    25386\n",
            "1.0     4961\n",
            "Name: loan, dtype: int64 \n",
            "\n",
            "{0.0: 29063, 1.0: 1284} \n",
            "\n",
            "train - accuracy_score:  0.8787030019441789\n",
            "train - balanced_accuracy_score:  0.629168429213079\n",
            "train - recall_score:  0.25841564200765976\n",
            "train - preision_score:  0.9984423676012462\n",
            "train - f1_score:  0.4105684547638111\n",
            "train - brier_score_loss:  0.121296998055821\n",
            "\n",
            "0.0    5448\n",
            "1.0    1056\n",
            "Name: loan, dtype: int64 \n",
            "\n",
            "{0.0: 6276, 1.0: 228} \n",
            "\n",
            "test - accuracy_score:  0.826260762607626\n",
            "test - balanced_accuracy_score:  0.5226000367107195\n",
            "test - recall_score:  0.07291666666666667\n",
            "test - preision_score:  0.33771929824561403\n",
            "test - f1_score:  0.11993769470404986\n",
            "test - brier_score_loss:  0.17373923739237393\n",
            "\n"
          ]
        }
      ]
    },
    {
      "cell_type": "markdown",
      "source": [
        "**GridSearch a legjobb szomszédsági szám megtalálásához**"
      ],
      "metadata": {
        "id": "X14WKnzIY6aB"
      }
    },
    {
      "cell_type": "code",
      "source": [
        "tuned_parameters = [{'n_neighbors': range(21)}]\n",
        "scoring='accuracy'\n",
        "base_model = KNeighborsClassifier()\n",
        "clf = GridSearchCV(base_model, tuned_parameters, cv=5, scoring=scoring,\n",
        "                   return_train_score=True, refit=True)\n",
        "clf.fit(x_train, y_train)\n",
        "print(\"Best parameters set found on development set:\\n\")\n",
        "print(clf.best_params_)\n",
        "print(\"\\nGrid scores on development set:\\n\")\n",
        "val_means = clf.cv_results_['mean_test_score']\n",
        "val_stds = clf.cv_results_['std_test_score']\n",
        "for mean, std, params in zip(val_means, val_stds, clf.cv_results_['params']):\n",
        "    print(\"%0.3f (+/-%0.03f) for %r\"\n",
        "          % (mean, std * 2, params))"
      ],
      "metadata": {
        "colab": {
          "base_uri": "https://localhost:8080/"
        },
        "id": "1s0oCSRlXuXe",
        "outputId": "c84fdbe9-9063-4c6f-8dc3-9cded0afe4ed"
      },
      "execution_count": null,
      "outputs": [
        {
          "output_type": "stream",
          "name": "stdout",
          "text": [
            "Best parameters set found on development set:\n",
            "\n",
            "{'n_neighbors': 20}\n",
            "\n",
            "Grid scores on development set:\n",
            "\n",
            "nan (+/-nan) for {'n_neighbors': 0}\n",
            "0.758 (+/-0.006) for {'n_neighbors': 1}\n",
            "0.821 (+/-0.004) for {'n_neighbors': 2}\n",
            "0.794 (+/-0.004) for {'n_neighbors': 3}\n",
            "0.826 (+/-0.005) for {'n_neighbors': 4}\n",
            "0.815 (+/-0.003) for {'n_neighbors': 5}\n",
            "0.830 (+/-0.003) for {'n_neighbors': 6}\n",
            "0.824 (+/-0.003) for {'n_neighbors': 7}\n",
            "0.832 (+/-0.002) for {'n_neighbors': 8}\n",
            "0.828 (+/-0.003) for {'n_neighbors': 9}\n",
            "0.834 (+/-0.001) for {'n_neighbors': 10}\n",
            "0.831 (+/-0.003) for {'n_neighbors': 11}\n",
            "0.835 (+/-0.003) for {'n_neighbors': 12}\n",
            "0.833 (+/-0.004) for {'n_neighbors': 13}\n",
            "0.835 (+/-0.002) for {'n_neighbors': 14}\n",
            "0.835 (+/-0.003) for {'n_neighbors': 15}\n",
            "0.836 (+/-0.002) for {'n_neighbors': 16}\n",
            "0.835 (+/-0.003) for {'n_neighbors': 17}\n",
            "0.836 (+/-0.001) for {'n_neighbors': 18}\n",
            "0.835 (+/-0.002) for {'n_neighbors': 19}\n",
            "0.836 (+/-0.001) for {'n_neighbors': 20}\n"
          ]
        },
        {
          "output_type": "stream",
          "name": "stderr",
          "text": [
            "/usr/local/lib/python3.7/dist-packages/sklearn/model_selection/_validation.py:372: FitFailedWarning: \n",
            "5 fits failed out of a total of 105.\n",
            "The score on these train-test partitions for these parameters will be set to nan.\n",
            "If these failures are not expected, you can try to debug them by setting error_score='raise'.\n",
            "\n",
            "Below are more details about the failures:\n",
            "--------------------------------------------------------------------------------\n",
            "5 fits failed with the following error:\n",
            "Traceback (most recent call last):\n",
            "  File \"/usr/local/lib/python3.7/dist-packages/sklearn/model_selection/_validation.py\", line 680, in _fit_and_score\n",
            "    estimator.fit(X_train, y_train, **fit_params)\n",
            "  File \"/usr/local/lib/python3.7/dist-packages/sklearn/neighbors/_classification.py\", line 198, in fit\n",
            "    return self._fit(X, y)\n",
            "  File \"/usr/local/lib/python3.7/dist-packages/sklearn/neighbors/_base.py\", line 569, in _fit\n",
            "    raise ValueError(\"Expected n_neighbors > 0. Got %d\" % self.n_neighbors)\n",
            "ValueError: Expected n_neighbors > 0. Got 0\n",
            "\n",
            "  warnings.warn(some_fits_failed_message, FitFailedWarning)\n",
            "/usr/local/lib/python3.7/dist-packages/sklearn/model_selection/_search.py:972: UserWarning: One or more of the test scores are non-finite: [       nan 0.75766957 0.8209049  0.79355467 0.82607839 0.81480873\n",
            " 0.83019741 0.82387063 0.83187796 0.82802258 0.83355853 0.83128482\n",
            " 0.83471187 0.83296539 0.83507433 0.83500843 0.83550273 0.8351073\n",
            " 0.83583222 0.83527202 0.83586514]\n",
            "  category=UserWarning,\n",
            "/usr/local/lib/python3.7/dist-packages/sklearn/model_selection/_search.py:972: UserWarning: One or more of the train scores are non-finite: [       nan 0.99174547 0.87671762 0.87464164 0.85262958 0.85335454\n",
            " 0.84537186 0.84593205 0.84188718 0.84229908 0.84018191 0.84035491\n",
            " 0.83923453 0.83929219 0.83867433 0.83872375 0.83829538 0.83823771\n",
            " 0.83764458 0.83780934 0.83733977]\n",
            "  category=UserWarning,\n"
          ]
        }
      ]
    },
    {
      "cell_type": "markdown",
      "source": [
        "**Nearest Centroid**"
      ],
      "metadata": {
        "id": "WMJYv43zV9J7"
      }
    },
    {
      "cell_type": "code",
      "source": [
        "nc = NearestCentroid()\n",
        "nc.fit(x_train, y_train)\n",
        "\n",
        "pred_train = nc.predict(x_train)\n",
        "pred_test = nc.predict(x_test)\n",
        "\n",
        "evaluate_train()\n",
        "evaluate_test()"
      ],
      "metadata": {
        "colab": {
          "base_uri": "https://localhost:8080/"
        },
        "id": "JsTtYNCPWNpZ",
        "outputId": "8d9a649a-4b61-4f11-c959-cb11d2a39cac"
      },
      "execution_count": null,
      "outputs": [
        {
          "output_type": "stream",
          "name": "stdout",
          "text": [
            "0.0    25386\n",
            "1.0     4961\n",
            "Name: loan, dtype: int64 \n",
            "\n",
            "{0.0: 10661, 1.0: 19686} \n",
            "\n",
            "train - accuracy_score:  0.4352324776748937\n",
            "train - balanced_accuracy_score:  0.5645561337623568\n",
            "train - recall_score:  0.7567022777665793\n",
            "train - preision_score:  0.19069389413796606\n",
            "train - f1_score:  0.3046212520793605\n",
            "train - brier_score_loss:  0.5647675223251063\n",
            "\n",
            "0.0    5448\n",
            "1.0    1056\n",
            "Name: loan, dtype: int64 \n",
            "\n",
            "{0.0: 2293, 1.0: 4211} \n",
            "\n",
            "test - accuracy_score:  0.43219557195571956\n",
            "test - balanced_accuracy_score:  0.5583888165798958\n",
            "test - recall_score:  0.7452651515151515\n",
            "test - preision_score:  0.18689147470909523\n",
            "test - f1_score:  0.29884184545281944\n",
            "test - brier_score_loss:  0.5678044280442804\n",
            "\n"
          ]
        }
      ]
    },
    {
      "cell_type": "markdown",
      "source": [
        "# **Egyéni feladatok (MK - III)**"
      ],
      "metadata": {
        "id": "eAwcuamWunfu"
      }
    },
    {
      "cell_type": "markdown",
      "source": [
        "## **Feladat 1:<br>GRP, PCA és LDA használata PipeLine felhasználásával**"
      ],
      "metadata": {
        "id": "yIvP_yb9F3NP"
      }
    },
    {
      "cell_type": "markdown",
      "source": [
        "**Szükséges importok**"
      ],
      "metadata": {
        "id": "P9roz1lnUjyd"
      }
    },
    {
      "cell_type": "code",
      "source": [
        "from sklearn.decomposition import PCA\n",
        "from sklearn.discriminant_analysis import LinearDiscriminantAnalysis\n",
        "from sklearn.random_projection import GaussianRandomProjection\n",
        "from sklearn.pipeline import Pipeline\n",
        "import matplotlib.pyplot as plt\n",
        "\n",
        "def display(x,y):\n",
        "    colors=['red','gold']\n",
        "    for idx,c in enumerate(colors):\n",
        "        plt.scatter(x[y==idx,0],x[y==idx,1],c=c,label=str(idx))\n",
        "    plt.legend()"
      ],
      "metadata": {
        "id": "xiUEAUy_GA14"
      },
      "execution_count": null,
      "outputs": []
    },
    {
      "cell_type": "markdown",
      "source": [
        "**Gaussian Random Projection**"
      ],
      "metadata": {
        "id": "3kfN8KXDLN31"
      }
    },
    {
      "cell_type": "code",
      "source": [
        "grp = GaussianRandomProjection(n_components=2)\n",
        "x_transformed = grp.fit_transform(x_train)\n",
        "\n",
        "display(x_transformed,y_train)"
      ],
      "metadata": {
        "colab": {
          "base_uri": "https://localhost:8080/",
          "height": 265
        },
        "id": "QILOarBKKjnD",
        "outputId": "48649057-c506-43d8-9461-eadac35ddf73"
      },
      "execution_count": null,
      "outputs": [
        {
          "output_type": "display_data",
          "data": {
            "text/plain": [
              "<Figure size 432x288 with 1 Axes>"
            ],
            "image/png": "[encoded data removed]"
          },
          "metadata": {
            "needs_background": "light"
          }
        }
      ]
    },
    {
      "cell_type": "code",
      "source": [
        "model = GaussianNB()\n",
        "model.fit(x_train, y_train)\n",
        "\n",
        "print('Base train score:', model.score(x_train, y_train))\n",
        "print('Base test score:', model.score(x_test, y_test))\n",
        "print()\n",
        "\n",
        "grp = GaussianRandomProjection(n_components=2)\n",
        "model = GaussianNB()\n",
        "pipe = Pipeline(steps=[('grp', grp), ('gnb', model)])\n",
        "pipe.fit(x_train, y_train)\n",
        "\n",
        "print('GRP train score:', pipe.score(x_train, y_train))\n",
        "print('GRP test score:', pipe.score(x_test, y_test))"
      ],
      "metadata": {
        "colab": {
          "base_uri": "https://localhost:8080/"
        },
        "id": "PnlVf5YnMuzi",
        "outputId": "6a36122d-775b-4d82-cd51-3d29db09a968"
      },
      "execution_count": null,
      "outputs": [
        {
          "output_type": "stream",
          "name": "stdout",
          "text": [
            "Base train score: 0.8322733713381882\n",
            "Base test score: 0.8322570725707257\n",
            "\n",
            "GRP train score: 0.8365242033808943\n",
            "GRP test score: 0.8376383763837638\n"
          ]
        }
      ]
    },
    {
      "cell_type": "markdown",
      "source": [
        "**Principal component analysis**"
      ],
      "metadata": {
        "id": "pkZBqGWDNeyA"
      }
    },
    {
      "cell_type": "code",
      "source": [
        "pca = PCA(n_components=2)\n",
        "x_transformed = pca.fit_transform(x_train)\n",
        "\n",
        "display(x_transformed, y_train)"
      ],
      "metadata": {
        "colab": {
          "base_uri": "https://localhost:8080/",
          "height": 265
        },
        "id": "l3zBthQcNczL",
        "outputId": "368e6a62-fa0f-44f9-c860-f303d5be7400"
      },
      "execution_count": null,
      "outputs": [
        {
          "output_type": "display_data",
          "data": {
            "text/plain": [
              "<Figure size 432x288 with 1 Axes>"
            ],
            "image/png": "[encoded data removed]"
          },
          "metadata": {
            "needs_background": "light"
          }
        }
      ]
    },
    {
      "cell_type": "code",
      "source": [
        "model = GaussianNB()\n",
        "model.fit(x_train, y_train)\n",
        "\n",
        "print('Base train score:', model.score(x_train, y_train))\n",
        "print('Base test score:', model.score(x_test, y_test))\n",
        "print()\n",
        "\n",
        "pca = PCA(n_components=2)\n",
        "model = GaussianNB()\n",
        "pipe = Pipeline(steps=[('pca', pca), ('gnb', model)])\n",
        "pipe.fit(x_train, y_train)\n",
        "\n",
        "print('PCA train score:', pipe.score(x_train, y_train))\n",
        "print('PCA test score:', pipe.score(x_test, y_test))"
      ],
      "metadata": {
        "colab": {
          "base_uri": "https://localhost:8080/"
        },
        "id": "FqjHakOFQuWg",
        "outputId": "425e2896-b3c0-4b8d-fe13-51f779383c6d"
      },
      "execution_count": null,
      "outputs": [
        {
          "output_type": "stream",
          "name": "stdout",
          "text": [
            "Base train score: 0.8322733713381882\n",
            "Base test score: 0.8322570725707257\n",
            "\n",
            "PCA train score: 0.8365242033808943\n",
            "PCA test score: 0.8376383763837638\n"
          ]
        }
      ]
    },
    {
      "cell_type": "markdown",
      "source": [
        "**Linear Discriminant Analysis**"
      ],
      "metadata": {
        "id": "5OuR8u0kSbJJ"
      }
    },
    {
      "cell_type": "code",
      "source": [
        "# mivel csak két különböző osztályunk van,\n",
        "# ezért LDA-val csakis pontosan 1 komponenst tudunk létrehozni\n",
        "lda = LinearDiscriminantAnalysis(n_components=1)\n",
        "x_transformed = lda.fit_transform(x_train, y_train)\n",
        "print(x_transformed)"
      ],
      "metadata": {
        "colab": {
          "base_uri": "https://localhost:8080/"
        },
        "id": "YBxIfMOrTPEX",
        "outputId": "27adbb43-4c3d-43dc-a65a-d1538d8f8654"
      },
      "execution_count": null,
      "outputs": [
        {
          "output_type": "stream",
          "name": "stdout",
          "text": [
            "[[-0.54800697]\n",
            " [ 0.13839926]\n",
            " [ 0.05650552]\n",
            " ...\n",
            " [ 0.00664518]\n",
            " [ 0.2540141 ]\n",
            " [-0.41606978]]\n"
          ]
        }
      ]
    },
    {
      "cell_type": "code",
      "source": [
        "model = GaussianNB()\n",
        "model.fit(x_train, y_train)\n",
        "\n",
        "print('Base train score:', model.score(x_train, y_train))\n",
        "print('Base test score:', model.score(x_test, y_test))\n",
        "print()\n",
        "\n",
        "lda = LinearDiscriminantAnalysis(n_components=1)\n",
        "model = GaussianNB()\n",
        "pipe = Pipeline(steps=[('lda', lda), ('gnb', model)])\n",
        "pipe.fit(x_train, y_train)\n",
        "\n",
        "print('LDA train score:', pipe.score(x_train, y_train))\n",
        "print('LDA test score:', pipe.score(x_test, y_test))"
      ],
      "metadata": {
        "colab": {
          "base_uri": "https://localhost:8080/"
        },
        "id": "k233wpU_Tssa",
        "outputId": "0b308224-d084-4f03-b3f5-600941e31f0e"
      },
      "execution_count": null,
      "outputs": [
        {
          "output_type": "stream",
          "name": "stdout",
          "text": [
            "Base train score: 0.8322733713381882\n",
            "Base test score: 0.8322570725707257\n",
            "\n",
            "LDA train score: 0.8312189013741061\n",
            "LDA test score: 0.8308733087330873\n"
          ]
        }
      ]
    },
    {
      "cell_type": "markdown",
      "source": [
        "## **Feladat 2:<br>Legjobb módszerek tesztelése kiegyensúlyozott adatbázison**"
      ],
      "metadata": {
        "id": "-tgUpFtXFoIp"
      }
    },
    {
      "cell_type": "markdown",
      "source": [
        "**Adatok beolvasása**"
      ],
      "metadata": {
        "id": "U0LoJz7W9Fmt"
      }
    },
    {
      "cell_type": "code",
      "source": [
        "url = ('https://archive.ics.uci.edu/ml/machine-learning-databases/'\n",
        "        '00267/data_banknote_authentication.txt')\n",
        "\n",
        "banknote_full = pd.read_csv(url, delimiter=',', header=None)\n",
        "\n",
        "# Tesztelesbol kiirjuk a beolvasott .csv fajl egyes reszeit\n",
        "print(\"Adatrekordok szama: \" + str(len(banknote_full.index)))\n",
        "print(np.sort((banknote_full[1].unique())))\n",
        "print(banknote_full[4].value_counts())\n",
        "banknote_full"
      ],
      "metadata": {
        "id": "wQ6IcZXCuw1H",
        "colab": {
          "base_uri": "https://localhost:8080/",
          "height": 494
        },
        "outputId": "6eecb743-22ea-4228-dce3-205baed60782"
      },
      "execution_count": null,
      "outputs": [
        {
          "output_type": "stream",
          "name": "stdout",
          "text": [
            "Adatrekordok szama: 1372\n",
            "[-13.7731 -13.6779 -13.6593 ...  12.6247  12.7302  12.9516]\n",
            "0    762\n",
            "1    610\n",
            "Name: 4, dtype: int64\n"
          ]
        },
        {
          "output_type": "execute_result",
          "data": {
            "text/plain": [
              "            0         1        2        3  4\n",
              "0     3.62160   8.66610  -2.8073 -0.44699  0\n",
              "1     4.54590   8.16740  -2.4586 -1.46210  0\n",
              "2     3.86600  -2.63830   1.9242  0.10645  0\n",
              "3     3.45660   9.52280  -4.0112 -3.59440  0\n",
              "4     0.32924  -4.45520   4.5718 -0.98880  0\n",
              "...       ...       ...      ...      ... ..\n",
              "1367  0.40614   1.34920  -1.4501 -0.55949  1\n",
              "1368 -1.38870  -4.87730   6.4774  0.34179  1\n",
              "1369 -3.75030 -13.45860  17.5932 -2.77710  1\n",
              "1370 -3.56370  -8.38270  12.3930 -1.28230  1\n",
              "1371 -2.54190  -0.65804   2.6842  1.19520  1\n",
              "\n",
              "[1372 rows x 5 columns]"
            ],
            "text/html": [
              "\n",
              "  <div id=\"df-43b01052-5375-48cb-bd6d-2b8a9ac134cc\">\n",
              "    <div class=\"colab-df-container\">\n",
              "      <div>\n",
              "<style scoped>\n",
              "    .dataframe tbody tr th:only-of-type {\n",
              "        vertical-align: middle;\n",
              "    }\n",
              "\n",
              "    .dataframe tbody tr th {\n",
              "        vertical-align: top;\n",
              "    }\n",
              "\n",
              "    .dataframe thead th {\n",
              "        text-align: right;\n",
              "    }\n",
              "</style>\n",
              "<table border=\"1\" class=\"dataframe\">\n",
              "  <thead>\n",
              "    <tr style=\"text-align: right;\">\n",
              "      <th></th>\n",
              "      <th>0</th>\n",
              "      <th>1</th>\n",
              "      <th>2</th>\n",
              "      <th>3</th>\n",
              "      <th>4</th>\n",
              "    </tr>\n",
              "  </thead>\n",
              "  <tbody>\n",
              "    <tr>\n",
              "      <th>0</th>\n",
              "      <td>3.62160</td>\n",
              "      <td>8.66610</td>\n",
              "      <td>-2.8073</td>\n",
              "      <td>-0.44699</td>\n",
              "      <td>0</td>\n",
              "    </tr>\n",
              "    <tr>\n",
              "      <th>1</th>\n",
              "      <td>4.54590</td>\n",
              "      <td>8.16740</td>\n",
              "      <td>-2.4586</td>\n",
              "      <td>-1.46210</td>\n",
              "      <td>0</td>\n",
              "    </tr>\n",
              "    <tr>\n",
              "      <th>2</th>\n",
              "      <td>3.86600</td>\n",
              "      <td>-2.63830</td>\n",
              "      <td>1.9242</td>\n",
              "      <td>0.10645</td>\n",
              "      <td>0</td>\n",
              "    </tr>\n",
              "    <tr>\n",
              "      <th>3</th>\n",
              "      <td>3.45660</td>\n",
              "      <td>9.52280</td>\n",
              "      <td>-4.0112</td>\n",
              "      <td>-3.59440</td>\n",
              "      <td>0</td>\n",
              "    </tr>\n",
              "    <tr>\n",
              "      <th>4</th>\n",
              "      <td>0.32924</td>\n",
              "      <td>-4.45520</td>\n",
              "      <td>4.5718</td>\n",
              "      <td>-0.98880</td>\n",
              "      <td>0</td>\n",
              "    </tr>\n",
              "    <tr>\n",
              "      <th>...</th>\n",
              "      <td>...</td>\n",
              "      <td>...</td>\n",
              "      <td>...</td>\n",
              "      <td>...</td>\n",
              "      <td>...</td>\n",
              "    </tr>\n",
              "    <tr>\n",
              "      <th>1367</th>\n",
              "      <td>0.40614</td>\n",
              "      <td>1.34920</td>\n",
              "      <td>-1.4501</td>\n",
              "      <td>-0.55949</td>\n",
              "      <td>1</td>\n",
              "    </tr>\n",
              "    <tr>\n",
              "      <th>1368</th>\n",
              "      <td>-1.38870</td>\n",
              "      <td>-4.87730</td>\n",
              "      <td>6.4774</td>\n",
              "      <td>0.34179</td>\n",
              "      <td>1</td>\n",
              "    </tr>\n",
              "    <tr>\n",
              "      <th>1369</th>\n",
              "      <td>-3.75030</td>\n",
              "      <td>-13.45860</td>\n",
              "      <td>17.5932</td>\n",
              "      <td>-2.77710</td>\n",
              "      <td>1</td>\n",
              "    </tr>\n",
              "    <tr>\n",
              "      <th>1370</th>\n",
              "      <td>-3.56370</td>\n",
              "      <td>-8.38270</td>\n",
              "      <td>12.3930</td>\n",
              "      <td>-1.28230</td>\n",
              "      <td>1</td>\n",
              "    </tr>\n",
              "    <tr>\n",
              "      <th>1371</th>\n",
              "      <td>-2.54190</td>\n",
              "      <td>-0.65804</td>\n",
              "      <td>2.6842</td>\n",
              "      <td>1.19520</td>\n",
              "      <td>1</td>\n",
              "    </tr>\n",
              "  </tbody>\n",
              "</table>\n",
              "<p>1372 rows × 5 columns</p>\n",
              "</div>\n",
              "      <button class=\"colab-df-convert\" onclick=\"convertToInteractive('df-43b01052-5375-48cb-bd6d-2b8a9ac134cc')\"\n",
              "              title=\"Convert this dataframe to an interactive table.\"\n",
              "              style=\"display:none;\">\n",
              "        \n",
              "  <svg xmlns=\"http://www.w3.org/2000/svg\" height=\"24px\"viewBox=\"0 0 24 24\"\n",
              "       width=\"24px\">\n",
              "    <path d=\"M0 0h24v24H0V0z\" fill=\"none\"/>\n",
              "    <path d=\"M18.56 5.44l.94 2.06.94-2.06 2.06-.94-2.06-.94-.94-2.06-.94 2.06-2.06.94zm-11 1L8.5 8.5l.94-2.06 2.06-.94-2.06-.94L8.5 2.5l-.94 2.06-2.06.94zm10 10l.94 2.06.94-2.06 2.06-.94-2.06-.94-.94-2.06-.94 2.06-2.06.94z\"/><path d=\"M17.41 7.96l-1.37-1.37c-.4-.4-.92-.59-1.43-.59-.52 0-1.04.2-1.43.59L10.3 9.45l-7.72 7.72c-.78.78-.78 2.05 0 2.83L4 21.41c.39.39.9.59 1.41.59.51 0 1.02-.2 1.41-.59l7.78-7.78 2.81-2.81c.8-.78.8-2.07 0-2.86zM5.41 20L4 18.59l7.72-7.72 1.47 1.35L5.41 20z\"/>\n",
              "  </svg>\n",
              "      </button>\n",
              "      \n",
              "  <style>\n",
              "    .colab-df-container {\n",
              "      display:flex;\n",
              "      flex-wrap:wrap;\n",
              "      gap: 12px;\n",
              "    }\n",
              "\n",
              "    .colab-df-convert {\n",
              "      background-color: #E8F0FE;\n",
              "      border: none;\n",
              "      border-radius: 50%;\n",
              "      cursor: pointer;\n",
              "      display: none;\n",
              "      fill: #1967D2;\n",
              "      height: 32px;\n",
              "      padding: 0 0 0 0;\n",
              "      width: 32px;\n",
              "    }\n",
              "\n",
              "    .colab-df-convert:hover {\n",
              "      background-color: #E2EBFA;\n",
              "      box-shadow: 0px 1px 2px rgba(60, 64, 67, 0.3), 0px 1px 3px 1px rgba(60, 64, 67, 0.15);\n",
              "      fill: #174EA6;\n",
              "    }\n",
              "\n",
              "    [theme=dark] .colab-df-convert {\n",
              "      background-color: #3B4455;\n",
              "      fill: #D2E3FC;\n",
              "    }\n",
              "\n",
              "    [theme=dark] .colab-df-convert:hover {\n",
              "      background-color: #434B5C;\n",
              "      box-shadow: 0px 1px 3px 1px rgba(0, 0, 0, 0.15);\n",
              "      filter: drop-shadow(0px 1px 2px rgba(0, 0, 0, 0.3));\n",
              "      fill: #FFFFFF;\n",
              "    }\n",
              "  </style>\n",
              "\n",
              "      <script>\n",
              "        const buttonEl =\n",
              "          document.querySelector('#df-43b01052-5375-48cb-bd6d-2b8a9ac134cc button.colab-df-convert');\n",
              "        buttonEl.style.display =\n",
              "          google.colab.kernel.accessAllowed ? 'block' : 'none';\n",
              "\n",
              "        async function convertToInteractive(key) {\n",
              "          const element = document.querySelector('#df-43b01052-5375-48cb-bd6d-2b8a9ac134cc');\n",
              "          const dataTable =\n",
              "            await google.colab.kernel.invokeFunction('convertToInteractive',\n",
              "                                                     [key], {});\n",
              "          if (!dataTable) return;\n",
              "\n",
              "          const docLinkHtml = 'Like what you see? Visit the ' +\n",
              "            '<a target=\"_blank\" href=https://colab.research.google.com/notebooks/data_table.ipynb>data table notebook</a>'\n",
              "            + ' to learn more about interactive tables.';\n",
              "          element.innerHTML = '';\n",
              "          dataTable['output_type'] = 'display_data';\n",
              "          await google.colab.output.renderOutput(dataTable, element);\n",
              "          const docLink = document.createElement('div');\n",
              "          docLink.innerHTML = docLinkHtml;\n",
              "          element.appendChild(docLink);\n",
              "        }\n",
              "      </script>\n",
              "    </div>\n",
              "  </div>\n",
              "  "
            ]
          },
          "metadata": {},
          "execution_count": 25
        }
      ]
    },
    {
      "cell_type": "markdown",
      "source": [
        "**Jól látható, hogy ez már egy sokkal kiegyensúlyozottabb adatbázis, mint amit korábban használtunk.**"
      ],
      "metadata": {
        "id": "A_2jfxde76qM"
      }
    },
    {
      "cell_type": "code",
      "source": [
        "# hiányos adatsorok megszámlálása\n",
        "for col in range(0,5):\n",
        "    i = 0\n",
        "    for l in banknote_full[col]:\n",
        "        if l == None:\n",
        "            i += 1\n",
        "    print(str(col) + \": \" + str(i))"
      ],
      "metadata": {
        "colab": {
          "base_uri": "https://localhost:8080/"
        },
        "id": "bkUBYIJe6bIP",
        "outputId": "85738b33-6e88-4b74-e17e-f32704978219"
      },
      "execution_count": null,
      "outputs": [
        {
          "output_type": "stream",
          "name": "stdout",
          "text": [
            "0: 0\n",
            "1: 0\n",
            "2: 0\n",
            "3: 0\n",
            "4: 0\n"
          ]
        }
      ]
    },
    {
      "cell_type": "markdown",
      "source": [
        "**A jellemzővektoraink nem hiányosak, azonban értéktartományukat érdemes lehet csökkenteni.**"
      ],
      "metadata": {
        "id": "wj2Gmq1Y8ChS"
      }
    },
    {
      "cell_type": "code",
      "source": [
        "banknote = banknote_full\n",
        "int_labels = [0, 1, 2, 3]\n",
        "\n",
        "encoded_int = banknote[int_labels]\n",
        "\n",
        "ss = preprocessing.StandardScaler()\n",
        "encoded_int[int_labels] = ss.fit_transform(encoded_int[int_labels])\n",
        "\n",
        "print(encoded_int)"
      ],
      "metadata": {
        "colab": {
          "base_uri": "https://localhost:8080/"
        },
        "id": "0Cu2n4rm8TgC",
        "outputId": "d8ce4fe9-16c2-4e4a-97b1-3961eff2750f"
      },
      "execution_count": null,
      "outputs": [
        {
          "output_type": "stream",
          "name": "stdout",
          "text": [
            "             0         1         2         3\n",
            "0     1.121806  1.149455 -0.975970  0.354561\n",
            "1     1.447066  1.064453 -0.895036 -0.128767\n",
            "2     1.207810 -0.777352  0.122218  0.618073\n",
            "3     1.063742  1.295478 -1.255397 -1.144029\n",
            "4    -0.036772 -1.087038  0.736730  0.096587\n",
            "...        ...       ...       ...       ...\n",
            "1367 -0.009711 -0.097693 -0.660962  0.300996\n",
            "1368 -0.641313 -1.158984  1.179023  0.730127\n",
            "1369 -1.472357 -2.621646  3.759017 -0.754884\n",
            "1370 -1.406693 -1.756471  2.552043 -0.043158\n",
            "1371 -1.047122 -0.439822  0.298616  1.136464\n",
            "\n",
            "[1372 rows x 4 columns]\n"
          ]
        },
        {
          "output_type": "stream",
          "name": "stderr",
          "text": [
            "/usr/local/lib/python3.7/dist-packages/pandas/core/frame.py:3678: SettingWithCopyWarning: \n",
            "A value is trying to be set on a copy of a slice from a DataFrame.\n",
            "Try using .loc[row_indexer,col_indexer] = value instead\n",
            "\n",
            "See the caveats in the documentation: https://pandas.pydata.org/pandas-docs/stable/user_guide/indexing.html#returning-a-view-versus-a-copy\n",
            "  self[col] = igetitem(value, i)\n"
          ]
        }
      ]
    },
    {
      "cell_type": "markdown",
      "source": [
        "**Jellemzők és címkék összefűzése**"
      ],
      "metadata": {
        "id": "O4PBPyX3-XWX"
      }
    },
    {
      "cell_type": "code",
      "source": [
        "encoded_label = banknote[4]\n",
        "encoded_full = pd.concat([encoded_int, encoded_label], axis=1)\n",
        "print(encoded_full)"
      ],
      "metadata": {
        "colab": {
          "base_uri": "https://localhost:8080/"
        },
        "id": "Qf4sqZnz98x4",
        "outputId": "ea453e2e-2fee-4f75-e716-cb73e0fec3b0"
      },
      "execution_count": null,
      "outputs": [
        {
          "output_type": "stream",
          "name": "stdout",
          "text": [
            "             0         1         2         3  4\n",
            "0     1.121806  1.149455 -0.975970  0.354561  0\n",
            "1     1.447066  1.064453 -0.895036 -0.128767  0\n",
            "2     1.207810 -0.777352  0.122218  0.618073  0\n",
            "3     1.063742  1.295478 -1.255397 -1.144029  0\n",
            "4    -0.036772 -1.087038  0.736730  0.096587  0\n",
            "...        ...       ...       ...       ... ..\n",
            "1367 -0.009711 -0.097693 -0.660962  0.300996  1\n",
            "1368 -0.641313 -1.158984  1.179023  0.730127  1\n",
            "1369 -1.472357 -2.621646  3.759017 -0.754884  1\n",
            "1370 -1.406693 -1.756471  2.552043 -0.043158  1\n",
            "1371 -1.047122 -0.439822  0.298616  1.136464  1\n",
            "\n",
            "[1372 rows x 5 columns]\n"
          ]
        }
      ]
    },
    {
      "cell_type": "markdown",
      "source": [
        "**Adatsorok felosztása train-dev-test halmazokra**"
      ],
      "metadata": {
        "id": "9LtnXgqo-dSo"
      }
    },
    {
      "cell_type": "code",
      "source": [
        "train, dev, test = np.split(encoded_full.sample(frac=1, random_state=123456),\n",
        "                            [int(train_size * len(encoded_full)),\n",
        "                             int((train_size + dev_size) * len(encoded_full))])\n",
        "print(\"Train size: \" + str(train.size // 5))\n",
        "print(\"Dev size: \" + str(dev.size // 5))\n",
        "print(\"Test size: \" + str(test.size // 5))"
      ],
      "metadata": {
        "colab": {
          "base_uri": "https://localhost:8080/"
        },
        "id": "Bq1FVTMb9C06",
        "outputId": "31d9ec6a-31f2-4426-ab39-8b36a7db0399"
      },
      "execution_count": null,
      "outputs": [
        {
          "output_type": "stream",
          "name": "stdout",
          "text": [
            "Train size: 960\n",
            "Dev size: 206\n",
            "Test size: 206\n"
          ]
        }
      ]
    },
    {
      "cell_type": "code",
      "source": [
        "x_train = train.drop(columns=[4])\n",
        "y_train = train[4]\n",
        "\n",
        "x_dev = dev.drop(columns=[4])\n",
        "y_dev = dev[4]\n",
        "\n",
        "x_test = test.drop(columns=[4])\n",
        "y_test = test[4]"
      ],
      "metadata": {
        "id": "IYwJnm2v-n3I"
      },
      "execution_count": null,
      "outputs": []
    },
    {
      "cell_type": "markdown",
      "source": [
        "**Baseline (Most Frequent)**"
      ],
      "metadata": {
        "id": "-rDpnTUG_17_"
      }
    },
    {
      "cell_type": "code",
      "source": [
        "base_line = DummyClassifier(strategy='most_frequent')\n",
        "base_line.fit(x_train, y_train)\n",
        "\n",
        "pred_train = base_line.predict(train)\n",
        "pred_test = base_line.predict(test)\n",
        "\n",
        "evaluate_train()\n",
        "evaluate_test()"
      ],
      "metadata": {
        "colab": {
          "base_uri": "https://localhost:8080/"
        },
        "id": "ZEY1xJvA_2Mp",
        "outputId": "153e1fed-7f58-4fe3-deda-a91edb74ec2f"
      },
      "execution_count": null,
      "outputs": [
        {
          "output_type": "stream",
          "name": "stdout",
          "text": [
            "0    532\n",
            "1    428\n",
            "Name: 4, dtype: int64 \n",
            "\n",
            "{0: 960} \n",
            "\n",
            "train - accuracy_score:  0.5541666666666667\n",
            "train - balanced_accuracy_score:  0.5\n",
            "train - recall_score:  0.0\n",
            "train - preision_score:  0.0\n",
            "train - f1_score:  0.0\n",
            "train - brier_score_loss:  0.44583333333333336\n",
            "\n",
            "0    121\n",
            "1     85\n",
            "Name: 4, dtype: int64 \n",
            "\n",
            "{0: 206} \n",
            "\n",
            "test - accuracy_score:  0.587378640776699\n",
            "test - balanced_accuracy_score:  0.5\n",
            "test - recall_score:  0.0\n",
            "test - preision_score:  0.0\n",
            "test - f1_score:  0.0\n",
            "test - brier_score_loss:  0.41262135922330095\n",
            "\n"
          ]
        }
      ]
    },
    {
      "cell_type": "markdown",
      "source": [
        "**Jól látható, hogy itt a leggyakoribb felcímkézés messze nem olyan hatékony, mint a kiegyenlítetlen banki adatbázisunknál.**"
      ],
      "metadata": {
        "id": "gHqUm8cwALFC"
      }
    },
    {
      "cell_type": "markdown",
      "source": [
        "**Gaussian Naive-Bayes**"
      ],
      "metadata": {
        "id": "hvL9i8XSBJJ1"
      }
    },
    {
      "cell_type": "code",
      "source": [
        "model = GaussianNB()\n",
        "model.fit(x_train, y_train)\n",
        "\n",
        "pred_train = model.predict(x_train)\n",
        "pred_test = model.predict(x_test)\n",
        "\n",
        "evaluate_train()\n",
        "evaluate_test()"
      ],
      "metadata": {
        "colab": {
          "base_uri": "https://localhost:8080/"
        },
        "id": "D262lyBpATvc",
        "outputId": "f1274722-e525-4411-aeed-fbbe321a2660"
      },
      "execution_count": null,
      "outputs": [
        {
          "output_type": "stream",
          "name": "stdout",
          "text": [
            "0    532\n",
            "1    428\n",
            "Name: 4, dtype: int64 \n",
            "\n",
            "{0: 568, 1: 392} \n",
            "\n",
            "train - accuracy_score:  0.8479166666666667\n",
            "train - balanced_accuracy_score:  0.8419998594617384\n",
            "train - recall_score:  0.7873831775700935\n",
            "train - preision_score:  0.8596938775510204\n",
            "train - f1_score:  0.8219512195121952\n",
            "train - brier_score_loss:  0.15208333333333332\n",
            "\n",
            "0    121\n",
            "1     85\n",
            "Name: 4, dtype: int64 \n",
            "\n",
            "{0: 129, 1: 77} \n",
            "\n",
            "test - accuracy_score:  0.8543689320388349\n",
            "test - balanced_accuracy_score:  0.8427807486631016\n",
            "test - recall_score:  0.7764705882352941\n",
            "test - preision_score:  0.8571428571428571\n",
            "test - f1_score:  0.8148148148148148\n",
            "test - brier_score_loss:  0.14563106796116504\n",
            "\n"
          ]
        }
      ]
    },
    {
      "cell_type": "markdown",
      "source": [
        "**Gaussian Mixture Model**"
      ],
      "metadata": {
        "id": "Be4rPIA7BzqX"
      }
    },
    {
      "cell_type": "code",
      "source": [
        "def make_prediction(gmms, x):\n",
        "    n_samples = x.shape[0]\n",
        "    p_test = np.zeros(n_samples)\n",
        "    for i in range(n_samples):\n",
        "        pred_val = -np.inf\n",
        "        for c_idx in range(len(gmms)):\n",
        "            dense_val = gmms[c_idx].score(x[i:(i+1)])\n",
        "            if dense_val > pred_val:\n",
        "                p_test[i]=c_idx\n",
        "                pred_val=dense_val\n",
        "    return p_test\n",
        "\n",
        "#cov_type = 'spherical'\n",
        "#cov_type = 'full'\n",
        "#cov_type = 'diag'\n",
        "cov_type = 'tied'\n",
        "n_components = 1\n",
        "gmm_models = {0:GaussianMixture(n_components=n_components, covariance_type=cov_type),\n",
        "              1:GaussianMixture(n_components=n_components, covariance_type=cov_type)}\n",
        "\n",
        "for (c_idx, model) in gmm_models.items():\n",
        "    #print(x_train[y_train == c_idx].shape)\n",
        "    model.fit(x_train[y_train == c_idx])\n",
        "\n",
        "pred_train = make_prediction(gmm_models, x_train)\n",
        "#print('train_acc: ', accuracy_score(y_train, pred_train))\n",
        "pred_test = make_prediction(gmm_models, x_test)\n",
        "#print('test_acc: ', accuracy_score(y_test, pred_test))\n",
        "\n",
        "evaluate_train()\n",
        "evaluate_test()"
      ],
      "metadata": {
        "colab": {
          "base_uri": "https://localhost:8080/"
        },
        "id": "OcmIcC7QBzEm",
        "outputId": "210cb3e8-a8dc-45af-fd88-7a7a8e01ee7a"
      },
      "execution_count": null,
      "outputs": [
        {
          "output_type": "stream",
          "name": "stdout",
          "text": [
            "0    532\n",
            "1    428\n",
            "Name: 4, dtype: int64 \n",
            "\n",
            "{0.0: 520, 1.0: 440} \n",
            "\n",
            "train - accuracy_score:  0.9875\n",
            "train - balanced_accuracy_score:  0.9887218045112782\n",
            "train - recall_score:  1.0\n",
            "train - preision_score:  0.9727272727272728\n",
            "train - f1_score:  0.9861751152073733\n",
            "train - brier_score_loss:  0.0125\n",
            "\n",
            "0    121\n",
            "1     85\n",
            "Name: 4, dtype: int64 \n",
            "\n",
            "{0.0: 118, 1.0: 88} \n",
            "\n",
            "test - accuracy_score:  0.9854368932038835\n",
            "test - balanced_accuracy_score:  0.9876033057851239\n",
            "test - recall_score:  1.0\n",
            "test - preision_score:  0.9659090909090909\n",
            "test - f1_score:  0.9826589595375723\n",
            "test - brier_score_loss:  0.014563106796116505\n",
            "\n"
          ]
        }
      ]
    },
    {
      "cell_type": "markdown",
      "source": [
        "**K Nearest Neighbour**"
      ],
      "metadata": {
        "id": "1w7CmJEMC85E"
      }
    },
    {
      "cell_type": "code",
      "source": [
        "k = 2\n",
        "knn = KNeighborsClassifier(n_neighbors = k)\n",
        "\n",
        "knn.fit(x_train, y_train)\n",
        "\n",
        "pred_train = knn.predict(x_train)\n",
        "pred_test = knn.predict(x_test)\n",
        "\n",
        "evaluate_train()\n",
        "evaluate_test()"
      ],
      "metadata": {
        "colab": {
          "base_uri": "https://localhost:8080/"
        },
        "id": "VY4sG2cBC9Sk",
        "outputId": "c4c85abe-115e-4665-9c05-f606bb96e1a3"
      },
      "execution_count": null,
      "outputs": [
        {
          "output_type": "stream",
          "name": "stdout",
          "text": [
            "0    532\n",
            "1    428\n",
            "Name: 4, dtype: int64 \n",
            "\n",
            "{0: 532, 1: 428} \n",
            "\n",
            "train - accuracy_score:  1.0\n",
            "train - balanced_accuracy_score:  1.0\n",
            "train - recall_score:  1.0\n",
            "train - preision_score:  1.0\n",
            "train - f1_score:  1.0\n",
            "train - brier_score_loss:  0.0\n",
            "\n",
            "0    121\n",
            "1     85\n",
            "Name: 4, dtype: int64 \n",
            "\n",
            "{0: 121, 1: 85} \n",
            "\n",
            "test - accuracy_score:  1.0\n",
            "test - balanced_accuracy_score:  1.0\n",
            "test - recall_score:  1.0\n",
            "test - preision_score:  1.0\n",
            "test - f1_score:  1.0\n",
            "test - brier_score_loss:  0.0\n",
            "\n"
          ]
        }
      ]
    },
    {
      "cell_type": "markdown",
      "source": [
        "**Nearest Centroid**"
      ],
      "metadata": {
        "id": "LIozl5XvDsWy"
      }
    },
    {
      "cell_type": "code",
      "source": [
        "nc = NearestCentroid()\n",
        "nc.fit(x_train, y_train)\n",
        "\n",
        "pred_train = nc.predict(x_train)\n",
        "pred_test = nc.predict(x_test)\n",
        "\n",
        "evaluate_train()\n",
        "evaluate_test()"
      ],
      "metadata": {
        "colab": {
          "base_uri": "https://localhost:8080/"
        },
        "id": "dpIOeNvFDsmd",
        "outputId": "6ff8257a-2ae8-483b-b76f-2ba5b09ad38e"
      },
      "execution_count": null,
      "outputs": [
        {
          "output_type": "stream",
          "name": "stdout",
          "text": [
            "0    532\n",
            "1    428\n",
            "Name: 4, dtype: int64 \n",
            "\n",
            "{0: 558, 1: 402} \n",
            "\n",
            "train - accuracy_score:  0.85\n",
            "train - balanced_accuracy_score:  0.8452498067598904\n",
            "train - recall_score:  0.8014018691588785\n",
            "train - preision_score:  0.8532338308457711\n",
            "train - f1_score:  0.8265060240963855\n",
            "train - brier_score_loss:  0.15\n",
            "\n",
            "0    121\n",
            "1     85\n",
            "Name: 4, dtype: int64 \n",
            "\n",
            "{0: 130, 1: 76} \n",
            "\n",
            "test - accuracy_score:  0.8495145631067961\n",
            "test - balanced_accuracy_score:  0.8368983957219251\n",
            "test - recall_score:  0.7647058823529411\n",
            "test - preision_score:  0.8552631578947368\n",
            "test - f1_score:  0.8074534161490684\n",
            "test - brier_score_loss:  0.15048543689320387\n",
            "\n"
          ]
        }
      ]
    },
    {
      "cell_type": "markdown",
      "source": [
        "**Összességében elmondhatjuk, hogy a korábbiakban megalkotott módszereink más adatbázison is működőképesek (természetesen az adathalmaz megfelelő formátumúra hozása után). Az is jól látszik, hogy a banki adatbázisunk több jellemzővel, és lényegesen több adattal komolyabb feldolgozást igényelne hasonlóan magas pontossági értékek eléréséhez, a kisebb és egyszerűbb adatbázison jóval pontosabb predikciókat tudtunk elérni.**"
      ],
      "metadata": {
        "id": "Qi4cH7f3EXgh"
      }
    }
  ]
}